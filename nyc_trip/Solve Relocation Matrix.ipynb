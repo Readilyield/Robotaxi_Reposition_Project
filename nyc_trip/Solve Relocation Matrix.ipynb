{
 "cells": [
  {
   "cell_type": "code",
   "execution_count": null,
   "metadata": {},
   "outputs": [],
   "source": [
    "import numpy as np\n",
    "import gurobipy as gp\n",
    "from gurobipy import GRB, quicksum\n",
    "\n",
    "from constants import (\n",
    "    MAX_TAXI_ZONE_ID,\n",
    "    location_ids,\n",
    "    excluded_location_ids,\n",
    "    location_id_to_index,\n",
    "    num_locations,\n",
    "    taxi_type,\n",
    "    YEARS,\n",
    "    MONTHS\n",
    ")"
   ]
  },
  {
   "cell_type": "markdown",
   "metadata": {},
   "source": [
    "$$\\begin{align*}\n",
    "\\max_{\\bar{e}, \\bar{f}, \\bar{a}} \\quad & \\frac{1}{K\\Delta} \\sum_{k=0}^{K-1} \\sum_{i=1}^r \\sum_{j=1}^r \\bar{a}_i \\lambda_i(t + k\\Delta) P_{ij}(t + k\\Delta) c_{ij}(t + k\\Delta) \\cdot\\Delta \\\\\n",
    "\\text{subject to} \\quad \n",
    "\n",
    "& \\frac{1}{K\\Delta} \\sum_{k=0}^{K-1} \\lambda_i(t + k\\Delta) P_{ij}(t + k\\Delta) \\bar{a}_i \\cdot \\Delta  = \\frac{1}{K\\Delta} \\sum_{k=0}^{K-1} \\mu_{ij}(t + k\\Delta) \\bar{f}_{ij} \\cdot \\Delta \\\\\n",
    "\n",
    "& \\frac{1}{K\\Delta} \\left(\\sum_{k=0}^{K-1} \\mu_{ij}(t + k\\Delta) \\cdot \\Delta\\right) \\bar{e}_{ij} \\leq \\sum_{j=1}^r \\left(\\frac{1}{K\\Delta} \\sum_{k=0}^{K-1} \\mu_{ji}(t + k\\Delta)  \\cdot \\Delta \\right)\\bar{f}_{ji}\\\\\n",
    "\n",
    "& \\sum_{\\substack{j=1 \\\\ j \\neq i}}^r \\frac{1}{K\\Delta} \\left(\\sum_{k=0}^{K-1} \\mu_{ji}(t + k\\Delta) \\cdot \\Delta\\right) \\bar{e}_{ji} \\leq \\frac{1}{K\\Delta}\\left(\\sum_{k=0}^{K-1} \\lambda_i(t + k\\Delta)\\cdot \\Delta \\right) \\bar{a}_i \\\\\n",
    "\n",
    "& \\frac{1}{K\\Delta} \\left(\\sum_{k=0}^{K-1} \\lambda_i(t + k\\Delta)\\cdot \\Delta \\right) \\bar{a}_i  \\\\\n",
    "\n",
    "&\\quad\\leq \\sum_{\\substack{j=1 \\\\ j \\neq i}}^r \\left(\\frac{1}{K\\Delta} \\sum_{k=0}^{K-1} \\mu_{ji}(t + k\\Delta)  \\cdot \\Delta \\right)\\bar{e}_{ji} + \\sum_{j=1}^r \\left(\\frac{1}{K\\Delta} \\sum_{k=0}^{K-1} \\mu_{ji}(t + k\\Delta) \\cdot \\Delta \\right)\\bar{f}_{ji} \\\\\n",
    "\n",
    "& \\frac{1}{K\\Delta} \\left(\\sum_{k=0}^{K-1} \\lambda_i(t + k\\Delta)\\cdot \\Delta \\right) \\bar{a}_i + \\sum_{\\substack{j=1 \\\\ j \\neq i}}^r \\left(\\frac{1}{K\\Delta} \\sum_{k=0}^{K-1} \\mu_{ij}(t + k\\Delta)  \\cdot \\Delta \\right)\\bar{e}_{ij} \\\\\n",
    "\n",
    "&\\quad = \\sum_{\\substack{j=1 \\\\ j \\neq i}}^r \\left(\\frac{1}{K\\Delta} \\sum_{k=0}^{K-1} \\mu_{ji}(t + k\\Delta)  \\cdot \\Delta \\right)\\bar{e}_{ji} + \\sum_{j=1}^r \\left(\\frac{1}{K\\Delta} \\sum_{k=0}^{K-1} \\mu_{ji}(t + k\\Delta) \\cdot \\Delta \\right)\\bar{f}_{ji} \\\\\n",
    "& e_{ij}, f_{ij} \\in [0, 1], \\sum_{i=1}^r \\sum_{j=1}^r e_{ij} + f_{ij} = 1\\\\\n",
    "& 0 \\leq \\bar{a}_i \\leq 1\n",
    "\\end{align*}\n",
    "$$"
   ]
  },
  {
   "cell_type": "code",
   "execution_count": null,
   "metadata": {},
   "outputs": [],
   "source": [
    "Delta = 20 # in minutes\n",
    "T_max = int(24 * (60 // Delta))"
   ]
  },
  {
   "cell_type": "code",
   "execution_count": 3,
   "metadata": {},
   "outputs": [],
   "source": [
    "with np.load('trip_counts.npz') as data:\n",
    "    trip_counts = data['trip_counts']\n",
    "    num_dates = data['num_dates']\n",
    "\n",
    "with np.load('mu.npz') as data:\n",
    "    mu = data['mu']\n",
    "    \n",
    "lambda_ = trip_counts.sum(axis=2) / (Delta / 60 * num_dates)\n",
    "\n",
    "P = trip_counts / trip_counts.sum(axis=2, keepdims=True)"
   ]
  },
  {
   "cell_type": "code",
   "execution_count": 4,
   "metadata": {},
   "outputs": [],
   "source": [
    "def solve_routing(lambda_, mu, P, Delta, t_start=0, K=6):\n",
    "    r = lambda_.shape[1]\n",
    "    model = gp.Model(\"lookahead_empty_car_routing\")\n",
    "    \n",
    "    # Variables\n",
    "    a = model.addVars(r, lb=0, ub=1, name=\"a\")\n",
    "    e = model.addVars(r, r, lb=0, ub=1, name=\"e\")\n",
    "    f = model.addVars(r, r, lb=0, ub=1, name=\"f\")\n",
    "    \n",
    "    # Objective\n",
    "    model.setObjective(\n",
    "        (1/K) * quicksum(\n",
    "            quicksum(\n",
    "                quicksum(a[i] * lambda_[t_start + k, i] * P[t_start + k, i, j] * Delta\n",
    "                         for j in range(r))\n",
    "                for i in range(r))\n",
    "            for k in range(K)),\n",
    "        GRB.MAXIMIZE\n",
    "    )\n",
    "    \n",
    "    # Constraint: ride flow balance (eq. 10a)\n",
    "    for i in range(r):\n",
    "        for j in range(r):\n",
    "            lhs = (1/(K*Delta)) * quicksum(lambda_[t_start + k, i] * P[t_start + k, i, j] * a[i] * Delta for k in range(K))\n",
    "            rhs = (1/(K*Delta)) * quicksum(mu[t_start + k, i, j] * f[i,j] * Delta for k in range(K))\n",
    "            model.addConstr(lhs == rhs, name=f\"ride_flow_balance_{i}_{j}\")\n",
    "    \n",
    "    # Constraint: empty car flow balance (eq. 10b)\n",
    "    for i in range(r):\n",
    "        for j in range(r):\n",
    "            if i != j:\n",
    "                lhs = (1/(K*Delta)) * quicksum(mu[t_start + k, i, j] * e[i,j] * Delta for k in range(K))\n",
    "                rhs = (1/(K*Delta)) * quicksum(mu[t_start + k, j, i] * f[j,i] * Delta for k in range(K))\n",
    "                model.addConstr(lhs <= rhs, name=f\"empty_car_flow_{i}_{j}\")\n",
    "    \n",
    "    # Constraint: supply conservation lower bound (eq. 10c, first inequality)\n",
    "    for i in range(r):\n",
    "        lhs = quicksum(\n",
    "            (1/(K*Delta)) * quicksum(mu[t_start + k, j, i] * e[j,i] * Delta for k in range(K))\n",
    "            for j in range(r) if j != i\n",
    "        )\n",
    "        rhs = (1/(K*Delta)) * quicksum(lambda_[t_start + k, i] * a[i] * Delta for k in range(K))\n",
    "        model.addConstr(lhs <= rhs, name=f\"supply_lower_{i}\")\n",
    "    \n",
    "    # Constraint: supply conservation upper bound (eq. 10c, second inequality)\n",
    "    for i in range(r):\n",
    "        lhs = (1/(K*Delta)) * quicksum(lambda_[t_start + k, i] * a[i] * Delta for k in range(K))\n",
    "        rhs = quicksum(\n",
    "            (1/(K*Delta)) * quicksum(mu[t_start + k, j, i] * e[j,i] * Delta for k in range(K))\n",
    "            for j in range(r) if j != i\n",
    "        ) + \\\n",
    "        quicksum(\n",
    "            (1/(K*Delta)) * quicksum(mu[t_start + k, j, i] * f[j,i] * Delta for k in range(K))\n",
    "            for j in range(r)\n",
    "        )\n",
    "        model.addConstr(lhs <= rhs, name=f\"supply_upper_{i}\")\n",
    "    \n",
    "    # Constraint: Car flow balance (eq. 10d)\n",
    "    for i in range(r):\n",
    "        lhs = (1/(K*Delta)) * quicksum(lambda_[t_start + k, i] * a[i] * Delta for k in range(K)) + \\\n",
    "              quicksum(\n",
    "                  (1/(K*Delta)) * quicksum(mu[t_start + k, i, j] * e[i,j] * Delta for k in range(K))\n",
    "                  for j in range(r) if j != i\n",
    "              )\n",
    "        rhs = quicksum(\n",
    "            (1/(K*Delta)) * quicksum(mu[t_start + k, j, i] * e[j,i] * Delta for k in range(K))\n",
    "            for j in range(r) if j != i\n",
    "        ) + \\\n",
    "        quicksum(\n",
    "            (1/(K*Delta)) * quicksum(mu[t_start + k, j, i] * f[j,i] * Delta for k in range(K))\n",
    "            for j in range(r)\n",
    "        )\n",
    "        model.addConstr(lhs == rhs, name=f\"supply_lower_{i}\")\n",
    "    \n",
    "    # Unit mass constraint\n",
    "    model.addConstr(\n",
    "        quicksum(e[i,j] + f[i,j] for i in range(r) for j in range(r)) == 1,\n",
    "        name=\"unit_mass\"\n",
    "    )\n",
    "    \n",
    "    model.optimize()\n",
    "    \n",
    "    return model, a, e, f\n"
   ]
  },
  {
   "cell_type": "code",
   "execution_count": 14,
   "metadata": {},
   "outputs": [
    {
     "name": "stdout",
     "output_type": "stream",
     "text": [
      "Gurobi Optimizer version 12.0.1 build v12.0.1rc0 (mac64[arm] - Darwin 24.1.0 24B2083)\n",
      "\n",
      "CPU model: Apple M4 Pro\n",
      "Thread count: 14 physical cores, 14 logical processors, using up to 14 threads\n",
      "\n",
      "Optimize a model with 110921 rows, 110685 columns and 552238 nonzeros\n",
      "Model fingerprint: 0xec79d57e\n",
      "Coefficient statistics:\n",
      "  Matrix range     [2e-04, 4e+02]\n",
      "  Objective range  [1e+01, 8e+03]\n",
      "  Bounds range     [1e+00, 1e+00]\n",
      "  RHS range        [1e+00, 1e+00]\n",
      "Presolve removed 110921 rows and 110685 columns\n",
      "Presolve time: 0.03s\n",
      "Presolve: All rows and columns removed\n",
      "Iteration    Objective       Primal Inf.    Dual Inf.      Time\n",
      "       0   -0.0000000e+00   0.000000e+00   0.000000e+00      0s\n",
      "\n",
      "Solved in 0 iterations and 0.06 seconds (0.09 work units)\n",
      "Optimal objective -0.000000000e+00\n"
     ]
    }
   ],
   "source": [
    "t_start = 24\n",
    "K = 4\n",
    "\n",
    "res = solve_routing(lambda_, mu, P, Delta, t_start=t_start, K=K)\n",
    "model, a, e, f = res"
   ]
  },
  {
   "cell_type": "code",
   "execution_count": 16,
   "metadata": {},
   "outputs": [],
   "source": [
    "mu_avg = np.mean(mu[t_start:t_start+K], axis=0)\n",
    "lambda_avg = np.mean(lambda_[t_start:t_start+K], axis=0)\n",
    "r = len(location_ids)\n",
    "\n",
    "def compute_q_matrix(a, e, f, mu_avg, lambda_avg):\n",
    "    \"\"\"\n",
    "    a, e, f: dicts of Gurobi variable values: a[i], e[i,j], f[i,j]\n",
    "    mu_avg: 2D array of shape (r, r) averaged over time\n",
    "    lambda_avg: 1D array of shape (r,) averaged over time\n",
    "    \"\"\"\n",
    "    r = len(a)\n",
    "    q = np.zeros((r, r))\n",
    "\n",
    "    # Precompute denominator for qij and qii\n",
    "    for i in range(r):\n",
    "        denom = sum(mu_avg[k, i] * f[k, i] for k in range(r))\n",
    "\n",
    "        for j in range(r):\n",
    "            if i != j:\n",
    "                if denom > 0:\n",
    "                    q[i, j] = mu_avg[i, j] * e[i, j] / denom\n",
    "                else:\n",
    "                    q[i, j] = 0.0\n",
    "            else:\n",
    "                # qii computation\n",
    "                numerator = lambda_avg[i] * a[i] - sum(\n",
    "                    mu_avg[k, i] * e[k, i] for k in range(r) if k != i\n",
    "                )\n",
    "                q[i, i] = numerator / denom if denom > 0 else 0.0\n",
    "\n",
    "    return q"
   ]
  },
  {
   "cell_type": "code",
   "execution_count": 17,
   "metadata": {},
   "outputs": [],
   "source": [
    "a_vals = {i: a[i].X for i in range(r)}\n",
    "e_vals = {(i, j): e[i, j].X for i in range(r) for j in range(r)}\n",
    "f_vals = {(i, j): f[i, j].X for i in range(r) for j in range(r)}\n",
    "\n",
    "Q = compute_q_matrix(a_vals, e_vals, f_vals, mu_avg, lambda_avg)"
   ]
  },
  {
   "cell_type": "code",
   "execution_count": 18,
   "metadata": {},
   "outputs": [
    {
     "data": {
      "text/plain": [
       "array([[0., 0., 0., ..., 0., 0., 0.],\n",
       "       [0., 0., 0., ..., 0., 0., 0.],\n",
       "       [0., 0., 0., ..., 0., 0., 0.],\n",
       "       ...,\n",
       "       [0., 0., 0., ..., 0., 0., 0.],\n",
       "       [0., 0., 0., ..., 0., 0., 0.],\n",
       "       [0., 0., 0., ..., 0., 0., 0.]])"
      ]
     },
     "execution_count": 18,
     "metadata": {},
     "output_type": "execute_result"
    }
   ],
   "source": [
    "Q"
   ]
  }
 ],
 "metadata": {
  "kernelspec": {
   "display_name": "nyc",
   "language": "python",
   "name": "python3"
  },
  "language_info": {
   "codemirror_mode": {
    "name": "ipython",
    "version": 3
   },
   "file_extension": ".py",
   "mimetype": "text/x-python",
   "name": "python",
   "nbconvert_exporter": "python",
   "pygments_lexer": "ipython3",
   "version": "3.9.21"
  }
 },
 "nbformat": 4,
 "nbformat_minor": 2
}
