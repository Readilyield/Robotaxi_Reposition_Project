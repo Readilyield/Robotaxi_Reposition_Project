{
 "cells": [
  {
   "cell_type": "code",
   "execution_count": 1,
   "metadata": {},
   "outputs": [],
   "source": [
    "import numpy as np\n",
    "import gurobipy as gp\n",
    "from gurobipy import GRB, quicksum\n",
    "from tqdm.notebook import trange\n",
    "\n",
    "from constants import (\n",
    "    MAX_TAXI_ZONE_ID,\n",
    "    location_ids,\n",
    "    excluded_location_ids,\n",
    "    location_id_to_index,\n",
    "    num_locations,\n",
    "    taxi_type,\n",
    ")"
   ]
  },
  {
   "cell_type": "markdown",
   "metadata": {},
   "source": [
    "$$\\begin{align*}\n",
    "\\max_{\\bar{e}, \\bar{f}, \\bar{a}} \\quad & \\frac{1}{K\\Delta} \\sum_{k=0}^{K-1} \\sum_{i=1}^r \\sum_{j=1}^r \\bar{a}_i \\lambda_i(t + k\\Delta) P_{ij}(t + k\\Delta) c_{ij}(t + k\\Delta) \\cdot\\Delta \\\\\n",
    "\\text{subject to} \\quad \n",
    "\n",
    "& \\frac{1}{K\\Delta} \\sum_{k=0}^{K-1} \\lambda_i(t + k\\Delta) P_{ij}(t + k\\Delta) \\bar{a}_i \\cdot \\Delta  = \\frac{1}{K\\Delta} \\sum_{k=0}^{K-1} \\mu_{ij}(t + k\\Delta) \\bar{f}_{ij} \\cdot \\Delta \\\\\n",
    "\n",
    "& \\frac{1}{K\\Delta} \\left(\\sum_{k=0}^{K-1} \\mu_{ij}(t + k\\Delta) \\cdot \\Delta\\right) \\bar{e}_{ij} \\leq \\sum_{j=1}^r \\left(\\frac{1}{K\\Delta} \\sum_{k=0}^{K-1} \\mu_{ji}(t + k\\Delta)  \\cdot \\Delta \\right)\\bar{f}_{ji}\\\\\n",
    "\n",
    "& \\sum_{\\substack{j=1 \\\\ j \\neq i}}^r \\frac{1}{K\\Delta} \\left(\\sum_{k=0}^{K-1} \\mu_{ji}(t + k\\Delta) \\cdot \\Delta\\right) \\bar{e}_{ji} \\leq \\frac{1}{K\\Delta}\\left(\\sum_{k=0}^{K-1} \\lambda_i(t + k\\Delta)\\cdot \\Delta \\right) \\bar{a}_i \\\\\n",
    "\n",
    "& \\frac{1}{K\\Delta} \\left(\\sum_{k=0}^{K-1} \\lambda_i(t + k\\Delta)\\cdot \\Delta \\right) \\bar{a}_i  \\\\\n",
    "\n",
    "&\\quad\\leq \\sum_{\\substack{j=1 \\\\ j \\neq i}}^r \\left(\\frac{1}{K\\Delta} \\sum_{k=0}^{K-1} \\mu_{ji}(t + k\\Delta)  \\cdot \\Delta \\right)\\bar{e}_{ji} + \\sum_{j=1}^r \\left(\\frac{1}{K\\Delta} \\sum_{k=0}^{K-1} \\mu_{ji}(t + k\\Delta) \\cdot \\Delta \\right)\\bar{f}_{ji} \\\\\n",
    "\n",
    "& \\frac{1}{K\\Delta} \\left(\\sum_{k=0}^{K-1} \\lambda_i(t + k\\Delta)\\cdot \\Delta \\right) \\bar{a}_i + \\sum_{\\substack{j=1 \\\\ j \\neq i}}^r \\left(\\frac{1}{K\\Delta} \\sum_{k=0}^{K-1} \\mu_{ij}(t + k\\Delta)  \\cdot \\Delta \\right)\\bar{e}_{ij} \\\\\n",
    "\n",
    "&\\quad = \\sum_{\\substack{j=1 \\\\ j \\neq i}}^r \\left(\\frac{1}{K\\Delta} \\sum_{k=0}^{K-1} \\mu_{ji}(t + k\\Delta)  \\cdot \\Delta \\right)\\bar{e}_{ji} + \\sum_{j=1}^r \\left(\\frac{1}{K\\Delta} \\sum_{k=0}^{K-1} \\mu_{ji}(t + k\\Delta) \\cdot \\Delta \\right)\\bar{f}_{ji} \\\\\n",
    "& e_{ij}, f_{ij} \\in [0, 1], \\sum_{i=1}^r \\sum_{j=1}^r e_{ij} + f_{ij} = 1\\\\\n",
    "& 0 \\leq \\bar{a}_i \\leq 1\n",
    "\\end{align*}\n",
    "$$"
   ]
  },
  {
   "cell_type": "code",
   "execution_count": 2,
   "metadata": {},
   "outputs": [],
   "source": [
    "Delta = 20 # in minutes\n",
    "T_max = int(24 * (60 // Delta))"
   ]
  },
  {
   "cell_type": "code",
   "execution_count": 3,
   "metadata": {},
   "outputs": [],
   "source": [
    "with np.load('trip_counts.npz') as data:\n",
    "    trip_counts = data['trip_counts']\n",
    "    num_dates = data['num_dates']\n",
    "\n",
    "with np.load('mu_cp.npz') as data:\n",
    "    mu = data['mu']\n",
    "    \n",
    "# mask trip_counts by 1 where 0\n",
    "trip_counts[trip_counts == 0] = 1\n",
    "\n",
    "# compute arrival rate\n",
    "lambda_ = trip_counts.sum(axis=2) / (Delta / 60 * num_dates)\n",
    "\n",
    "# normalize trip_counts\n",
    "P = trip_counts / trip_counts.sum(axis=2, keepdims=True)"
   ]
  },
  {
   "cell_type": "code",
   "execution_count": 4,
   "metadata": {},
   "outputs": [],
   "source": [
    "def compute_time_averaged(lambda_, mu, t_start, K, T_max):\n",
    "    time_indices = [(t_start + k) % T_max for k in range(K)]\n",
    "    lambda_avg = np.mean(lambda_[time_indices, :], axis=0)         # shape: (r,)\n",
    "    mu_avg = np.mean(mu[time_indices, :, :], axis=0)               # shape: (r, r)\n",
    "    return lambda_avg, mu_avg\n"
   ]
  },
  {
   "cell_type": "code",
   "execution_count": 5,
   "metadata": {},
   "outputs": [],
   "source": [
    "def solve_routing(lambda_, mu, P, Delta, t_start=0, K=6):\n",
    "    lambda_avg, mu_avg = compute_time_averaged(lambda_, mu, t_start, K, T_max)\n",
    "    P_avg = np.mean(P[[(t_start + k) % T_max for k in range(K)], :, :], axis=0)  # optional if P is time-varying\n",
    "\n",
    "    r = lambda_.shape[1]\n",
    "    model = gp.Model(\"lookahead_empty_car_routing\")\n",
    "    model.Params.LogToConsole = 0\n",
    "    \n",
    "    # Variables\n",
    "    a = model.addVars(r, lb=0, ub=1, name=\"a\")\n",
    "    e = model.addVars(r, r, lb=0, ub=1, name=\"e\")\n",
    "    f = model.addVars(r, r, lb=0, ub=1, name=\"f\")\n",
    "\n",
    "    # Objective\n",
    "    model.setObjective(\n",
    "        quicksum(a[i] * lambda_avg[i] * P_avg[i, j] for i in range(r) for j in range(r)),\n",
    "        GRB.MAXIMIZE\n",
    "    )\n",
    "\n",
    "    # Eq. 10a: Ride flow balance\n",
    "    ride_flow_expr = {\n",
    "        (i, j): a[i] * lambda_avg[i] * P_avg[i, j] - mu_avg[i, j] * f[i, j]\n",
    "        for i in range(r) for j in range(r)\n",
    "    }\n",
    "    model.addConstrs((ride_flow_expr[i, j] == 0 for i in range(r) for j in range(r)), name=\"ride_flow_balance\")\n",
    "\n",
    "    # Eq. 10b: Empty car flow balance\n",
    "    model.addConstrs((\n",
    "        mu_avg[i, j] * e[i, j] <= quicksum(mu_avg[l, i] * f[l, i] for l in range(r))\n",
    "        for i in range(r) for j in range(r) if i != j\n",
    "    ), name=\"empty_car_flow\")\n",
    "\n",
    "    # Eq. 10c: Supply conservation (lower bound)\n",
    "    model.addConstrs((\n",
    "        quicksum(mu_avg[j, i] * e[j, i] for j in range(r) if j != i) <= lambda_avg[i] * a[i]\n",
    "        for i in range(r)\n",
    "    ), name=\"supply_lower\")\n",
    "    \n",
    "    # Eq. 10c: Supply conservation (upper bound)\n",
    "    model.addConstrs((\n",
    "        lambda_avg[i] * a[i] <=\n",
    "        quicksum(mu_avg[j, i] * e[j, i] for j in range(r) if j != i) +\n",
    "        quicksum(mu_avg[j, i] * f[j, i] for j in range(r))\n",
    "        for i in range(r)\n",
    "    ), name=\"supply_upper\")\n",
    "    \n",
    "    # Eq. 10d: Car flow balance\n",
    "    model.addConstrs((\n",
    "        lambda_avg[i] * a[i] +\n",
    "        quicksum(mu_avg[i, j] * e[i, j] for j in range(r) if j != i)\n",
    "        ==\n",
    "        quicksum(mu_avg[j, i] * e[j, i] for j in range(r) if j != i) +\n",
    "        quicksum(mu_avg[j, i] * f[j, i] for j in range(r))\n",
    "        for i in range(r)\n",
    "    ), name=\"car_flow_balance\")\n",
    "    \n",
    "\n",
    "    # Unit mass constraint\n",
    "    model.addConstr(\n",
    "        quicksum(e[i,j] + f[i,j] for i in range(r) for j in range(r)) == 1,\n",
    "        name=\"unit_mass\"\n",
    "    )\n",
    "    \n",
    "    model.optimize()\n",
    "    \n",
    "    return model, a, e, f, lambda_avg, mu_avg\n",
    "\n",
    "def compute_q_matrix(a, e, f, mu_avg, lambda_avg):\n",
    "    \"\"\"\n",
    "    a, e, f: dicts of Gurobi variable values: a[i], e[i,j], f[i,j]\n",
    "    mu_avg: 2D array of shape (r, r) averaged over time\n",
    "    lambda_avg: 1D array of shape (r,) averaged over time\n",
    "    \"\"\"\n",
    "    r = len(a)\n",
    "    q = np.zeros((r, r))\n",
    "\n",
    "    # Precompute denominator for qij and qii\n",
    "    for i in range(r):\n",
    "        denom = sum(mu_avg[k, i] * f[k, i].X for k in range(r))\n",
    "        # print(f\"Denominator is zero for i={i}. Setting q[{i}, :] to 0.\")\n",
    "        for j in range(r):\n",
    "            if i != j:\n",
    "                if denom > 0:\n",
    "                    q[i, j] = mu_avg[i, j] * e[i, j].X / denom\n",
    "                else:\n",
    "                    \n",
    "                    q[i, j] = 0.0\n",
    "            else:\n",
    "                # qii computation\n",
    "                numerator = lambda_avg[i] * a[i].X - sum(\n",
    "                    mu_avg[k, i] * e[k, i].X for k in range(r) if k != i\n",
    "                )\n",
    "                q[i, i] = numerator / denom if denom > 0 else 0.0\n",
    "\n",
    "    return q"
   ]
  },
  {
   "cell_type": "code",
   "execution_count": null,
   "metadata": {},
   "outputs": [
    {
     "data": {
      "application/vnd.jupyter.widget-view+json": {
       "model_id": "8053e16c8814409381fa8a4e9115d7dd",
       "version_major": 2,
       "version_minor": 0
      },
      "text/plain": [
       "  0%|          | 0/72 [00:00<?, ?it/s]"
      ]
     },
     "metadata": {},
     "output_type": "display_data"
    },
    {
     "name": "stdout",
     "output_type": "stream",
     "text": [
      "t_start: 0\n",
      "Set parameter Username\n",
      "Set parameter LicenseID to value 2651514\n",
      "Academic license - for non-commercial use only - expires 2026-04-14\n",
      "Set parameter LogToConsole to value 0\n"
     ]
    }
   ],
   "source": [
    "K = 4\n",
    "Qs = []\n",
    "for t_start in trange(0, T_max, 1):\n",
    "    print(f\"t_start: {t_start}\")\n",
    "    model, a, e, f, lambda_avg, mu_avg = solve_routing(lambda_, mu, P, Delta, t_start=t_start, K=K)\n",
    "    \n",
    "    # Extract the values of the variables\n",
    "    # a_values = np.array([a[i].X for i in range(len(a))])\n",
    "    # e_values = np.array([[e[i,j].X for j in range(len(e))] for i in range(len(e))])\n",
    "    # f_values = np.array([[f[i,j].X for j in range(len(f))] for i in range(len(f))])\n",
    "    \n",
    "    # Compute the Q matrix\n",
    "    Q = compute_q_matrix(a, e, f, mu_avg, lambda_avg)\n",
    "    Qs.append(Q)\n",
    "    \n",
    "    # Rows of Q should sum to 1, by the constraint 10.d.\n",
    "    notsumtoone = np.argwhere(~np.isclose(Q.sum(axis=1), 1.0)).flatten()\n",
    "    print(f\"Number of rows of Q that do not sum to 1: {len(notsumtoone)}\")"
   ]
  },
  {
   "cell_type": "code",
   "execution_count": null,
   "metadata": {},
   "outputs": [],
   "source": [
    "# save Qs as len(Q) x r x r np.ndarray\n",
    "np.array(Qs).dump('Qs.npz')"
   ]
  },
  {
   "cell_type": "code",
   "execution_count": null,
   "metadata": {},
   "outputs": [],
   "source": [
    "# # convert e, f, and a to numpy arrays\n",
    "\n",
    "# e_np = np.zeros((num_locations, num_locations))\n",
    "# f_np = np.zeros((num_locations, num_locations))\n",
    "# a_np = np.zeros(num_locations)\n",
    "\n",
    "# for i in range(num_locations):\n",
    "#     for j in range(num_locations):\n",
    "#         e_np[i, j] = e[i, j].X\n",
    "#         f_np[i, j] = f[i, j].X\n",
    "#     a_np[i] = a[i].X"
   ]
  }
 ],
 "metadata": {
  "kernelspec": {
   "display_name": "nyc",
   "language": "python",
   "name": "python3"
  },
  "language_info": {
   "codemirror_mode": {
    "name": "ipython",
    "version": 3
   },
   "file_extension": ".py",
   "mimetype": "text/x-python",
   "name": "python",
   "nbconvert_exporter": "python",
   "pygments_lexer": "ipython3",
   "version": "3.9.21"
  }
 },
 "nbformat": 4,
 "nbformat_minor": 2
}
