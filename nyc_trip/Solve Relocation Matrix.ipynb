{
 "cells": [
  {
   "cell_type": "code",
   "execution_count": 1,
   "metadata": {},
   "outputs": [],
   "source": [
    "import numpy as np\n",
    "import gurobipy as gp\n",
    "from gurobipy import GRB, quicksum\n",
    "\n",
    "from constants import (\n",
    "    MAX_TAXI_ZONE_ID,\n",
    "    location_ids,\n",
    "    excluded_location_ids,\n",
    "    location_id_to_index,\n",
    "    num_locations,\n",
    "    taxi_type,\n",
    "    YEARS,\n",
    "    MONTHS\n",
    ")"
   ]
  },
  {
   "cell_type": "markdown",
   "metadata": {},
   "source": [
    "$$\\begin{align*}\n",
    "\\max_{\\bar{e}, \\bar{f}, \\bar{a}} \\quad & \\frac{1}{K\\Delta} \\sum_{k=0}^{K-1} \\sum_{i=1}^r \\sum_{j=1}^r \\bar{a}_i \\lambda_i(t + k\\Delta) P_{ij}(t + k\\Delta) c_{ij}(t + k\\Delta) \\cdot\\Delta \\\\\n",
    "\\text{subject to} \\quad \n",
    "\n",
    "& \\frac{1}{K\\Delta} \\sum_{k=0}^{K-1} \\lambda_i(t + k\\Delta) P_{ij}(t + k\\Delta) \\bar{a}_i \\cdot \\Delta  = \\frac{1}{K\\Delta} \\sum_{k=0}^{K-1} \\mu_{ij}(t + k\\Delta) \\bar{f}_{ij} \\cdot \\Delta \\\\\n",
    "\n",
    "& \\frac{1}{K\\Delta} \\left(\\sum_{k=0}^{K-1} \\mu_{ij}(t + k\\Delta) \\cdot \\Delta\\right) \\bar{e}_{ij} \\leq \\sum_{j=1}^r \\left(\\frac{1}{K\\Delta} \\sum_{k=0}^{K-1} \\mu_{ji}(t + k\\Delta)  \\cdot \\Delta \\right)\\bar{f}_{ji}\\\\\n",
    "\n",
    "& \\sum_{\\substack{j=1 \\\\ j \\neq i}}^r \\frac{1}{K\\Delta} \\left(\\sum_{k=0}^{K-1} \\mu_{ji}(t + k\\Delta) \\cdot \\Delta\\right) \\bar{e}_{ji} \\leq \\frac{1}{K\\Delta}\\left(\\sum_{k=0}^{K-1} \\lambda_i(t + k\\Delta)\\cdot \\Delta \\right) \\bar{a}_i \\\\\n",
    "\n",
    "& \\frac{1}{K\\Delta} \\left(\\sum_{k=0}^{K-1} \\lambda_i(t + k\\Delta)\\cdot \\Delta \\right) \\bar{a}_i  \\\\\n",
    "\n",
    "&\\quad\\leq \\sum_{\\substack{j=1 \\\\ j \\neq i}}^r \\left(\\frac{1}{K\\Delta} \\sum_{k=0}^{K-1} \\mu_{ji}(t + k\\Delta)  \\cdot \\Delta \\right)\\bar{e}_{ji} + \\sum_{j=1}^r \\left(\\frac{1}{K\\Delta} \\sum_{k=0}^{K-1} \\mu_{ji}(t + k\\Delta) \\cdot \\Delta \\right)\\bar{f}_{ji} \\\\\n",
    "\n",
    "& \\frac{1}{K\\Delta} \\left(\\sum_{k=0}^{K-1} \\lambda_i(t + k\\Delta)\\cdot \\Delta \\right) \\bar{a}_i + \\sum_{\\substack{j=1 \\\\ j \\neq i}}^r \\left(\\frac{1}{K\\Delta} \\sum_{k=0}^{K-1} \\mu_{ij}(t + k\\Delta)  \\cdot \\Delta \\right)\\bar{e}_{ij} \\\\\n",
    "\n",
    "&\\quad = \\sum_{\\substack{j=1 \\\\ j \\neq i}}^r \\left(\\frac{1}{K\\Delta} \\sum_{k=0}^{K-1} \\mu_{ji}(t + k\\Delta)  \\cdot \\Delta \\right)\\bar{e}_{ji} + \\sum_{j=1}^r \\left(\\frac{1}{K\\Delta} \\sum_{k=0}^{K-1} \\mu_{ji}(t + k\\Delta) \\cdot \\Delta \\right)\\bar{f}_{ji} \\\\\n",
    "& e_{ij}, f_{ij} \\in [0, 1], \\sum_{i=1}^r \\sum_{j=1}^r e_{ij} + f_{ij} = 1\\\\\n",
    "& 0 \\leq \\bar{a}_i \\leq 1\n",
    "\\end{align*}\n",
    "$$"
   ]
  },
  {
   "cell_type": "code",
   "execution_count": 2,
   "metadata": {},
   "outputs": [],
   "source": [
    "Delta = 20 # in minutes\n",
    "T_max = int(24 * (60 // Delta))"
   ]
  },
  {
   "cell_type": "code",
   "execution_count": 3,
   "metadata": {},
   "outputs": [],
   "source": [
    "with np.load('trip_counts.npz') as data:\n",
    "    trip_counts = data['trip_counts']\n",
    "    num_dates = data['num_dates']\n",
    "\n",
    "with np.load('mu.npz') as data:\n",
    "    mu = data['mu']\n",
    "    \n",
    "lambda_ = trip_counts.sum(axis=2) / (Delta / 60 * num_dates)\n",
    "\n",
    "P = trip_counts / trip_counts.sum(axis=2, keepdims=True)"
   ]
  },
  {
   "cell_type": "code",
   "execution_count": 4,
   "metadata": {},
   "outputs": [],
   "source": [
    "mu_masked = np.nan_to_num(mu, nan=0.0)"
   ]
  },
  {
   "cell_type": "code",
   "execution_count": 5,
   "metadata": {},
   "outputs": [],
   "source": [
    "def compute_time_averaged(lambda_, mu, t_start, K, T_max):\n",
    "    time_indices = [(t_start + k) % T_max for k in range(K)]\n",
    "    lambda_avg = np.mean(lambda_[time_indices, :], axis=0)         # shape: (r,)\n",
    "    mu_avg = np.mean(mu[time_indices, :, :], axis=0)               # shape: (r, r)\n",
    "    return lambda_avg, mu_avg\n"
   ]
  },
  {
   "cell_type": "code",
   "execution_count": 6,
   "metadata": {},
   "outputs": [],
   "source": [
    "def solve_routing(lambda_, mu, P, Delta, t_start=0, K=6):\n",
    "    lambda_avg, mu_avg = compute_time_averaged(lambda_, mu, t_start, K, T_max)\n",
    "    P_avg = np.mean(P[[(t_start + k) % T_max for k in range(K)], :, :], axis=0)  # optional if P is time-varying\n",
    "\n",
    "    r = lambda_.shape[1]\n",
    "    model = gp.Model(\"lookahead_empty_car_routing\")\n",
    "    model.Params.LogToConsole = 1\n",
    "    \n",
    "    # Variables\n",
    "    a = model.addVars(r, lb=0, ub=1, name=\"a\")\n",
    "    e = model.addVars(r, r, lb=0, ub=1, name=\"e\")\n",
    "    f = model.addVars(r, r, lb=0, ub=1, name=\"f\")\n",
    "\n",
    "    # Objective\n",
    "    model.setObjective(\n",
    "        quicksum(a[i] * lambda_avg[i] * P_avg[i, j] for i in range(r) for j in range(r)),\n",
    "        GRB.MAXIMIZE\n",
    "    )\n",
    "\n",
    "    # Eq. 10a: Ride flow balance\n",
    "    ride_flow_expr = {\n",
    "        (i, j): a[i] * lambda_avg[i] * P_avg[i, j] - mu_avg[i, j] * f[i, j]\n",
    "        for i in range(r) for j in range(r)\n",
    "    }\n",
    "    model.addConstrs((ride_flow_expr[i, j] == 0 for i in range(r) for j in range(r)), name=\"ride_flow_balance\")\n",
    "\n",
    "    # Eq. 10b: Empty car flow balance\n",
    "    model.addConstrs((\n",
    "        mu_avg[i, j] * e[i, j] <= quicksum(mu_avg[l, i] * f[l, i] for l in range(r))\n",
    "        for i in range(r) for j in range(r) if i != j\n",
    "    ), name=\"empty_car_flow\")\n",
    "\n",
    "    # Eq. 10c: Supply conservation (lower bound)\n",
    "    model.addConstrs((\n",
    "        quicksum(mu_avg[j, i] * e[j, i] for j in range(r) if j != i) <= lambda_avg[i] * a[i]\n",
    "        for i in range(r)\n",
    "    ), name=\"supply_lower\")\n",
    "    \n",
    "    # Eq. 10c: Supply conservation (upper bound)\n",
    "    model.addConstrs((\n",
    "        lambda_avg[i] * a[i] <=\n",
    "        quicksum(mu_avg[j, i] * e[j, i] for j in range(r) if j != i) +\n",
    "        quicksum(mu_avg[j, i] * f[j, i] for j in range(r))\n",
    "        for i in range(r)\n",
    "    ), name=\"supply_upper\")\n",
    "    \n",
    "    # Eq. 10d: Car flow balance\n",
    "    model.addConstrs((\n",
    "        lambda_avg[i] * a[i] +\n",
    "        quicksum(mu_avg[i, j] * e[i, j] for j in range(r) if j != i)\n",
    "        ==\n",
    "        quicksum(mu_avg[j, i] * e[j, i] for j in range(r) if j != i) +\n",
    "        quicksum(mu_avg[j, i] * f[j, i] for j in range(r))\n",
    "        for i in range(r)\n",
    "    ), name=\"car_flow_balance\")\n",
    "    \n",
    "\n",
    "    # Unit mass constraint\n",
    "    model.addConstr(\n",
    "        quicksum(e[i,j] + f[i,j] for i in range(r) for j in range(r)) == 1,\n",
    "        name=\"unit_mass\"\n",
    "    )\n",
    "    \n",
    "    model.optimize()\n",
    "    \n",
    "    return model, a, e, f, lambda_avg, mu_avg\n"
   ]
  },
  {
   "cell_type": "code",
   "execution_count": 7,
   "metadata": {},
   "outputs": [
    {
     "name": "stdout",
     "output_type": "stream",
     "text": [
      "Set parameter Username\n",
      "Set parameter LicenseID to value 2651514\n",
      "Academic license - for non-commercial use only - expires 2026-04-14\n",
      "Set parameter LogToConsole to value 1\n",
      "Gurobi Optimizer version 12.0.1 build v12.0.1rc0 (mac64[arm] - Darwin 24.1.0 24B2083)\n",
      "\n",
      "CPU model: Apple M4 Pro\n",
      "Thread count: 14 physical cores, 14 logical processors, using up to 14 threads\n",
      "\n",
      "Optimize a model with 110921 rows, 110685 columns and 12790692 nonzeros\n",
      "Model fingerprint: 0xb7100257\n",
      "Coefficient statistics:\n",
      "  Matrix range     [9e-06, 4e+02]\n",
      "  Objective range  [6e-01, 4e+02]\n",
      "  Bounds range     [1e+00, 1e+00]\n",
      "  RHS range        [1e+00, 1e+00]\n",
      "Presolve removed 29765 rows and 30000 columns (presolve time = 9s)...\n",
      "Presolve removed 39765 rows and 40000 columns (presolve time = 19s)...\n",
      "Presolve removed 49765 rows and 50000 columns (presolve time = 32s)...\n",
      "Presolve removed 58266 rows and 58501 columns (presolve time = 49s)...\n",
      "Presolve removed 58266 rows and 58501 columns (presolve time = 51s)...\n",
      "Presolve removed 58266 rows and 58501 columns\n",
      "Presolve time: 50.80s\n",
      "Presolved: 52655 rows, 52184 columns, 12050287 nonzeros\n",
      "\n",
      "Concurrent LP optimizer: primal simplex, dual simplex, and barrier\n",
      "Showing barrier log only...\n",
      "\n",
      "Ordering time: 0.28s\n",
      "\n",
      "Barrier statistics:\n",
      " Dense cols : 235\n",
      " AA' NZ     : 1.213e+07\n",
      " Factor NZ  : 1.336e+07 (roughly 200 MB of memory)\n",
      " Factor Ops : 3.659e+09 (less than 1 second per iteration)\n",
      " Threads    : 12\n",
      "\n",
      "                  Objective                Residual\n",
      "Iter       Primal          Dual         Primal    Dual     Compl     Time\n",
      "   0   1.21400433e-01  3.95619092e-07  1.88e+02 2.31e-03  4.45e-03    53s\n",
      "   1   1.08059637e-01  2.84924809e-04  1.57e+02 3.61e-02  3.01e-03    54s\n",
      "   2   7.90992657e-02  4.00366745e-04  8.99e+01 1.03e-02  1.40e-03    54s\n",
      "\n",
      "Barrier performed 2 iterations in 54.85 seconds (49.20 work units)\n",
      "Barrier solve interrupted - model solved by another algorithm\n",
      "\n",
      "\n",
      "Solved with dual simplex\n",
      "Iteration    Objective       Primal Inf.    Dual Inf.      Time\n",
      "     335    8.7356552e-04   1.396388e-06   1.312475e+08     55s\n",
      "Extra simplex iterations after uncrush: 5\n",
      "     340    8.7356519e-04   0.000000e+00   0.000000e+00     55s\n",
      "\n",
      "Solved in 340 iterations and 55.48 seconds (65.94 work units)\n",
      "Optimal objective  8.735651938e-04\n"
     ]
    }
   ],
   "source": [
    "t_start = 24\n",
    "K = 4\n",
    "\n",
    "res = solve_routing(lambda_, mu_masked, P, Delta, t_start=t_start, K=K)\n",
    "model, a, e, f, lambda_avg, mu_avg = res"
   ]
  },
  {
   "cell_type": "code",
   "execution_count": 8,
   "metadata": {},
   "outputs": [],
   "source": [
    "# # convert e, f, and a to numpy arrays\n",
    "\n",
    "# e_np = np.zeros((num_locations, num_locations))\n",
    "# f_np = np.zeros((num_locations, num_locations))\n",
    "# a_np = np.zeros(num_locations)\n",
    "\n",
    "# for i in range(num_locations):\n",
    "#     for j in range(num_locations):\n",
    "#         e_np[i, j] = e[i, j].X\n",
    "#         f_np[i, j] = f[i, j].X\n",
    "#     a_np[i] = a[i].X"
   ]
  },
  {
   "cell_type": "code",
   "execution_count": 9,
   "metadata": {},
   "outputs": [],
   "source": [
    "r = len(location_ids)\n",
    "\n",
    "def compute_q_matrix(a, e, f, mu_avg, lambda_avg):\n",
    "    \"\"\"\n",
    "    a, e, f: dicts of Gurobi variable values: a[i], e[i,j], f[i,j]\n",
    "    mu_avg: 2D array of shape (r, r) averaged over time\n",
    "    lambda_avg: 1D array of shape (r,) averaged over time\n",
    "    \"\"\"\n",
    "    r = len(a)\n",
    "    q = np.zeros((r, r))\n",
    "\n",
    "    # Precompute denominator for qij and qii\n",
    "    for i in range(r):\n",
    "        denom = sum(mu_avg[k, i] * f[k, i].X for k in range(r))\n",
    "\n",
    "        for j in range(r):\n",
    "            if i != j:\n",
    "                if denom > 0:\n",
    "                    q[i, j] = mu_avg[i, j] * e[i, j].X / denom\n",
    "                else:\n",
    "                    print(f\"Denominator is zero for i={i}, j={j}. Setting q[{i}, {j}] to 0.\")\n",
    "                    q[i, j] = 0.0\n",
    "            else:\n",
    "                # qii computation\n",
    "                numerator = lambda_avg[i] * a[i].X - sum(\n",
    "                    mu_avg[k, i] * e[k, i].X for k in range(r) if k != i\n",
    "                )\n",
    "                q[i, i] = numerator / denom if denom > 0 else 0.0\n",
    "\n",
    "    return q"
   ]
  },
  {
   "cell_type": "code",
   "execution_count": 10,
   "metadata": {},
   "outputs": [],
   "source": [
    "Q = compute_q_matrix(a, e, f, mu_avg, lambda_avg)"
   ]
  },
  {
   "cell_type": "code",
   "execution_count": 11,
   "metadata": {},
   "outputs": [
    {
     "data": {
      "text/plain": [
       "array([[1., 0., 0., ..., 0., 0., 0.],\n",
       "       [0., 1., 0., ..., 0., 0., 0.],\n",
       "       [0., 0., 1., ..., 0., 0., 0.],\n",
       "       ...,\n",
       "       [0., 0., 0., ..., 1., 0., 0.],\n",
       "       [0., 0., 0., ..., 0., 1., 0.],\n",
       "       [0., 0., 0., ..., 0., 0., 1.]])"
      ]
     },
     "execution_count": 11,
     "metadata": {},
     "output_type": "execute_result"
    }
   ],
   "source": [
    "Q"
   ]
  },
  {
   "cell_type": "markdown",
   "metadata": {},
   "source": [
    "Rows of Q should sum to 1, by the constraint 10.d."
   ]
  },
  {
   "cell_type": "code",
   "execution_count": 12,
   "metadata": {},
   "outputs": [
    {
     "name": "stdout",
     "output_type": "stream",
     "text": [
      "[ 21  97 172]\n",
      "[2.         0.         1.00502866]\n"
     ]
    }
   ],
   "source": [
    "notsumtoone = np.argwhere(~np.isclose(Q.sum(axis=1), 1.0)).flatten()\n",
    "print(notsumtoone)\n",
    "print(Q[notsumtoone].sum(axis=1))"
   ]
  },
  {
   "cell_type": "markdown",
   "metadata": {},
   "source": [
    "There seems to be some unknown numerical/logical issue."
   ]
  }
 ],
 "metadata": {
  "kernelspec": {
   "display_name": "nyc",
   "language": "python",
   "name": "python3"
  },
  "language_info": {
   "codemirror_mode": {
    "name": "ipython",
    "version": 3
   },
   "file_extension": ".py",
   "mimetype": "text/x-python",
   "name": "python",
   "nbconvert_exporter": "python",
   "pygments_lexer": "ipython3",
   "version": "3.9.21"
  }
 },
 "nbformat": 4,
 "nbformat_minor": 2
}
