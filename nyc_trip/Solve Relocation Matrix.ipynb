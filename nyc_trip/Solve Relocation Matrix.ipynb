{
 "cells": [
  {
   "cell_type": "code",
   "execution_count": 1,
   "metadata": {},
   "outputs": [],
   "source": [
    "import numpy as np\n",
    "import gurobipy as gp\n",
    "from gurobipy import GRB, quicksum\n",
    "\n",
    "from constants import (\n",
    "    MAX_TAXI_ZONE_ID,\n",
    "    location_ids,\n",
    "    excluded_location_ids,\n",
    "    location_id_to_index,\n",
    "    num_locations,\n",
    "    taxi_type,\n",
    ")"
   ]
  },
  {
   "cell_type": "markdown",
   "metadata": {},
   "source": [
    "$$\\begin{align*}\n",
    "\\max_{\\bar{e}, \\bar{f}, \\bar{a}} \\quad & \\frac{1}{K\\Delta} \\sum_{k=0}^{K-1} \\sum_{i=1}^r \\sum_{j=1}^r \\bar{a}_i \\lambda_i(t + k\\Delta) P_{ij}(t + k\\Delta) c_{ij}(t + k\\Delta) \\cdot\\Delta \\\\\n",
    "\\text{subject to} \\quad \n",
    "\n",
    "& \\frac{1}{K\\Delta} \\sum_{k=0}^{K-1} \\lambda_i(t + k\\Delta) P_{ij}(t + k\\Delta) \\bar{a}_i \\cdot \\Delta  = \\frac{1}{K\\Delta} \\sum_{k=0}^{K-1} \\mu_{ij}(t + k\\Delta) \\bar{f}_{ij} \\cdot \\Delta \\\\\n",
    "\n",
    "& \\frac{1}{K\\Delta} \\left(\\sum_{k=0}^{K-1} \\mu_{ij}(t + k\\Delta) \\cdot \\Delta\\right) \\bar{e}_{ij} \\leq \\sum_{j=1}^r \\left(\\frac{1}{K\\Delta} \\sum_{k=0}^{K-1} \\mu_{ji}(t + k\\Delta)  \\cdot \\Delta \\right)\\bar{f}_{ji}\\\\\n",
    "\n",
    "& \\sum_{\\substack{j=1 \\\\ j \\neq i}}^r \\frac{1}{K\\Delta} \\left(\\sum_{k=0}^{K-1} \\mu_{ji}(t + k\\Delta) \\cdot \\Delta\\right) \\bar{e}_{ji} \\leq \\frac{1}{K\\Delta}\\left(\\sum_{k=0}^{K-1} \\lambda_i(t + k\\Delta)\\cdot \\Delta \\right) \\bar{a}_i \\\\\n",
    "\n",
    "& \\frac{1}{K\\Delta} \\left(\\sum_{k=0}^{K-1} \\lambda_i(t + k\\Delta)\\cdot \\Delta \\right) \\bar{a}_i  \\\\\n",
    "\n",
    "&\\quad\\leq \\sum_{\\substack{j=1 \\\\ j \\neq i}}^r \\left(\\frac{1}{K\\Delta} \\sum_{k=0}^{K-1} \\mu_{ji}(t + k\\Delta)  \\cdot \\Delta \\right)\\bar{e}_{ji} + \\sum_{j=1}^r \\left(\\frac{1}{K\\Delta} \\sum_{k=0}^{K-1} \\mu_{ji}(t + k\\Delta) \\cdot \\Delta \\right)\\bar{f}_{ji} \\\\\n",
    "\n",
    "& \\frac{1}{K\\Delta} \\left(\\sum_{k=0}^{K-1} \\lambda_i(t + k\\Delta)\\cdot \\Delta \\right) \\bar{a}_i + \\sum_{\\substack{j=1 \\\\ j \\neq i}}^r \\left(\\frac{1}{K\\Delta} \\sum_{k=0}^{K-1} \\mu_{ij}(t + k\\Delta)  \\cdot \\Delta \\right)\\bar{e}_{ij} \\\\\n",
    "\n",
    "&\\quad = \\sum_{\\substack{j=1 \\\\ j \\neq i}}^r \\left(\\frac{1}{K\\Delta} \\sum_{k=0}^{K-1} \\mu_{ji}(t + k\\Delta)  \\cdot \\Delta \\right)\\bar{e}_{ji} + \\sum_{j=1}^r \\left(\\frac{1}{K\\Delta} \\sum_{k=0}^{K-1} \\mu_{ji}(t + k\\Delta) \\cdot \\Delta \\right)\\bar{f}_{ji} \\\\\n",
    "& e_{ij}, f_{ij} \\in [0, 1], \\sum_{i=1}^r \\sum_{j=1}^r e_{ij} + f_{ij} = 1\\\\\n",
    "& 0 \\leq \\bar{a}_i \\leq 1\n",
    "\\end{align*}\n",
    "$$"
   ]
  },
  {
   "cell_type": "code",
   "execution_count": 2,
   "metadata": {},
   "outputs": [],
   "source": [
    "Delta = 20 # in minutes\n",
    "T_max = int(24 * (60 // Delta))"
   ]
  },
  {
   "cell_type": "code",
   "execution_count": null,
   "metadata": {},
   "outputs": [],
   "source": [
    "with np.load('trip_counts.npz') as data:\n",
    "    trip_counts = data['trip_counts']\n",
    "    num_dates = data['num_dates']\n",
    "\n",
    "with np.load('mu_tucker.npz') as data:\n",
    "    mu = data['mu']\n",
    "    \n",
    "# mask trip_counts by 1 where 0\n",
    "trip_counts[trip_counts == 0] = 1\n",
    "\n",
    "# compute arrival rate\n",
    "lambda_ = trip_counts.sum(axis=2) / (Delta / 60 * num_dates)\n",
    "\n",
    "# normalize trip_counts\n",
    "P = trip_counts / trip_counts.sum(axis=2, keepdims=True)"
   ]
  },
  {
   "cell_type": "code",
   "execution_count": 10,
   "metadata": {},
   "outputs": [],
   "source": [
    "def compute_time_averaged(lambda_, mu, t_start, K, T_max):\n",
    "    time_indices = [(t_start + k) % T_max for k in range(K)]\n",
    "    lambda_avg = np.mean(lambda_[time_indices, :], axis=0)         # shape: (r,)\n",
    "    mu_avg = np.mean(mu[time_indices, :, :], axis=0)               # shape: (r, r)\n",
    "    return lambda_avg, mu_avg\n"
   ]
  },
  {
   "cell_type": "code",
   "execution_count": 11,
   "metadata": {},
   "outputs": [],
   "source": [
    "def solve_routing(lambda_, mu, P, Delta, t_start=0, K=6):\n",
    "    lambda_avg, mu_avg = compute_time_averaged(lambda_, mu, t_start, K, T_max)\n",
    "    P_avg = np.mean(P[[(t_start + k) % T_max for k in range(K)], :, :], axis=0)  # optional if P is time-varying\n",
    "\n",
    "    r = lambda_.shape[1]\n",
    "    model = gp.Model(\"lookahead_empty_car_routing\")\n",
    "    model.Params.LogToConsole = 1\n",
    "    \n",
    "    # Variables\n",
    "    a = model.addVars(r, lb=0, ub=1, name=\"a\")\n",
    "    e = model.addVars(r, r, lb=0, ub=1, name=\"e\")\n",
    "    f = model.addVars(r, r, lb=0, ub=1, name=\"f\")\n",
    "\n",
    "    # Objective\n",
    "    model.setObjective(\n",
    "        quicksum(a[i] * lambda_avg[i] * P_avg[i, j] for i in range(r) for j in range(r)),\n",
    "        GRB.MAXIMIZE\n",
    "    )\n",
    "\n",
    "    # Eq. 10a: Ride flow balance\n",
    "    ride_flow_expr = {\n",
    "        (i, j): a[i] * lambda_avg[i] * P_avg[i, j] - mu_avg[i, j] * f[i, j]\n",
    "        for i in range(r) for j in range(r)\n",
    "    }\n",
    "    model.addConstrs((ride_flow_expr[i, j] == 0 for i in range(r) for j in range(r)), name=\"ride_flow_balance\")\n",
    "\n",
    "    # Eq. 10b: Empty car flow balance\n",
    "    model.addConstrs((\n",
    "        mu_avg[i, j] * e[i, j] <= quicksum(mu_avg[l, i] * f[l, i] for l in range(r))\n",
    "        for i in range(r) for j in range(r) if i != j\n",
    "    ), name=\"empty_car_flow\")\n",
    "\n",
    "    # Eq. 10c: Supply conservation (lower bound)\n",
    "    model.addConstrs((\n",
    "        quicksum(mu_avg[j, i] * e[j, i] for j in range(r) if j != i) <= lambda_avg[i] * a[i]\n",
    "        for i in range(r)\n",
    "    ), name=\"supply_lower\")\n",
    "    \n",
    "    # Eq. 10c: Supply conservation (upper bound)\n",
    "    model.addConstrs((\n",
    "        lambda_avg[i] * a[i] <=\n",
    "        quicksum(mu_avg[j, i] * e[j, i] for j in range(r) if j != i) +\n",
    "        quicksum(mu_avg[j, i] * f[j, i] for j in range(r))\n",
    "        for i in range(r)\n",
    "    ), name=\"supply_upper\")\n",
    "    \n",
    "    # Eq. 10d: Car flow balance\n",
    "    model.addConstrs((\n",
    "        lambda_avg[i] * a[i] +\n",
    "        quicksum(mu_avg[i, j] * e[i, j] for j in range(r) if j != i)\n",
    "        ==\n",
    "        quicksum(mu_avg[j, i] * e[j, i] for j in range(r) if j != i) +\n",
    "        quicksum(mu_avg[j, i] * f[j, i] for j in range(r))\n",
    "        for i in range(r)\n",
    "    ), name=\"car_flow_balance\")\n",
    "    \n",
    "\n",
    "    # Unit mass constraint\n",
    "    model.addConstr(\n",
    "        quicksum(e[i,j] + f[i,j] for i in range(r) for j in range(r)) == 1,\n",
    "        name=\"unit_mass\"\n",
    "    )\n",
    "    \n",
    "    model.optimize()\n",
    "    \n",
    "    return model, a, e, f, lambda_avg, mu_avg\n"
   ]
  },
  {
   "cell_type": "code",
   "execution_count": 12,
   "metadata": {},
   "outputs": [
    {
     "name": "stdout",
     "output_type": "stream",
     "text": [
      "Set parameter LogToConsole to value 1\n",
      "Gurobi Optimizer version 12.0.1 build v12.0.1rc0 (mac64[arm] - Darwin 24.1.0 24B2083)\n",
      "\n",
      "CPU model: Apple M4 Pro\n",
      "Thread count: 14 physical cores, 14 logical processors, using up to 14 threads\n",
      "\n",
      "Optimize a model with 109981 rows, 109746 columns and 13359996 nonzeros\n",
      "Model fingerprint: 0xff73377c\n",
      "Coefficient statistics:\n",
      "  Matrix range     [6e-07, 4e+02]\n",
      "  Objective range  [1e+00, 4e+02]\n",
      "  Bounds range     [1e+00, 1e+00]\n",
      "  RHS range        [1e+00, 1e+00]\n",
      "Presolve removed 29822 rows and 30000 columns (presolve time = 10s)...\n",
      "Presolve removed 39822 rows and 40000 columns (presolve time = 21s)...\n",
      "Presolve removed 49822 rows and 50000 columns (presolve time = 32s)...\n",
      "Presolve removed 55288 rows and 55466 columns (presolve time = 42s)...\n",
      "Presolve removed 55323 rows and 55510 columns\n",
      "Presolve time: 43.71s\n",
      "Presolved: 54658 rows, 54236 columns, 9902865 nonzeros\n",
      "\n",
      "Concurrent LP optimizer: primal simplex, dual simplex, and barrier\n",
      "Showing barrier log only...\n",
      "\n",
      "Ordering time: 0.28s\n",
      "\n",
      "Barrier statistics:\n",
      " Dense cols : 176\n",
      " AA' NZ     : 1.004e+07\n",
      " Factor NZ  : 1.039e+07 (roughly 170 MB of memory)\n",
      " Factor Ops : 2.160e+09 (less than 1 second per iteration)\n",
      " Threads    : 12\n",
      "\n",
      "                  Objective                Residual\n",
      "Iter       Primal          Dual         Primal    Dual     Compl     Time\n",
      "   0   2.41111725e+00  1.14961269e+02  1.02e+03 1.14e-03  1.99e-02    46s\n",
      "   1   2.22559658e+00  1.10982326e+02  8.60e+02 6.12e-02  1.66e-02    47s\n",
      "   2   1.92752219e+00  9.94576726e+01  5.89e+02 3.96e-02  1.04e-02    47s\n",
      "   3   1.80383858e+00  8.30368515e+01  4.15e+02 1.09e-02  6.11e-03    47s\n",
      "   4   1.76265749e+00  6.95452701e+01  2.18e+02 4.11e-03  3.21e-03    47s\n",
      "   5   1.78880045e+00  6.36993770e+01  1.08e+02 3.32e-03  1.84e-03    48s\n",
      "   6   1.74750866e+00  5.13227633e+01  7.29e+01 2.29e-03  1.26e-03    48s\n",
      "   7   1.59679228e+00  3.71860713e+01  4.44e+01 1.41e-03  7.84e-04    48s\n",
      "   8   1.20091961e+00  2.64301690e+01  2.05e+01 8.78e-04  4.20e-04    48s\n",
      "   9   8.18352898e-01  1.64513016e+01  1.02e+01 4.67e-04  2.26e-04    49s\n",
      "  10   6.42628390e-01  1.24092072e+01  7.12e+00 3.21e-04  1.63e-04    49s\n",
      "  11   5.33912777e-01  9.27153322e+00  5.56e+00 2.15e-04  1.25e-04    49s\n",
      "  12   4.42234658e-01  7.95692077e+00  4.40e+00 1.73e-04  1.02e-04    49s\n",
      "  13   3.81075871e-01  7.17812051e+00  3.66e+00 1.48e-04  8.82e-05    49s\n",
      "  14   3.31022205e-01  6.57437197e+00  3.06e+00 1.30e-04  7.71e-05    50s\n",
      "  15   2.84479291e-01  4.35564184e+00  2.54e+00 6.32e-05  5.67e-05    50s\n",
      "  16   2.46122966e-01  4.06036144e+00  2.13e+00 5.49e-05  5.01e-05    50s\n",
      "  17   2.30762332e-01  3.79315704e+00  1.98e+00 4.76e-05  4.67e-05    50s\n",
      "  18   2.09113226e-01  3.44049137e+00  1.76e+00 3.80e-05  4.19e-05    51s\n",
      "  19   2.01764586e-01  3.06091285e+00  1.69e+00 2.85e-05  3.87e-05    51s\n",
      "  20   1.95237814e-01  2.98291401e+00  1.62e+00 2.64e-05  3.74e-05    51s\n",
      "  21   1.69668458e-01  2.67572907e+00  1.37e+00 1.81e-05  3.28e-05    51s\n",
      "  22   1.48982920e-01  2.00170406e+00  1.19e+00 4.89e-07  2.65e-05    52s\n",
      "  23   1.26875329e-01  1.61657542e+00  1.00e+00 1.12e-12  2.20e-05    52s\n",
      "\n",
      "Barrier performed 23 iterations in 51.97 seconds (51.00 work units)\n",
      "Barrier solve interrupted - model solved by another algorithm\n",
      "\n",
      "\n",
      "Solved with primal simplex\n",
      "Iteration    Objective       Primal Inf.    Dual Inf.      Time\n",
      "     896    8.1888770e-04   0.000000e+00   0.000000e+00     52s\n",
      "\n",
      "Solved in 896 iterations and 52.37 seconds (88.25 work units)\n",
      "Optimal objective  8.188876959e-04\n"
     ]
    }
   ],
   "source": [
    "t_start = 24\n",
    "K = 4\n",
    "\n",
    "res = solve_routing(lambda_, mu, P, Delta, t_start=t_start, K=K)\n",
    "model, a, e, f, lambda_avg, mu_avg = res"
   ]
  },
  {
   "cell_type": "code",
   "execution_count": null,
   "metadata": {},
   "outputs": [],
   "source": [
    "# # convert e, f, and a to numpy arrays\n",
    "\n",
    "# e_np = np.zeros((num_locations, num_locations))\n",
    "# f_np = np.zeros((num_locations, num_locations))\n",
    "# a_np = np.zeros(num_locations)\n",
    "\n",
    "# for i in range(num_locations):\n",
    "#     for j in range(num_locations):\n",
    "#         e_np[i, j] = e[i, j].X\n",
    "#         f_np[i, j] = f[i, j].X\n",
    "#     a_np[i] = a[i].X"
   ]
  },
  {
   "cell_type": "code",
   "execution_count": 16,
   "metadata": {},
   "outputs": [],
   "source": [
    "r = len(location_ids)\n",
    "\n",
    "def compute_q_matrix(a, e, f, mu_avg, lambda_avg):\n",
    "    \"\"\"\n",
    "    a, e, f: dicts of Gurobi variable values: a[i], e[i,j], f[i,j]\n",
    "    mu_avg: 2D array of shape (r, r) averaged over time\n",
    "    lambda_avg: 1D array of shape (r,) averaged over time\n",
    "    \"\"\"\n",
    "    r = len(a)\n",
    "    q = np.zeros((r, r))\n",
    "\n",
    "    # Precompute denominator for qij and qii\n",
    "    for i in range(r):\n",
    "        denom = sum(mu_avg[k, i] * f[k, i].X for k in range(r))\n",
    "        # print(f\"Denominator is zero for i={i}. Setting q[{i}, :] to 0.\")\n",
    "        for j in range(r):\n",
    "            if i != j:\n",
    "                if denom > 0:\n",
    "                    q[i, j] = mu_avg[i, j] * e[i, j].X / denom\n",
    "                else:\n",
    "                    \n",
    "                    q[i, j] = 0.0\n",
    "            else:\n",
    "                # qii computation\n",
    "                numerator = lambda_avg[i] * a[i].X - sum(\n",
    "                    mu_avg[k, i] * e[k, i].X for k in range(r) if k != i\n",
    "                )\n",
    "                q[i, i] = numerator / denom if denom > 0 else 0.0\n",
    "\n",
    "    return q"
   ]
  },
  {
   "cell_type": "code",
   "execution_count": 17,
   "metadata": {},
   "outputs": [],
   "source": [
    "Q = compute_q_matrix(a, e, f, mu_avg, lambda_avg)"
   ]
  },
  {
   "cell_type": "code",
   "execution_count": 18,
   "metadata": {},
   "outputs": [
    {
     "data": {
      "text/plain": [
       "array([[0., 0., 0., ..., 0., 0., 0.],\n",
       "       [0., 1., 0., ..., 0., 0., 0.],\n",
       "       [0., 0., 1., ..., 0., 0., 0.],\n",
       "       ...,\n",
       "       [0., 0., 0., ..., 1., 0., 0.],\n",
       "       [0., 0., 0., ..., 0., 1., 0.],\n",
       "       [0., 0., 0., ..., 0., 0., 1.]])"
      ]
     },
     "execution_count": 18,
     "metadata": {},
     "output_type": "execute_result"
    }
   ],
   "source": [
    "Q"
   ]
  },
  {
   "cell_type": "markdown",
   "metadata": {},
   "source": [
    "Rows of Q should sum to 1, by the constraint 10.d."
   ]
  },
  {
   "cell_type": "code",
   "execution_count": 19,
   "metadata": {},
   "outputs": [
    {
     "name": "stdout",
     "output_type": "stream",
     "text": [
      "[147]\n",
      "[1.00002931]\n"
     ]
    }
   ],
   "source": [
    "notsumtoone = np.argwhere(~np.isclose(Q.sum(axis=1), 1.0)).flatten()\n",
    "print(notsumtoone)\n",
    "print(Q[notsumtoone].sum(axis=1))"
   ]
  },
  {
   "cell_type": "markdown",
   "metadata": {},
   "source": [
    "That looks close enough"
   ]
  },
  {
   "cell_type": "code",
   "execution_count": 22,
   "metadata": {},
   "outputs": [],
   "source": [
    "# save Q matrix\n",
    "\n",
    "np.savez(\n",
    "    f\"Q_matrix.npz\",\n",
    "    Q=Q,\n",
    ")"
   ]
  },
  {
   "cell_type": "code",
   "execution_count": null,
   "metadata": {},
   "outputs": [],
   "source": []
  }
 ],
 "metadata": {
  "kernelspec": {
   "display_name": "nyc",
   "language": "python",
   "name": "python3"
  },
  "language_info": {
   "codemirror_mode": {
    "name": "ipython",
    "version": 3
   },
   "file_extension": ".py",
   "mimetype": "text/x-python",
   "name": "python",
   "nbconvert_exporter": "python",
   "pygments_lexer": "ipython3",
   "version": "3.9.21"
  }
 },
 "nbformat": 4,
 "nbformat_minor": 2
}
