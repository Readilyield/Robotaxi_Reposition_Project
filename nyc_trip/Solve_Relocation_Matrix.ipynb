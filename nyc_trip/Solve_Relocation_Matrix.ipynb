{
 "cells": [
  {
   "cell_type": "code",
   "execution_count": 30,
   "metadata": {
    "execution": {
     "iopub.execute_input": "2025-05-01T22:58:00.622999Z",
     "iopub.status.busy": "2025-05-01T22:58:00.621658Z",
     "iopub.status.idle": "2025-05-01T22:58:00.636939Z",
     "shell.execute_reply": "2025-05-01T22:58:00.635143Z",
     "shell.execute_reply.started": "2025-05-01T22:58:00.622912Z"
    }
   },
   "outputs": [],
   "source": [
    "\n",
    "import numpy as np\n",
    "import gurobipy as gp\n",
    "from gurobipy import GRB, quicksum\n",
    "from tqdm.notebook import trange\n",
    "\n",
    "np.set_printoptions(suppress=True)\n",
    "\n",
    "from constants import (\n",
    "    MAX_TAXI_ZONE_ID,\n",
    "    location_ids,\n",
    "    excluded_location_ids,\n",
    "    location_id_to_index,\n",
    "    num_locations,\n",
    "    taxi_type,\n",
    ")\n",
    "\n",
    "import matplotlib.pyplot as plt"
   ]
  },
  {
   "cell_type": "markdown",
   "metadata": {},
   "source": [
    "#### Note that here $\\lambda$:=$N\\cdot \\hat{\\lambda}$\n",
    "\n",
    "$$\\begin{align*}\n",
    "\\max_{\\bar{e}, \\bar{f}, \\bar{a}} \\quad & \\frac{1}{K\\Delta} \\sum_{k=0}^{K-1} \\sum_{i=1}^r \\sum_{j=1}^r \\bar{a}_i \\lambda_i(t + k\\Delta) P_{ij}(t + k\\Delta) c_{ij}(t + k\\Delta) \\cdot\\Delta \\\\\n",
    "\\text{subject to} \\quad \n",
    "& \\frac{1}{K\\Delta} \\sum_{k=0}^{K-1} \\lambda_i(t + k\\Delta) P_{ij}(t + k\\Delta) \\bar{a}_i \\cdot \\Delta  = \\frac{1}{K\\Delta} \\sum_{k=0}^{K-1} \\mu_{ij}(t + k\\Delta) \\bar{f}_{ij} \\cdot \\Delta \\\\\n",
    "& \\frac{1}{K\\Delta} \\left(\\sum_{k=0}^{K-1} \\mu_{ij}(t + k\\Delta) \\cdot \\Delta\\right) \\bar{e}_{ij} \\leq \\sum_{j=1}^r \\left(\\frac{1}{K\\Delta} \\sum_{k=0}^{K-1} \\mu_{ji}(t + k\\Delta)  \\cdot \\Delta \\right)\\bar{f}_{ji}\\\\\n",
    "& \\sum_{\\substack{j=1 \\\\ j \\neq i}}^r \\frac{1}{K\\Delta} \\left(\\sum_{k=0}^{K-1} \\mu_{ji}(t + k\\Delta) \\cdot \\Delta\\right) \\bar{e}_{ji} \\leq \\frac{1}{K\\Delta}\\left(\\sum_{k=0}^{K-1} \\lambda_i(t + k\\Delta)\\cdot \\Delta \\right) \\bar{a}_i \\\\\n",
    "& \\frac{1}{K\\Delta} \\left(\\sum_{k=0}^{K-1} \\lambda_i(t + k\\Delta)\\cdot \\Delta \\right) \\bar{a}_i  \\\\\n",
    "&\\quad\\leq \\sum_{\\substack{j=1 \\\\ j \\neq i}}^r \\left(\\frac{1}{K\\Delta} \\sum_{k=0}^{K-1} \\mu_{ji}(t + k\\Delta)  \\cdot \\Delta \\right)\\bar{e}_{ji} + \\sum_{j=1}^r \\left(\\frac{1}{K\\Delta} \\sum_{k=0}^{K-1} \\mu_{ji}(t + k\\Delta) \\cdot \\Delta \\right)\\bar{f}_{ji} \\\\\n",
    "& \\frac{1}{K\\Delta} \\left(\\sum_{k=0}^{K-1} \\lambda_i(t + k\\Delta)\\cdot \\Delta \\right) \\bar{a}_i + \\sum_{\\substack{j=1 \\\\ j \\neq i}}^r \\left(\\frac{1}{K\\Delta} \\sum_{k=0}^{K-1} \\mu_{ij}(t + k\\Delta)  \\cdot \\Delta \\right)\\bar{e}_{ij} \\\\\n",
    "&\\quad = \\sum_{\\substack{j=1 \\\\ j \\neq i}}^r \\left(\\frac{1}{K\\Delta} \\sum_{k=0}^{K-1} \\mu_{ji}(t + k\\Delta)  \\cdot \\Delta \\right)\\bar{e}_{ji} + \\sum_{j=1}^r \\left(\\frac{1}{K\\Delta} \\sum_{k=0}^{K-1} \\mu_{ji}(t + k\\Delta) \\cdot \\Delta \\right)\\bar{f}_{ji} \\\\\n",
    "& e_{ij}, f_{ij} \\in [0, 1], \\sum_{i=1}^r \\sum_{j=1}^r e_{ij} + f_{ij} = 1\\\\\n",
    "& 0 \\leq \\bar{a}_i \\leq 1\n",
    "\\end{align*}\n",
    "$$"
   ]
  },
  {
   "cell_type": "code",
   "execution_count": 40,
   "metadata": {
    "execution": {
     "iopub.execute_input": "2025-05-01T23:32:27.849250Z",
     "iopub.status.busy": "2025-05-01T23:32:27.847985Z",
     "iopub.status.idle": "2025-05-01T23:32:27.863532Z",
     "shell.execute_reply": "2025-05-01T23:32:27.859510Z",
     "shell.execute_reply.started": "2025-05-01T23:32:27.849177Z"
    }
   },
   "outputs": [],
   "source": [
    "Delta = 60 # in minutes\n",
    "T_max = int(24 * (60 // Delta))"
   ]
  },
  {
   "cell_type": "code",
   "execution_count": 54,
   "metadata": {
    "execution": {
     "iopub.execute_input": "2025-05-04T09:19:41.067183Z",
     "iopub.status.busy": "2025-05-04T09:19:41.063150Z",
     "iopub.status.idle": "2025-05-04T09:19:41.485597Z",
     "shell.execute_reply": "2025-05-04T09:19:41.485034Z",
     "shell.execute_reply.started": "2025-05-04T09:19:41.066900Z"
    },
    "scrolled": true
   },
   "outputs": [
    {
     "name": "stdout",
     "output_type": "stream",
     "text": [
      "\n",
      "--- Loading Consolidated Data ---\n",
      "Data loaded successfully.\n"
     ]
    },
    {
     "data": {
      "image/png": "[encoded data removed]",
      "text/plain": [
       "<Figure size 640x480 with 1 Axes>"
      ]
     },
     "metadata": {},
     "output_type": "display_data"
    },
    {
     "name": "stdout",
     "output_type": "stream",
     "text": [
      "(24, 234, 234)\n",
      "all-region arrival rate w.r.t. N:\n",
      " [2.04475205 1.23663115 0.83568443 0.73073156 0.97415984 1.42247746\n",
      " 2.45809631 3.94785861 4.87098361 4.13953484 3.46902049 3.23786475\n",
      " 3.28541598 3.43228074 3.76197746 3.85956967 4.05084836 4.65894467\n",
      " 4.87303689 4.67622951 4.33079098 4.10848975 3.96839754 3.46220902]\n"
     ]
    }
   ],
   "source": [
    "print(\"\\n--- Loading Consolidated Data ---\")\n",
    "data_filename = \"trip_data_.npz\"\n",
    "try:\n",
    "    with np.load(data_filename) as data:\n",
    "        trip_counts = data['trip_counts']\n",
    "        num_dates = data['num_dates'].item()\n",
    "        # all_trip_times = data['all_trip_times']\n",
    "        # key_counts = data['key_counts']\n",
    "    print(\"Data loaded successfully.\")\n",
    "except FileNotFoundError:\n",
    "    print(f\"Error: Consolidated data file {data_filename} not found. Cannot proceed with tasks.\")\n",
    "    exit()\n",
    "\n",
    "with np.load('mu_calculated.npz') as data:\n",
    "    mu = data['mu']\n",
    "\n",
    "plt.hist(mu.flatten(), bins=100, density=True, alpha=0.5, label='mu_ PDF')\n",
    "plt.legend()\n",
    "plt.show()\n",
    "\n",
    "# mask trip_counts by 1 where 0\n",
    "trip_counts[trip_counts == 0] = 1\n",
    "print(trip_counts.shape)\n",
    "# compute arrival rate\n",
    "lambda_ = trip_counts.sum(axis=2) / (Delta / 60 * num_dates)\n",
    "N = 8000 \n",
    "\n",
    "''' This step is IMPORTANT '''\n",
    "lambda_ = lambda_ / N\n",
    "\n",
    "print('all-region arrival rate w.r.t. N:\\n',lambda_.sum(axis=1))\n",
    "# normalize trip_counts\n",
    "P = trip_counts / trip_counts.sum(axis=2, keepdims=True)"
   ]
  },
  {
   "cell_type": "code",
   "execution_count": 48,
   "metadata": {
    "execution": {
     "iopub.execute_input": "2025-05-01T23:52:28.776009Z",
     "iopub.status.busy": "2025-05-01T23:52:28.775129Z",
     "iopub.status.idle": "2025-05-01T23:52:28.785292Z",
     "shell.execute_reply": "2025-05-01T23:52:28.783979Z",
     "shell.execute_reply.started": "2025-05-01T23:52:28.775963Z"
    }
   },
   "outputs": [],
   "source": [
    "T, R, _ = P.shape"
   ]
  },
  {
   "cell_type": "code",
   "execution_count": 49,
   "metadata": {
    "execution": {
     "iopub.execute_input": "2025-05-01T23:52:34.378837Z",
     "iopub.status.busy": "2025-05-01T23:52:34.377547Z",
     "iopub.status.idle": "2025-05-01T23:52:34.398620Z",
     "shell.execute_reply": "2025-05-01T23:52:34.397828Z",
     "shell.execute_reply.started": "2025-05-01T23:52:34.378753Z"
    }
   },
   "outputs": [],
   "source": [
    "def compute_time_averaged(lambda_, mu, t_start, K, T_max):\n",
    "    time_indices = [(t_start + k) % T_max for k in range(K)]\n",
    "    lambda_avg = np.mean(lambda_[time_indices, :], axis=0)         # shape: (r,)\n",
    "    mu_avg = np.mean(mu[time_indices, :, :], axis=0)               # shape: (r, r)\n",
    "    return lambda_avg, mu_avg\n"
   ]
  },
  {
   "cell_type": "code",
   "execution_count": 50,
   "metadata": {
    "execution": {
     "iopub.execute_input": "2025-05-01T23:52:34.632716Z",
     "iopub.status.busy": "2025-05-01T23:52:34.632029Z",
     "iopub.status.idle": "2025-05-01T23:52:34.662916Z",
     "shell.execute_reply": "2025-05-01T23:52:34.662131Z",
     "shell.execute_reply.started": "2025-05-01T23:52:34.632677Z"
    }
   },
   "outputs": [],
   "source": [
    "def solve_routing(lambda_, mu, P, Delta, t_start=0, K=6):\n",
    "    lambda_avg, mu_avg = compute_time_averaged(lambda_, mu, t_start, K, T_max)\n",
    "    P_avg = np.mean(P[[(t_start + k) % T_max for k in range(K)], :, :], axis=0)  # optional if P is time-varying\n",
    "\n",
    "    r = lambda_.shape[1]\n",
    "    model = gp.Model(\"lookahead_empty_car_routing\")\n",
    "    model.setParam('OutputFlag', 0)\n",
    "    \n",
    "    # For numeric stability\n",
    "    \n",
    "    # model.setParam('OptimalityTol', 1e-9)\n",
    "    # model.setParam('FeasibilityTol', 1e-9)\n",
    "    # model.setParam('NumericFocus', 3)\n",
    "    \n",
    "    # scaling e, f, and a by this factor for numeric stability\n",
    "    SCALE = 1000\n",
    "    \n",
    "    # Variables\n",
    "    a = model.addVars(r, lb=0, ub=1, name=\"a\")\n",
    "    e = model.addVars(r, r, lb=0, ub=SCALE, name=\"e\")\n",
    "    f = model.addVars(r, r, lb=0, ub=SCALE, name=\"f\")\n",
    "\n",
    "    # Objective\n",
    "    model.setObjective(\n",
    "        quicksum(a[i] * lambda_avg[i] * P_avg[i, j] for i in range(r) for j in range(r)),\n",
    "        GRB.MAXIMIZE\n",
    "    )\n",
    "\n",
    "    # Eq. 10a: Ride flow balance\n",
    "    ride_flow_expr = {\n",
    "        (i, j): SCALE * a[i] * lambda_avg[i] * P_avg[i, j] - mu_avg[i, j] * f[i, j]\n",
    "        for i in range(r) for j in range(r)\n",
    "    }\n",
    "    model.addConstrs((ride_flow_expr[i, j] == 0 for i in range(r) for j in range(r)), name=\"ride_flow_balance\")\n",
    "\n",
    "    # Eq. 10b: Empty car flow balance\n",
    "    model.addConstrs((\n",
    "        mu_avg[i, j] * e[i, j] <= quicksum(mu_avg[l, i] * f[l, i] for l in range(r))\n",
    "        for i in range(r) for j in range(r) if i != j\n",
    "    ), name=\"empty_car_flow\")\n",
    "\n",
    "    # Eq. 10c: Supply conservation (lower bound)\n",
    "    model.addConstrs((\n",
    "        quicksum(mu_avg[j, i] * e[j, i] for j in range(r) if j != i) <= SCALE * lambda_avg[i] * a[i]\n",
    "        for i in range(r)\n",
    "    ), name=\"supply_lower\")\n",
    "    \n",
    "    # Eq. 10c: Supply conservation (upper bound)\n",
    "    model.addConstrs((\n",
    "        SCALE * lambda_avg[i] * a[i] <=\n",
    "        quicksum(mu_avg[j, i] * e[j, i] for j in range(r) if j != i) +\n",
    "        quicksum(mu_avg[j, i] * f[j, i] for j in range(r))\n",
    "        for i in range(r)\n",
    "    ), name=\"supply_upper\")\n",
    "    \n",
    "    # Eq. 10d: Car flow balance\n",
    "    model.addConstrs((\n",
    "        SCALE * lambda_avg[i] * a[i] +\n",
    "        quicksum(mu_avg[i, j] * e[i, j] for j in range(r) if j != i)\n",
    "        ==\n",
    "        quicksum(mu_avg[j, i] * e[j, i] for j in range(r) if j != i) +\n",
    "        quicksum(mu_avg[j, i] * f[j, i] for j in range(r))\n",
    "        for i in range(r)\n",
    "    ), name=\"car_flow_balance\")\n",
    "    \n",
    "\n",
    "    # Unit mass constraint\n",
    "    model.addConstr(\n",
    "        quicksum(e[i,j] + f[i,j] for i in range(r) for j in range(r)) == SCALE,\n",
    "        name=\"unit_mass\"\n",
    "    )\n",
    "    \n",
    "    model.optimize()\n",
    "    \n",
    "    return model, a, e, f, lambda_avg, mu_avg\n",
    "\n",
    "def compute_q_matrix(a, e, f, mu_avg, lambda_avg):\n",
    "    \"\"\"\n",
    "    a, e, f: 2D array of shape (r, r)\n",
    "    mu_avg: 2D array of shape (r, r) averaged over time\n",
    "    lambda_avg: 1D array of shape (r,) averaged over time\n",
    "    \"\"\"\n",
    "    r = len(a)\n",
    "    q = np.zeros((r, r))\n",
    "\n",
    "    # Precompute denominator for qij and qii\n",
    "    for i in range(r):\n",
    "        denom = sum(mu_avg[k, i] * f[k, i] for k in range(r))\n",
    "        # print(f\"Denominator is zero for i={i}. Setting q[{i}, :] to 0.\")\n",
    "        for j in range(r):\n",
    "            if i != j:\n",
    "                if denom > 0:\n",
    "                    q[i, j] = mu_avg[i, j] * e[i, j] / denom\n",
    "                else:\n",
    "                    \n",
    "                    q[i, j] = 0.0\n",
    "            else:\n",
    "                # qii computation\n",
    "                numerator = lambda_avg[i] * a[i] - sum(\n",
    "                    mu_avg[k, i] * e[k, i] for k in range(r) if k != i\n",
    "                )\n",
    "                q[i, i] = numerator / denom if denom > 0 else 0.0\n",
    "\n",
    "    return q"
   ]
  },
  {
   "cell_type": "code",
   "execution_count": 51,
   "metadata": {
    "execution": {
     "iopub.execute_input": "2025-05-01T23:52:36.444479Z",
     "iopub.status.busy": "2025-05-01T23:52:36.443886Z",
     "iopub.status.idle": "2025-05-01T23:52:36.463829Z",
     "shell.execute_reply": "2025-05-01T23:52:36.463083Z",
     "shell.execute_reply.started": "2025-05-01T23:52:36.444440Z"
    }
   },
   "outputs": [],
   "source": [
    "def solve_Q(K):\n",
    "    Qs = []\n",
    "    for t_start in trange(0, T_max, 1):\n",
    "        print(f\"t_start: {t_start}\")\n",
    "        model, a, e, f, lambda_avg, mu_avg = solve_routing(lambda_, mu, P, Delta, t_start=t_start, K=K)\n",
    "        \n",
    "        # Extract the values of the variables\n",
    "        a_values = np.array([a[i].X for i in range(R)])\n",
    "        e_values = np.array([[e[i,j].X for j in range(R)] for i in range(R)])\n",
    "        f_values = np.array([[f[i,j].X for j in range(R)] for i in range(R)])\n",
    "\n",
    "        normalizer = (e_values + f_values).sum()\n",
    "\n",
    "        e_values /= normalizer\n",
    "        f_values /= normalizer\n",
    "            \n",
    "        # Compute the Q matrix\n",
    "        Q = compute_q_matrix(a_values, e_values, f_values, mu_avg, lambda_avg)\n",
    "        \n",
    "        # clip values close to 0\n",
    "        Q[np.isclose(Q, 0, atol=1e-9)] = 0\n",
    "        # normalize rows of Q to sum to 1\n",
    "        Q = Q / Q.sum(axis=1, keepdims=True)\n",
    "        \n",
    "        Qs.append(Q)\n",
    "        \n",
    "        # check rows are nonnegative / no entries with absolute value > 1\n",
    "        if not np.all(Q >= 0):\n",
    "            print(f\"Q matrix has negative entries at t_start={t_start}\")\n",
    "        if not np.all(np.abs(Q) <= 1):\n",
    "            print(f\"Q matrix has entries with absolute value > 1 at t_start={t_start}\")\n",
    "            \n",
    "    # save Qs as len(Q) x r x r np.ndarray\n",
    "    Qs = np.array(Qs)\n",
    "    np.savez(f'Qs_{K}.npz', Qs=Qs)\n",
    "    return Qs"
   ]
  },
  {
   "cell_type": "code",
   "execution_count": 53,
   "metadata": {
    "execution": {
     "iopub.execute_input": "2025-05-01T23:53:42.113200Z",
     "iopub.status.busy": "2025-05-01T23:53:42.112051Z",
     "iopub.status.idle": "2025-05-02T01:11:17.263789Z",
     "shell.execute_reply": "2025-05-02T01:11:17.262286Z",
     "shell.execute_reply.started": "2025-05-01T23:53:42.113150Z"
    },
    "scrolled": true
   },
   "outputs": [
    {
     "data": {
      "application/vnd.jupyter.widget-view+json": {
       "model_id": "6dbc97e0450a4a95b88f6485e00f4fb3",
       "version_major": 2,
       "version_minor": 0
      },
      "text/plain": [
       "  0%|          | 0/24 [00:00<?, ?it/s]"
      ]
     },
     "metadata": {},
     "output_type": "display_data"
    },
    {
     "name": "stdout",
     "output_type": "stream",
     "text": [
      "t_start: 0\n",
      "t_start: 1\n",
      "t_start: 2\n",
      "t_start: 3\n",
      "t_start: 4\n",
      "t_start: 5\n",
      "t_start: 6\n",
      "t_start: 7\n",
      "t_start: 8\n",
      "t_start: 9\n",
      "t_start: 10\n",
      "t_start: 11\n",
      "t_start: 12\n",
      "t_start: 13\n",
      "t_start: 14\n",
      "t_start: 15\n",
      "t_start: 16\n",
      "t_start: 17\n",
      "t_start: 18\n",
      "t_start: 19\n",
      "t_start: 20\n",
      "t_start: 21\n",
      "t_start: 22\n",
      "t_start: 23\n"
     ]
    }
   ],
   "source": [
    "Q = solve_Q(2)\n",
    "np.savez('Qs_24_2hrLkahd_N8000.npz',Q=Q)"
   ]
  },
  {
   "cell_type": "code",
   "execution_count": null,
   "metadata": {},
   "outputs": [],
   "source": []
  }
 ],
 "metadata": {
  "kernelspec": {
   "display_name": "Python 3 (ipykernel)",
   "language": "python",
   "name": "python3"
  },
  "language_info": {
   "codemirror_mode": {
    "name": "ipython",
    "version": 3
   },
   "file_extension": ".py",
   "mimetype": "text/x-python",
   "name": "python",
   "nbconvert_exporter": "python",
   "pygments_lexer": "ipython3",
   "version": "3.9.22"
  }
 },
 "nbformat": 4,
 "nbformat_minor": 4
}
