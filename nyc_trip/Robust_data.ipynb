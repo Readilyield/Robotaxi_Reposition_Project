{
 "cells": [
  {
   "cell_type": "markdown",
   "id": "27de475d",
   "metadata": {},
   "source": [
    "### Robust Experiment on Small data and Q-matrix\n",
    "1. Fix one region A and a pre-calculated Q-matrix :$Q_0$\n",
    "2. Pick the $k$ most active regions w.r.t. A through a day (on average) (having the  highest inflow or outflow to/from A based on $Q_0$)\n",
    "3. Calculate the robust $(k+1)\\times(k+1)$ sub-matrix from $Q_0$, call it $Q_s$\n",
    "4. Plug $Q_s$ into $Q_0$, call the new full-matrix $Q'$\n",
    "5. Evaluate the overall and $(k+1)$ sub-region performance between $Q_0$ and $Q'$ new via real-data simulation."
   ]
  },
  {
   "cell_type": "markdown",
   "id": "6df894a2",
   "metadata": {},
   "source": [
    "### Experiment setup:\n",
    "- Fix region 224 in NYC, this is Stuyvesant Town-Peter Cooper Village, a lively neighborhood of Manhattan.\n",
    "- We use the FHVHV vehicle data in 2025 Jan and 2024 Dec (business days only) as the training data. We will divide one day into 4 blocks: 0am-6am, 6a-12pm, 12pm-6pm, 6pm-0am.\n",
    "\n",
    "- We use 6-hour lookahead policy ($Q^{(6)}$) since each block has 6 hours\n",
    "- We use $k$ = 10, so the sub-matrix $Q_s$ is $4\\times 11\\times 11$\n",
    "- We use $10$ business days from 2025 Jan as $10$ scenarios\n",
    "- $N=8000$"
   ]
  },
  {
   "cell_type": "code",
   "execution_count": 2,
   "id": "c985c305",
   "metadata": {},
   "outputs": [
    {
     "name": "stdout",
     "output_type": "stream",
     "text": [
      "The autoreload extension is already loaded. To reload it, use:\n",
      "  %reload_ext autoreload\n"
     ]
    }
   ],
   "source": [
    "%load_ext autoreload\n",
    "%autoreload 2\n",
    "import os\n",
    "import numpy as np\n",
    "import pandas as pd\n",
    "from tqdm.notebook import trange, tqdm\n",
    "from collections import defaultdict\n",
    "from matplotlib import pyplot as plt\n",
    "import time\n",
    "\n",
    "from constants import (\n",
    "    location_id_to_index,\n",
    "    get_region_trip_distribution\n",
    ")\n",
    "np.set_printoptions(suppress=True)\n",
    "%reload_ext autoreload\n"
   ]
  },
  {
   "cell_type": "code",
   "execution_count": null,
   "id": "429e7fee",
   "metadata": {},
   "outputs": [
    {
     "name": "stdout",
     "output_type": "stream",
     "text": [
      "\n",
      "--- Loading Consolidated Data ---\n",
      "(24, 234, 234)\n"
     ]
    },
    {
     "data": {
      "image/png": "[encoded data removed]",
      "text/plain": [
       "<Figure size 640x480 with 1 Axes>"
      ]
     },
     "metadata": {},
     "output_type": "display_data"
    },
    {
     "name": "stdout",
     "output_type": "stream",
     "text": [
      "Data loaded successfully.\n",
      "(24, 234, 234)\n",
      "all-region arrival rate w.r.t. N:\n",
      " [2.10233929 1.29740179 0.88481548 0.77883036 1.01129464 1.44289881\n",
      " 2.43164286 3.89142857 4.79256548 4.07063393 3.43984524 3.23410417\n",
      " 3.2858125  3.43403869 3.7671131  3.86478274 4.04823512 4.66197917\n",
      " 4.86303274 4.6931875  4.34337202 4.11745536 3.99993452 3.51303274]\n"
     ]
    }
   ],
   "source": [
    "Delta = 60 # in minutes\n",
    "N = 8000 \n",
    "print(\"\\n--- Loading Consolidated Data ---\")\n",
    "data_filename = \"2Months24_trip_data_.npz\"\n",
    "mu_filename = \"2Months24_mu.npz\"\n",
    "Q_filename = \"Qs_24_2hrLkahd_N8000.npz\"\n",
    "\n",
    "try:\n",
    "    with np.load(data_filename) as data:\n",
    "        trip_counts = data['trip_counts']\n",
    "        num_dates = data['num_dates'].item()\n",
    "        loaded_all_trip_times_flat = data['all_trip_times']\n",
    "        loaded_key_counts = data['key_counts']\n",
    "    with np.load(mu_filename) as data:\n",
    "        mu = data['mu']\n",
    "    with np.load(Q_filename) as data:\n",
    "        Q = data['Q']\n",
    "        print(Q.shape) #time block x (regions x regions)\n",
    "        positiveQ = Q[1][Q[1] > 0] #see entries at time block no.2\n",
    "        entries = positiveQ .flatten()\n",
    "        plt.hist(entries,density=True,bins=20,label='Q[1]_dist')\n",
    "        plt.legend()\n",
    "        plt.show()\n",
    "    print(\"Data loaded successfully.\")\n",
    "except FileNotFoundError:\n",
    "    print(f\"Error: Consolidated data file {data_filename} not found. Cannot proceed with tasks.\")\n",
    "    exit()\n",
    "\n",
    "# mask trip_counts by 1 where 0\n",
    "trip_counts[trip_counts == 0] = 1\n",
    "print(trip_counts.shape)\n",
    "# compute arrival rate\n",
    "lambda_ = trip_counts.sum(axis=2) / (Delta / 60 * num_dates)\n",
    "\n",
    "''' This step is IMPORTANT '''\n",
    "lambda_ = lambda_ / N\n",
    "print('all-region arrival rate w.r.t. N:\\n',lambda_.sum(axis=1))\n",
    "# normalize trip_counts\n",
    "P = trip_counts / trip_counts.sum(axis=2, keepdims=True)\n",
    "\n",
    "\n",
    "\n"
   ]
  },
  {
   "cell_type": "code",
   "execution_count": 55,
   "id": "199c6b07",
   "metadata": {},
   "outputs": [
    {
     "name": "stdout",
     "output_type": "stream",
     "text": [
      "\n",
      "--- Trip Distribution for Region ID 224 (196) ---\n",
      "\n",
      "Outgoing Trips:\n",
      "  To Region 121: 2333 trips\n",
      "  To Region 71: 2295 trips\n",
      "  To Region 152: 2295 trips\n",
      "\n",
      "Incoming Trips:\n",
      "  From Region 71: 2028 trips\n",
      "  From Region 121: 1845 trips\n",
      "  From Region 206: 1723 trips\n",
      "\n",
      "Top 10 (mapped) Interacting Regions (Total Incoming + Outgoing):\n",
      "  Region 71: 4323 total trips\n",
      "  Region 121: 4178 total trips\n",
      "  Region 152: 3908 total trips\n",
      "  Region 206: 3751 total trips\n",
      "  Region 115: 3674 total trips\n",
      "  Region 94: 2993 total trips\n",
      "  Region 144: 2982 total trips\n",
      "  Region 143: 2872 total trips\n",
      "  Region 98: 2759 total trips\n",
      "  Region 99: 2656 total trips\n"
     ]
    }
   ],
   "source": [
    "# # Example: Get distribution for region ID 224 (a common one in NYC)\n",
    "target_region_id = 224\n",
    "mapped_target_id = location_id_to_index[target_region_id]\n",
    "\n",
    "outgoing_dist, incoming_dist, top_10_regions = get_region_trip_distribution(\n",
    "    target_region_id,\n",
    "    trip_counts, \n",
    "    location_id_to_index\n",
    ")\n",
    "if outgoing_dist is not None:\n",
    "    print(f\"\\n--- Trip Distribution for Region ID {target_region_id} ({mapped_target_id}) ---\")\n",
    "    print(\"\\nOutgoing Trips:\")\n",
    "    # Sort for better readability (optional)\n",
    "    sorted_outgoing = sorted(outgoing_dist.items(), key=lambda item: item[1], reverse=True)\n",
    "    for target_id, count in sorted_outgoing[:3]:\n",
    "        print(f\"  To Region {target_id}: {count} trips\")\n",
    "\n",
    "    print(\"\\nIncoming Trips:\")\n",
    "    # Sort for better readability (optional)\n",
    "    sorted_incoming = sorted(incoming_dist.items(), key=lambda item: item[1], reverse=True)\n",
    "    for source_id, count in sorted_incoming[:3]:\n",
    "        print(f\"  From Region {source_id}: {count} trips\")\n",
    "\n",
    "    print(f\"\\nTop 10 (mapped) Interacting Regions (Total Incoming + Outgoing):\")\n",
    "    for region_id, total_count in top_10_regions:\n",
    "         print(f\"  Region {region_id}: {total_count} total trips\")"
   ]
  },
  {
   "cell_type": "code",
   "execution_count": null,
   "id": "6afe9d7b",
   "metadata": {},
   "outputs": [
    {
     "name": "stdout",
     "output_type": "stream",
     "text": [
      "--- Data slicing complete ---\n",
      "data row/col order:\n",
      " [(0, 196), (1, 71), (2, 121), (3, 152), (4, 206), (5, 115), (6, 94), (7, 144), (8, 143), (9, 98), (10, 99)]\n",
      "--- Sliced data saved ---\n"
     ]
    }
   ],
   "source": [
    "saveP_name = \"P24_11slice_normal.npz\"\n",
    "saveMu_name = \"mu24_11slice.npz\"\n",
    "saveLam_name = \"Lam24_11slice.npz\"\n",
    "saveQ_name = \"Q24_11slice.npz\"\n",
    "'''Slicing Lambda, Q, P, mu'''\n",
    "ind_list = [mapped_target_id] + [i[0] for i in top_10_regions]\n",
    "ind_map = {i : ind for i,ind in enumerate(ind_list)}\n",
    "ind_2d = np.ix_(ind_list,ind_list)\n",
    "# replacing nan's to 1\n",
    "mu[np.isnan(mu)] = 1\n",
    "\n",
    "lam_slice = lambda_[:,ind_list]\n",
    "Q_slice = Q[:, ind_2d[0], ind_2d[1]]\n",
    "P_slice = P[:,ind_2d[0], ind_2d[1]]\n",
    "mu_slice = mu[:,ind_2d[0], ind_2d[1]]\n",
    "for k in range(Q.shape[0]):\n",
    "    for i in range(len(ind_list)):\n",
    "        assert(lambda_[k,ind_list[i]] - lam_slice[k,i] == 0)\n",
    "        for j in range(len(ind_list)):\n",
    "            assert(Q[k,ind_list[i],ind_list[j]] - Q_slice[k,i,j] == 0)\n",
    "            assert(P[k,ind_list[i],ind_list[j]] - P_slice[k,i,j] == 0)\n",
    "            # print(mu[k,ind_list[i],ind_list[j]], mu_slice[k,i,j])\n",
    "            assert(mu[k,ind_list[i],ind_list[j]] - mu_slice[k,i,j] == 0)\n",
    "print(\"--- Data slicing complete ---\")\n",
    "out = [(key, val) for key, val in ind_map.items()]\n",
    "print('data row/col order:\\n',out) \n",
    "\n",
    "Ps_normal  = P_slice / P_slice.sum(axis=2, keepdims=True)\n",
    "np.savez_compressed(saveP_name, P=Ps_normal)\n",
    "np.savez_compressed(saveMu_name, mu=mu_slice) \n",
    "np.savez_compressed(saveLam_name, lam=lam_slice)\n",
    "np.savez_compressed(saveQ_name, Q=Q_slice)\n",
    "print(\"--- Sliced data saved ---\") "
   ]
  },
  {
   "cell_type": "code",
   "execution_count": 53,
   "id": "ece91675",
   "metadata": {},
   "outputs": [
    {
     "data": {
      "text/plain": [
       "{0: 196,\n",
       " 1: 71,\n",
       " 2: 121,\n",
       " 3: 152,\n",
       " 4: 206,\n",
       " 5: 115,\n",
       " 6: 94,\n",
       " 7: 144,\n",
       " 8: 143,\n",
       " 9: 98,\n",
       " 10: 99}"
      ]
     },
     "execution_count": 53,
     "metadata": {},
     "output_type": "execute_result"
    }
   ],
   "source": [
    "# Map back to ind\n",
    "ind_map"
   ]
  }
 ],
 "metadata": {
  "kernelspec": {
   "display_name": "RobotaxiRepositionProject",
   "language": "python",
   "name": "python3"
  },
  "language_info": {
   "codemirror_mode": {
    "name": "ipython",
    "version": 3
   },
   "file_extension": ".py",
   "mimetype": "text/x-python",
   "name": "python",
   "nbconvert_exporter": "python",
   "pygments_lexer": "ipython3",
   "version": "3.9.22"
  }
 },
 "nbformat": 4,
 "nbformat_minor": 5
}
