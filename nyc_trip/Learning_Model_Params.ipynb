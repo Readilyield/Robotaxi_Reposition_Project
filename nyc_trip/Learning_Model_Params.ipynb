{
 "cells": [
  {
   "cell_type": "code",
   "execution_count": 1,
   "metadata": {
    "execution": {
     "iopub.execute_input": "2025-05-04T08:45:02.798561Z",
     "iopub.status.busy": "2025-05-04T08:45:02.797766Z",
     "iopub.status.idle": "2025-05-04T08:45:05.221657Z",
     "shell.execute_reply": "2025-05-04T08:45:05.221183Z",
     "shell.execute_reply.started": "2025-05-04T08:45:02.798520Z"
    }
   },
   "outputs": [],
   "source": [
    "import os\n",
    "\n",
    "import numpy as np\n",
    "import pandas as pd\n",
    "from tqdm.notebook import trange, tqdm\n",
    "import itertools\n",
    "from collections import defaultdict\n",
    "from matplotlib import pyplot as plt\n",
    "import time\n",
    "import holidays\n",
    "import networkx as nx\n",
    "import scipy\n",
    "from scipy.linalg import eig\n",
    "from scipy.stats import kstest\n",
    "\n",
    "from constants import (\n",
    "    MAX_TAXI_ZONE_ID,\n",
    "    location_ids,\n",
    "    excluded_location_ids,\n",
    "    location_id_to_index,\n",
    "    num_locations,\n",
    "    taxi_type,\n",
    ")\n",
    "\n",
    "np.set_printoptions(suppress=True)\n"
   ]
  },
  {
   "cell_type": "markdown",
   "metadata": {},
   "source": [
    "## The goal of this notebook is to go through NYC FHVHV trip data to learn:\n",
    "\n",
    "- time-varying rider arrival rates, $\\lambda_{ij}(t)$\n",
    "- time-varying trip travel times, $\\mu_{ij}(t)$\n",
    "- rider transition matrices, $P_{ij}$"
   ]
  },
  {
   "cell_type": "markdown",
   "metadata": {},
   "source": [
    "### Initialization / Preprocessing (Create trip_data package)"
   ]
  },
  {
   "cell_type": "code",
   "execution_count": 2,
   "metadata": {
    "execution": {
     "iopub.execute_input": "2025-05-04T08:26:10.530887Z",
     "iopub.status.busy": "2025-05-04T08:26:10.529863Z",
     "iopub.status.idle": "2025-05-04T08:26:10.546928Z",
     "shell.execute_reply": "2025-05-04T08:26:10.546142Z",
     "shell.execute_reply.started": "2025-05-04T08:26:10.530823Z"
    }
   },
   "outputs": [
    {
     "name": "stdout",
     "output_type": "stream",
     "text": [
      "24\n"
     ]
    }
   ],
   "source": [
    "Delta = 60 # Example: Time bin duration in minutes\n",
    "T_max = int(24 * (60 / Delta)) # Number of time bins in a day\n",
    "# YEARS = list(range(2019, 2025))\n",
    "print(T_max)\n",
    "YEARS = [2025]\n",
    "us_holidays = holidays.US(years=YEARS)\n",
    "\n",
    "filenames = os.listdir(\"training data\")\n",
    "filenames = [fn for fn in filenames if fn.startswith(taxi_type)]\n",
    "# print(filenames)"
   ]
  },
  {
   "cell_type": "code",
   "execution_count": 4,
   "metadata": {
    "execution": {
     "iopub.execute_input": "2025-05-04T08:26:11.929360Z",
     "iopub.status.busy": "2025-05-04T08:26:11.928284Z",
     "iopub.status.idle": "2025-05-04T08:30:15.507772Z",
     "shell.execute_reply": "2025-05-04T08:30:15.506889Z",
     "shell.execute_reply.started": "2025-05-04T08:26:11.929280Z"
    }
   },
   "outputs": [
    {
     "name": "stdout",
     "output_type": "stream",
     "text": [
      "Processing data files...\n"
     ]
    },
    {
     "data": {
      "application/vnd.jupyter.widget-view+json": {
       "model_id": "a85f2584e5dd4ad0a2aa5b35c5903f4e",
       "version_major": 2,
       "version_minor": 0
      },
      "text/plain": [
       "  0%|          | 0/2 [00:00<?, ?it/s]"
      ]
     },
     "metadata": {},
     "output_type": "display_data"
    },
    {
     "name": "stdout",
     "output_type": "stream",
     "text": [
      "Processed data across 42 unique working dates in 163.61 seconds.\n",
      "Flattening trip time data...\n"
     ]
    },
    {
     "data": {
      "application/vnd.jupyter.widget-view+json": {
       "model_id": "0170dad0a16b42ca9549ada24225087c",
       "version_major": 2,
       "version_minor": 0
      },
      "text/plain": [
       "  0%|          | 0/811041 [00:00<?, ?it/s]"
      ]
     },
     "metadata": {},
     "output_type": "display_data"
    },
    {
     "name": "stdout",
     "output_type": "stream",
     "text": [
      "Saving consolidated data to 2Months24_trip_data_.npz...\n",
      "Data saved successfully.\n"
     ]
    }
   ],
   "source": [
    "# --- Data Processing (Combined Loop using Sort/Unique) ---\n",
    "\n",
    "print(\"Processing data files...\")\n",
    "start_time = time.time()\n",
    "\n",
    "# Initialize data structures\n",
    "# 3D array for trip counts: (time_bin, pickup_location_idx, dropoff_location_idx)\n",
    "trip_counts = np.zeros((T_max, num_locations, num_locations), dtype=np.int32)\n",
    "# Dictionary to store lists of trip times: {(time_bin, pu_idx, do_idx): [time1, time2, ...]}\n",
    "trip_times_dict = defaultdict(list)\n",
    "# Set to store unique working dates encountered across all files\n",
    "all_working_dates = set()\n",
    "\n",
    "# Iterate through each data file\n",
    "for file in tqdm(filenames):\n",
    "    try:\n",
    "        df = pd.read_parquet(f'training data/{file}') # Adjust path as needed\n",
    "    except FileNotFoundError:\n",
    "        print(f\"Warning: File not found {file}, skipping.\")\n",
    "        continue\n",
    "\n",
    "    # --- Common Filtering and Preprocessing ---\n",
    "\n",
    "    # Ensure pickup_datetime is in datetime format\n",
    "    df['pickup_datetime'] = pd.to_datetime(df['pickup_datetime'])\n",
    "    # Calculate trip time in seconds (or ensure it exists and is numeric)\n",
    "    if 'trip_time' not in df.columns and 'tpep_pickup_datetime' in df.columns and 'tpep_dropoff_datetime' in df.columns:\n",
    "         df['tpep_dropoff_datetime'] = pd.to_datetime(df['tpep_dropoff_datetime'])\n",
    "         df['trip_time'] = (df['tpep_dropoff_datetime'] - df['pickup_datetime']).dt.total_seconds()\n",
    "    elif 'trip_time' in df.columns:\n",
    "         df['trip_time'] = pd.to_numeric(df['trip_time'], errors='coerce')\n",
    "    else:\n",
    "        print(f\"Warning: Cannot determine trip_time in {file}, skipping this file.\")\n",
    "        # continue # Option: skip entire file\n",
    "\n",
    "    df.dropna(subset=['trip_time'], inplace=True)\n",
    "    df = df[df['trip_time'] > 0]\n",
    "\n",
    "    unique_dates_in_file = df.pickup_datetime.dt.date.unique()\n",
    "    working_days_in_file = {date for date in unique_dates_in_file if date.weekday() < 5 and date not in us_holidays}\n",
    "    all_working_dates.update(working_days_in_file)\n",
    "\n",
    "    df = df[df.pickup_datetime.dt.date.isin(working_days_in_file)]\n",
    "    df = df[df['PULocationID'].isin(location_ids) & df['DOLocationID'].isin(location_ids)]\n",
    "\n",
    "    if df.empty: # Skip file if no valid data remains after filtering\n",
    "        print(f\"No valid data found in {file} after filtering, skipping.\")\n",
    "        continue\n",
    "\n",
    "    df['time_bin'] = (df['pickup_datetime'].dt.hour * (60 / Delta) \n",
    "                      + df['pickup_datetime'].dt.minute / Delta).astype(int)\n",
    "    df['pu_idx'] = df['PULocationID'].map(location_id_to_index)\n",
    "    df['do_idx'] = df['DOLocationID'].map(location_id_to_index)\n",
    "\n",
    "    df.dropna(subset=['pu_idx', 'do_idx', 'time_bin'], inplace=True) # Also drop if time_bin is bad\n",
    "    df['pu_idx'] = df['pu_idx'].astype(int)\n",
    "    df['do_idx'] = df['do_idx'].astype(int)\n",
    "    df['time_bin'] = df['time_bin'].astype(int) # Ensure time_bin is also int\n",
    "\n",
    "    # --- Accumulate Counts and Times using Sort/Unique ---\n",
    "\n",
    "    # 1. Create combined keys as a structured array (efficient for sorting/unique)\n",
    "    # Select only necessary columns\n",
    "    relevant_cols = df[['time_bin', 'pu_idx', 'do_idx', 'trip_time']]\n",
    "    keys = relevant_cols[['time_bin', 'pu_idx', 'do_idx']].to_records(index=False)\n",
    "\n",
    "    # 2. Get indices that would sort the keys\n",
    "    sorted_indices = np.argsort(keys, order=('time_bin', 'pu_idx', 'do_idx'))\n",
    "\n",
    "    # 3. Apply sorting to keys and trip times\n",
    "    sorted_keys = keys[sorted_indices]\n",
    "    # Use .iloc for position-based indexing with the sorted indices array\n",
    "    sorted_trip_times = relevant_cols['trip_time'].iloc[sorted_indices].to_numpy()\n",
    "\n",
    "    # 4. Find unique keys, the index where each unique key first appears, and the count of each unique key\n",
    "    unique_keys, start_indices, counts = np.unique(sorted_keys, \n",
    "                                                   return_index=True, return_counts=True)\n",
    "\n",
    "    # 5. Update trip_counts array\n",
    "    # Iterate through the unique keys found in *this file* and add their counts\n",
    "    for key, count in zip(unique_keys, counts):\n",
    "        # Ensure indices are within bounds (should be if mapping/filtering is correct)\n",
    "        if (0 <= key.time_bin < T_max and \n",
    "           0 <= key.pu_idx < num_locations and \n",
    "           0 <= key.do_idx < num_locations):\n",
    "             trip_counts[key.time_bin, key.pu_idx, key.do_idx] += count\n",
    "        else:\n",
    "             print(f\"Warning: Out-of-bounds index encountered: {key}. Skipping count update.\")\n",
    "\n",
    "    # 6. Update trip_times_dict using slices from sorted_trip_times\n",
    "    for key, start, count in zip(unique_keys, start_indices, counts):\n",
    "         # Ensure indices are valid before accessing dict/array\n",
    "         if (0 <= key.time_bin < T_max and \n",
    "            0 <= key.pu_idx < num_locations and \n",
    "            0 <= key.do_idx < num_locations):\n",
    "             time_slice = sorted_trip_times[start : start + count]\n",
    "             trip_times_dict[(key.time_bin, key.pu_idx, key.do_idx)].extend(time_slice)\n",
    "         # No else needed here as the key wouldn't exist if indices were bad in step 5\n",
    "\n",
    "\n",
    "# Calculate total number of unique working dates processed\n",
    "num_dates = len(all_working_dates)\n",
    "processing_time = time.time() - start_time\n",
    "print(f\"Processed data across {num_dates} unique working dates in {processing_time:.2f} seconds.\")\n",
    "\n",
    "# --- Prepare Data for Saving ---\n",
    "\n",
    "# Flatten the trip times dictionary (same as before)\n",
    "keys_list = []\n",
    "counts_list = []\n",
    "trip_time_chunks = []\n",
    "\n",
    "print(\"Flattening trip time data...\")\n",
    "for key, times_list in tqdm(trip_times_dict.items()):\n",
    "    if times_list:\n",
    "        keys_list.append(key)\n",
    "        counts_list.append(len(times_list))\n",
    "        trip_time_chunks.append(np.array(times_list, dtype=np.float32))\n",
    "\n",
    "if trip_time_chunks:\n",
    "    all_trip_times_flat = np.concatenate(trip_time_chunks)\n",
    "else:\n",
    "    all_trip_times_flat = np.array([], dtype=np.float32)\n",
    "\n",
    "key_counts_array = np.array([\n",
    "    (*k, c) for k, c in zip(keys_list, counts_list)\n",
    "], dtype=np.int32)\n",
    "\n",
    "\n",
    "# --- Save Consolidated Data ---\n",
    "output_filename = '2Months24_trip_data_.npz' \n",
    "print(f\"Saving consolidated data to {output_filename}...\")\n",
    "np.savez_compressed(\n",
    "    output_filename,\n",
    "    trip_counts=trip_counts,\n",
    "    num_dates=np.array(num_dates),\n",
    "    all_trip_times=all_trip_times_flat,\n",
    "    key_counts=key_counts_array\n",
    ")\n",
    "print(\"Data saved successfully.\")\n"
   ]
  },
  {
   "cell_type": "markdown",
   "metadata": {},
   "source": [
    "### Load trip_data"
   ]
  },
  {
   "cell_type": "markdown",
   "metadata": {},
   "source": [
    "#### Task 1: analyze missing trips"
   ]
  },
  {
   "cell_type": "code",
   "execution_count": 5,
   "metadata": {
    "execution": {
     "iopub.execute_input": "2025-05-04T08:34:25.145100Z",
     "iopub.status.busy": "2025-05-04T08:34:25.143415Z",
     "iopub.status.idle": "2025-05-04T08:34:25.943288Z",
     "shell.execute_reply": "2025-05-04T08:34:25.942909Z",
     "shell.execute_reply.started": "2025-05-04T08:34:25.145033Z"
    }
   },
   "outputs": [
    {
     "name": "stdout",
     "output_type": "stream",
     "text": [
      "\n",
      "--- Loading Consolidated Data ---\n",
      "Data loaded successfully.\n"
     ]
    }
   ],
   "source": [
    "print(\"\\n--- Loading Consolidated Data ---\")\n",
    "data_filename = output_filename\n",
    "try:\n",
    "    with np.load(data_filename) as data:\n",
    "        loaded_trip_counts = data['trip_counts']\n",
    "        loaded_num_dates = data['num_dates'].item()\n",
    "        loaded_all_trip_times_flat = data['all_trip_times']\n",
    "        loaded_key_counts = data['key_counts']\n",
    "    print(\"Data loaded successfully.\")\n",
    "except FileNotFoundError:\n",
    "    print(f\"Error: Consolidated data file {data_filename} not found. Cannot proceed with tasks.\")\n",
    "    exit()"
   ]
  },
  {
   "cell_type": "markdown",
   "metadata": {
    "jp-MarkdownHeadingCollapsed": true
   },
   "source": [
    "#### Task 2: check irreducibility (positive-recurrence) for the Markov chain\n",
    "- for $P_{ij}$:\n",
    "- Check irreducibility\n",
    "- Check positive recurrence by calculating stationary distribution"
   ]
  },
  {
   "cell_type": "code",
   "execution_count": 6,
   "metadata": {
    "execution": {
     "iopub.execute_input": "2025-05-04T08:40:15.322901Z",
     "iopub.status.busy": "2025-05-04T08:40:15.321785Z",
     "iopub.status.idle": "2025-05-04T08:40:18.199762Z",
     "shell.execute_reply": "2025-05-04T08:40:18.199238Z",
     "shell.execute_reply.started": "2025-05-04T08:40:15.322855Z"
    }
   },
   "outputs": [
    {
     "name": "stdout",
     "output_type": "stream",
     "text": [
      "Reconstructing trip times dictionary (times in hours)...\n"
     ]
    },
    {
     "data": {
      "application/vnd.jupyter.widget-view+json": {
       "model_id": "0a957658b3a84dab86d1fbc59d838b0c",
       "version_major": 2,
       "version_minor": 0
      },
      "text/plain": [
       "  0%|          | 0/811041 [00:00<?, ?it/s]"
      ]
     },
     "metadata": {},
     "output_type": "display_data"
    },
    {
     "name": "stdout",
     "output_type": "stream",
     "text": [
      "Reconstructed dictionary contains 811041 entries (trips).\n",
      "\n",
      "--- Task 1: Analyzing Missing Trips ---\n",
      "trip_counts shape: (24, 234, 234)\n",
      "Percentage of missing trips (time block x region pair combination): 38.28%\n",
      "Percentage of missing trips (just region pair combination): 5.82%\n"
     ]
    }
   ],
   "source": [
    "# --- Reconstruct the trip times dictionary (times in hours) ---\n",
    "print(\"Reconstructing trip times dictionary (times in hours)...\")\n",
    "reconstructed_trip_times_dict_hrs = defaultdict(list)\n",
    "start_index = 0\n",
    "# Check if key_counts array is not empty before iterating\n",
    "if loaded_key_counts.size > 0:\n",
    "    for row in tqdm(loaded_key_counts):\n",
    "        t, pu, do, count = row\n",
    "        times_slice_seconds = loaded_all_trip_times_flat[start_index : start_index + count]\n",
    "        reconstructed_trip_times_dict_hrs[(t, pu, do)] = times_slice_seconds / 3600.0\n",
    "        start_index += count\n",
    "else:\n",
    "    print(\"Key counts array is empty, no trip times to reconstruct.\")\n",
    "\n",
    "print(f\"Reconstructed dictionary contains {len(reconstructed_trip_times_dict_hrs)} entries (trips).\")\n",
    "\n",
    "\n",
    "# --- Task 1: Analyze Missing Trips ---\n",
    "print(\"\\n--- Task 1: Analyzing Missing Trips ---\")\n",
    "# (Code remains the same as previous version)\n",
    "if loaded_trip_counts is not None and loaded_num_dates is not None:\n",
    "    missing_trips = np.argwhere(loaded_trip_counts == 0)\n",
    "    total_possible_slots = np.prod(loaded_trip_counts.shape)\n",
    "    print(\"trip_counts shape:\",loaded_trip_counts.shape)\n",
    "    if total_possible_slots > 0:\n",
    "         percentage_missing = len(missing_trips) / total_possible_slots * 100\n",
    "         print(f\"Percentage of missing trips (time block x region pair combination): {percentage_missing:.2f}%\")\n",
    "    else:\n",
    "        print(\"Trip counts array is empty or invalid.\")\n",
    "\n",
    "    tripcount_overalltime = loaded_trip_counts.sum(axis=0)\n",
    "    missing_trips_overalltime = np.argwhere(tripcount_overalltime == 0)\n",
    "    total_possible_overall_slots = np.prod(tripcount_overalltime.shape)\n",
    "\n",
    "    if total_possible_overall_slots > 0:\n",
    "        percentage_missing_overall = len(missing_trips_overalltime) / total_possible_overall_slots * 100\n",
    "        print(f\"Percentage of missing trips (just region pair combination): {percentage_missing_overall:.2f}%\")\n",
    "    else:\n",
    "        print(\"Overall trip counts array is empty or invalid.\")\n",
    "else:\n",
    "    print(\"Trip counts data not loaded, skipping Task 1.\")\n"
   ]
  },
  {
   "cell_type": "code",
   "execution_count": 7,
   "metadata": {
    "execution": {
     "iopub.execute_input": "2025-05-04T08:42:34.886898Z",
     "iopub.status.busy": "2025-05-04T08:42:34.885607Z",
     "iopub.status.idle": "2025-05-04T08:42:36.535764Z",
     "shell.execute_reply": "2025-05-04T08:42:36.535397Z",
     "shell.execute_reply.started": "2025-05-04T08:42:34.886830Z"
    }
   },
   "outputs": [
    {
     "name": "stdout",
     "output_type": "stream",
     "text": [
      "\n",
      "--- Task 2: Checking Markov Chain Irreducibility per Time Bin ---\n",
      "All time bins are strongly connected (irreducible)\n"
     ]
    }
   ],
   "source": [
    "# --- Task 2: Check Irreducibility ---\n",
    "print(\"\\n--- Task 2: Checking Markov Chain Irreducibility per Time Bin ---\")\n",
    "# (Code remains the same as previous version)\n",
    "if loaded_trip_counts is not None:\n",
    "    task2_trip_counts = loaded_trip_counts.copy()\n",
    "    task2_trip_counts[task2_trip_counts == 0] = 1\n",
    "\n",
    "    irreducibility_results = []\n",
    "    for t in range(T_max):\n",
    "        P_t = task2_trip_counts[t]\n",
    "        row_sums = P_t.sum(axis=1, keepdims=True)\n",
    "        P_transition = np.zeros_like(P_t, dtype=float)\n",
    "        valid_rows = row_sums > 0\n",
    "        if np.any(valid_rows):\n",
    "             P_transition[valid_rows[:,0]] = P_t[valid_rows[:,0]] / row_sums[valid_rows]\n",
    "\n",
    "        G = nx.DiGraph(P_t > 0)\n",
    "        is_irreducible = nx.is_strongly_connected(G)\n",
    "        irreducibility_results.append(is_irreducible)\n",
    "\n",
    "    print(f\"All time bins are {'strongly connected (irreducible)' if all(irreducibility_results) else 'NOT all strongly connected (irreducible)'}\")\n",
    "else:\n",
    "    print(\"Trip counts data not loaded, skipping Task 2.\")"
   ]
  },
  {
   "cell_type": "markdown",
   "metadata": {
    "jp-MarkdownHeadingCollapsed": true
   },
   "source": [
    "#### Task 3: Analyze trip times\n",
    "- find the most frequent trip\n",
    "- compare trip time distribution with an exponential dist\n",
    "- plot trip time distribution"
   ]
  },
  {
   "cell_type": "code",
   "execution_count": 8,
   "metadata": {
    "execution": {
     "iopub.execute_input": "2025-05-04T08:46:12.900689Z",
     "iopub.status.busy": "2025-05-04T08:46:12.899660Z",
     "iopub.status.idle": "2025-05-04T08:46:13.398329Z",
     "shell.execute_reply": "2025-05-04T08:46:13.397752Z",
     "shell.execute_reply.started": "2025-05-04T08:46:12.900611Z"
    }
   },
   "outputs": [
    {
     "name": "stdout",
     "output_type": "stream",
     "text": [
      "\n",
      "--- Task 3: Analyzing Specific Trip Time Distributions ---\n",
      "Most frequent trip key (time_bin, pu_idx, do_idx): (np.int32(8), np.int32(68), np.int32(68)) with 8258 trips.\n",
      "K-S Test (vs Exponential) for most frequent trip: D=0.2767, p-value=0\n",
      "  (Suggests data does NOT follow an Exponential distribution at alpha=0.05)\n",
      "Filtered 19 outliers from most frequent trip data (based on 0.1% and 99.9% percentiles).\n"
     ]
    },
    {
     "data": {
      "image/png": "[encoded data removed]",
      "text/plain": [
       "<Figure size 800x500 with 1 Axes>"
      ]
     },
     "metadata": {},
     "output_type": "display_data"
    }
   ],
   "source": [
    "# --- Task 3: Analyze Specific Trip Times ---\n",
    "print(\"\\n--- Task 3: Analyzing Specific Trip Time Distributions ---\")\n",
    "# (Code remains the same as previous version)\n",
    "if reconstructed_trip_times_dict_hrs:\n",
    "    lengths = [(key, len(times)) for key, times in reconstructed_trip_times_dict_hrs.items()]\n",
    "    if not lengths:\n",
    "        print(\"No trip data available to analyze distributions.\")\n",
    "    else:\n",
    "        lengths.sort(key=lambda x: x[1], reverse=True)\n",
    "        most_frequent_key = lengths[0][0]\n",
    "        num_trips_most_frequent = lengths[0][1]\n",
    "        print(f\"Most frequent trip key (time_bin, pu_idx, do_idx): {most_frequent_key} with {num_trips_most_frequent} trips.\")\n",
    "\n",
    "        travel_times_hrs = np.array(reconstructed_trip_times_dict_hrs[most_frequent_key])\n",
    "\n",
    "        if travel_times_hrs.size > 1 and travel_times_hrs.mean() > 0:\n",
    "            lambda_hat = 1.0 / travel_times_hrs.mean()\n",
    "            try:\n",
    "                D, p_value = kstest(\n",
    "                    rvs=travel_times_hrs, cdf='expon', args=(0, 1.0/lambda_hat), alternative='two-sided'\n",
    "                )\n",
    "                print(f\"K-S Test (vs Exponential) for most frequent trip: D={D:.4f}, p-value={p_value:.4g}\")\n",
    "                if p_value < 0.05: print(\n",
    "                    \"  (Suggests data does NOT follow an Exponential distribution at alpha=0.05)\")\n",
    "                else: print(\n",
    "                    \"  (Cannot reject the null hypothesis that data follows an Exponential distribution at alpha=0.05)\")\n",
    "            except Exception as e:\n",
    "                 print(f\"Could not perform KS-test: {e}\")\n",
    "\n",
    "            if travel_times_hrs.size > 100:\n",
    "                lower_threshold = np.percentile(travel_times_hrs, 0.1)\n",
    "                upper_threshold = np.percentile(travel_times_hrs, 99.9)\n",
    "                travel_times_filtered = travel_times_hrs[(travel_times_hrs > lower_threshold) & (travel_times_hrs < upper_threshold)]\n",
    "                print(f\"Filtered {len(travel_times_hrs) - len(travel_times_filtered)} outliers from most frequent trip data (based on 0.1% and 99.9% percentiles).\")\n",
    "\n",
    "                plt.figure(figsize=(8, 5))\n",
    "                plt.hist(travel_times_filtered, bins=50, density=True, alpha=0.7, label='Empirical PDF (Filtered)')\n",
    "                plt.title(f'Distribution of Travel Times (Filtered)')\n",
    "                plt.xlabel('Travel Time (hours)')\n",
    "                plt.ylabel('Density')\n",
    "                plt.legend()\n",
    "                plt.grid(True, alpha=0.3)\n",
    "                plt.show()\n",
    "            else:\n",
    "                print(\"Not enough data points in the most frequent trip to reliably filter/visualize.\")\n",
    "        else:\n",
    "            print(\"Not enough data or zero mean for the most frequent trip to perform analysis.\")\n",
    "else:\n",
    "    print(\"Reconstructed trip times dictionary is empty, skipping Task 3.\")"
   ]
  },
  {
   "cell_type": "code",
   "execution_count": 9,
   "metadata": {
    "execution": {
     "iopub.execute_input": "2025-05-04T08:52:49.745727Z",
     "iopub.status.busy": "2025-05-04T08:52:49.744350Z",
     "iopub.status.idle": "2025-05-04T08:54:04.792761Z",
     "shell.execute_reply": "2025-05-04T08:54:04.792345Z",
     "shell.execute_reply.started": "2025-05-04T08:52:49.745665Z"
    }
   },
   "outputs": [
    {
     "name": "stdout",
     "output_type": "stream",
     "text": [
      "\n",
      "--- Task 4: Calculating Mean Inverse Travel Times (Rate mu) ---\n",
      "Calculating mu values...\n"
     ]
    },
    {
     "data": {
      "application/vnd.jupyter.widget-view+json": {
       "model_id": "50ac2c82a8624688a8bb8d32feb9900b",
       "version_major": 2,
       "version_minor": 0
      },
      "text/plain": [
       "  0%|          | 0/811041 [00:00<?, ?it/s]"
      ]
     },
     "metadata": {},
     "output_type": "display_data"
    },
    {
     "data": {
      "image/png": "[encoded data removed]",
      "text/plain": [
       "<Figure size 640x480 with 1 Axes>"
      ]
     },
     "metadata": {},
     "output_type": "display_data"
    },
    {
     "name": "stdout",
     "output_type": "stream",
     "text": [
      "Calculated 811041 mu values.\n",
      "Saved mu values to mu_calculated.npz\n",
      "\n",
      "--- All Tasks Completed ---\n"
     ]
    }
   ],
   "source": [
    "# --- Task 4: Calculate Mean Inverse Travel Times (mu) ---\n",
    "\n",
    "save_filename = '2Months24_mu.npz'\n",
    "print(\"\\n--- Task 4: Calculating Mean Inverse Travel Times (Rate mu) ---\")\n",
    "# (Code remains the same as previous version)\n",
    "mu_ = np.full((T_max, num_locations, num_locations), np.nan, dtype=np.float64)\n",
    "\n",
    "if reconstructed_trip_times_dict_hrs:\n",
    "    print(\"Calculating mu values...\")\n",
    "    calculated_count = 0\n",
    "    skipped_zero_mean = 0\n",
    "    for key, arr_hrs in tqdm(reconstructed_trip_times_dict_hrs.items()):\n",
    "        time_bin, pu_idx, do_idx = key\n",
    "        arr = np.array(arr_hrs)\n",
    "\n",
    "        if arr.size == 0: continue\n",
    "\n",
    "        if arr.size > 2:\n",
    "            lower_threshold = np.percentile(arr, 0.1)\n",
    "            upper_threshold = np.percentile(arr, 99.9)\n",
    "            arr_curtailed = arr[(arr > lower_threshold) & (arr < upper_threshold)]\n",
    "            if arr_curtailed.size == 0: arr_curtailed = arr\n",
    "        else:\n",
    "            arr_curtailed = arr\n",
    "\n",
    "        mean_time_hrs = np.mean(arr_curtailed)\n",
    "\n",
    "        if mean_time_hrs > 0:\n",
    "            mu_val = 1.0 / mean_time_hrs\n",
    "            if mu_val > 100: mu_val = 100.0\n",
    "            elif mu_val < 0.01: mu_val = 0.01\n",
    "            mu_[time_bin, pu_idx, do_idx] = mu_val\n",
    "            calculated_count += 1\n",
    "        else:\n",
    "            skipped_zero_mean +=1\n",
    "\n",
    "    plt.hist(mu_.flatten(), bins=50, density=True, alpha=0.75, label='mu_ PDF')\n",
    "    plt.legend()\n",
    "    plt.show()\n",
    "    \n",
    "    print(f\"Calculated {calculated_count} mu values.\")\n",
    "    if skipped_zero_mean > 0: print(f\"Skipped {skipped_zero_mean} entries due to zero mean after filtering.\")\n",
    "    np.savez_compressed(save_filename, mu=mu_)\n",
    "    print(\"Saved mu values to mu_calculated.npz\")\n",
    "else:\n",
    "    print(\"Reconstructed trip times dictionary is empty, skipping Task 4.\")\n",
    "\n",
    "print(\"\\n--- All Tasks Completed ---\")"
   ]
  },
  {
   "cell_type": "markdown",
   "metadata": {},
   "source": [
    "### Compute $\\lambda_{ij}$\n",
    "\n",
    "The number of arrivals $N_{it}^{(d)}$ on day $d$, for time bin $t$, at location $i$, is assumed to be distributed as:\n",
    "$$N_{it}^{(d)} \\sim \\text{Poisson}(\\lambda_{it}\\cdot \\Delta)$$\n",
    "\n",
    "MLE for $\\lambda_{it}$, per-hour rider arrival rate, is: $$\\hat{\\lambda}_{it} = \\frac{1}{D\\cdot (\\Delta / 60)}\\sum_{d=1}^D \\sum_{j=1}^r N_{ijt}^{(d)}$$ where $D$ is the number of observed working days, and $\\Delta$ is the time bin width in minutes, and $j$ is the destination location.\n",
    "- Check if $\\lambda_{it} > 0$ for all $i$ and $t$."
   ]
  },
  {
   "cell_type": "code",
   "execution_count": 10,
   "metadata": {
    "execution": {
     "iopub.execute_input": "2025-05-04T09:17:25.644025Z",
     "iopub.status.busy": "2025-05-04T09:17:25.642319Z",
     "iopub.status.idle": "2025-05-04T09:17:25.659660Z",
     "shell.execute_reply": "2025-05-04T09:17:25.659198Z",
     "shell.execute_reply.started": "2025-05-04T09:17:25.643977Z"
    }
   },
   "outputs": [
    {
     "name": "stdout",
     "output_type": "stream",
     "text": [
      "\n",
      "--- Calculate Departure Rates (Lambda) ---\n",
      "Total days observed: 42\n",
      "Shape of lambda_departure_rate array (T_max, num_locations): (24, 234)\n",
      "\n",
      "Total system departure rate per hour for each time bin (sum across locations):\n",
      "[16286.38095238  9758.61904762  6379.28571429  5480.11904762\n",
      "  7356.0952381  10872.71428571 18888.30952381 30623.30952381\n",
      " 37859.69047619 32102.35714286 27060.5        25425.19047619\n",
      " 25838.73809524 27030.30952381 29689.71428571 30468.16666667\n",
      " 31942.57142857 36875.71428571 38496.26190476 37148.83333333\n",
      " 34359.61904762 32550.9047619  31606.4047619  27679.76190476]\n",
      "\n",
      "There are 1 (time_bin, pickup_location_idx) pairs with zero average departure rate.\n"
     ]
    }
   ],
   "source": [
    "print(\"\\n--- Calculate Departure Rates (Lambda) ---\")\n",
    "\n",
    "# Use the loaded trip counts and number of dates\n",
    "trip_counts_data = loaded_trip_counts\n",
    "num_dates_processed = loaded_num_dates\n",
    "\n",
    "# Calculate total departures from each (time_bin, pu_idx) across all days\n",
    "# Summing over axis=2 (do_idx) gives total trips *leaving* pu_idx at time_bin\n",
    "total_departures = trip_counts_data.sum(axis=2) # Shape: (T_max, num_locations)\n",
    "print('Total days observed:',num_dates_processed)\n",
    "total_hours_observed = (Delta/60) * num_dates_processed # for one time bin\n",
    "# Calculate lambda_ as the average departure rate per hour\n",
    "# lambda_departure_rate[t, i] = avg number of trips *leaving* location i during time bin t, per hour.\n",
    "if total_hours_observed > 0:\n",
    "    lambda_departure_rate = total_departures / total_hours_observed # Shape: (T_max, num_locations)\n",
    "\n",
    "    print(\"Shape of lambda_departure_rate array (T_max, num_locations):\", lambda_departure_rate.shape)\n",
    "\n",
    "    # Calculate the total system departure rate per hour for each time bin (sum across all pickup locations)\n",
    "    total_system_rate_per_bin = lambda_departure_rate.sum(axis=1) # Shape: (T_max,)\n",
    "    print(\"\\nTotal system departure rate per hour for each time bin (sum across locations):\")\n",
    "    # Limit printing if it's too long\n",
    "    if len(total_system_rate_per_bin) > 50:\n",
    "         print(total_system_rate_per_bin[:25], \"...\", total_system_rate_per_bin[-25:])\n",
    "    else:\n",
    "        print(total_system_rate_per_bin)\n",
    "\n",
    "\n",
    "    # Find indices (time_bin, pu_idx) where the average departure rate is zero\n",
    "    zero_lambda_indices = np.argwhere(lambda_departure_rate == 0)\n",
    "    print(f\"\\nThere are {len(zero_lambda_indices)}\"+\n",
    "          \" (time_bin, pickup_location_idx) pairs with zero average departure rate.\")\n",
    "\n",
    "    # Optional: Print the actual indices if the number is small\n",
    "    # if 0 < len(zero_lambda_indices) < 20:\n",
    "    #    print(\"Indices (time_bin, pu_idx) with zero departure rate:\")\n",
    "    #    print(zero_lambda_indices)\n",
    "\n",
    "else:\n",
    "    print(\"Error: Total observation time is zero (num_dates might be zero?), cannot calculate rates.\")"
   ]
  },
  {
   "cell_type": "markdown",
   "metadata": {},
   "source": []
  },
  {
   "cell_type": "code",
   "execution_count": null,
   "metadata": {},
   "outputs": [],
   "source": []
  }
 ],
 "metadata": {
  "kernelspec": {
   "display_name": "RobotaxiRepositionProject",
   "language": "python",
   "name": "python3"
  },
  "language_info": {
   "codemirror_mode": {
    "name": "ipython",
    "version": 3
   },
   "file_extension": ".py",
   "mimetype": "text/x-python",
   "name": "python",
   "nbconvert_exporter": "python",
   "pygments_lexer": "ipython3",
   "version": "3.9.22"
  }
 },
 "nbformat": 4,
 "nbformat_minor": 4
}
