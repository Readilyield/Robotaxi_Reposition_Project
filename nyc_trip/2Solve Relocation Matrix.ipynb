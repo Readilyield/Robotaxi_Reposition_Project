{
 "cells": [
  {
   "cell_type": "code",
   "execution_count": 1,
   "metadata": {},
   "outputs": [],
   "source": [
    "\n",
    "import numpy as np\n",
    "import gurobipy as gp\n",
    "from gurobipy import GRB, quicksum\n",
    "from tqdm.notebook import trange\n",
    "\n",
    "np.set_printoptions(suppress=True)\n",
    "\n",
    "from constants import (\n",
    "    MAX_TAXI_ZONE_ID,\n",
    "    location_ids,\n",
    "    excluded_location_ids,\n",
    "    location_id_to_index,\n",
    "    num_locations,\n",
    "    taxi_type,\n",
    ")"
   ]
  },
  {
   "cell_type": "markdown",
   "metadata": {},
   "source": [
    "$$\\begin{align*}\n",
    "\\max_{\\bar{e}, \\bar{f}, \\bar{a}} \\quad & \\frac{1}{K\\Delta} \\sum_{k=0}^{K-1} \\sum_{i=1}^r \\sum_{j=1}^r \\bar{a}_i \\lambda_i(t + k\\Delta) P_{ij}(t + k\\Delta) c_{ij}(t + k\\Delta) \\cdot\\Delta \\\\\n",
    "\\text{subject to} \\quad \n",
    "\n",
    "& \\frac{1}{K\\Delta} \\sum_{k=0}^{K-1} \\lambda_i(t + k\\Delta) P_{ij}(t + k\\Delta) \\bar{a}_i \\cdot \\Delta  = \\frac{1}{K\\Delta} \\sum_{k=0}^{K-1} \\mu_{ij}(t + k\\Delta) \\bar{f}_{ij} \\cdot \\Delta \\\\\n",
    "\n",
    "& \\frac{1}{K\\Delta} \\left(\\sum_{k=0}^{K-1} \\mu_{ij}(t + k\\Delta) \\cdot \\Delta\\right) \\bar{e}_{ij} \\leq \\sum_{j=1}^r \\left(\\frac{1}{K\\Delta} \\sum_{k=0}^{K-1} \\mu_{ji}(t + k\\Delta)  \\cdot \\Delta \\right)\\bar{f}_{ji}\\\\\n",
    "\n",
    "& \\sum_{\\substack{j=1 \\\\ j \\neq i}}^r \\frac{1}{K\\Delta} \\left(\\sum_{k=0}^{K-1} \\mu_{ji}(t + k\\Delta) \\cdot \\Delta\\right) \\bar{e}_{ji} \\leq \\frac{1}{K\\Delta}\\left(\\sum_{k=0}^{K-1} \\lambda_i(t + k\\Delta)\\cdot \\Delta \\right) \\bar{a}_i \\\\\n",
    "\n",
    "& \\frac{1}{K\\Delta} \\left(\\sum_{k=0}^{K-1} \\lambda_i(t + k\\Delta)\\cdot \\Delta \\right) \\bar{a}_i  \\\\\n",
    "\n",
    "&\\quad\\leq \\sum_{\\substack{j=1 \\\\ j \\neq i}}^r \\left(\\frac{1}{K\\Delta} \\sum_{k=0}^{K-1} \\mu_{ji}(t + k\\Delta)  \\cdot \\Delta \\right)\\bar{e}_{ji} + \\sum_{j=1}^r \\left(\\frac{1}{K\\Delta} \\sum_{k=0}^{K-1} \\mu_{ji}(t + k\\Delta) \\cdot \\Delta \\right)\\bar{f}_{ji} \\\\\n",
    "\n",
    "& \\frac{1}{K\\Delta} \\left(\\sum_{k=0}^{K-1} \\lambda_i(t + k\\Delta)\\cdot \\Delta \\right) \\bar{a}_i + \\sum_{\\substack{j=1 \\\\ j \\neq i}}^r \\left(\\frac{1}{K\\Delta} \\sum_{k=0}^{K-1} \\mu_{ij}(t + k\\Delta)  \\cdot \\Delta \\right)\\bar{e}_{ij} \\\\\n",
    "\n",
    "&\\quad = \\sum_{\\substack{j=1 \\\\ j \\neq i}}^r \\left(\\frac{1}{K\\Delta} \\sum_{k=0}^{K-1} \\mu_{ji}(t + k\\Delta)  \\cdot \\Delta \\right)\\bar{e}_{ji} + \\sum_{j=1}^r \\left(\\frac{1}{K\\Delta} \\sum_{k=0}^{K-1} \\mu_{ji}(t + k\\Delta) \\cdot \\Delta \\right)\\bar{f}_{ji} \\\\\n",
    "& e_{ij}, f_{ij} \\in [0, 1], \\sum_{i=1}^r \\sum_{j=1}^r e_{ij} + f_{ij} = 1\\\\\n",
    "& 0 \\leq \\bar{a}_i \\leq 1\n",
    "\\end{align*}\n",
    "$$"
   ]
  },
  {
   "cell_type": "code",
   "execution_count": 2,
   "metadata": {},
   "outputs": [],
   "source": [
    "Delta = 20 # in minutes\n",
    "T_max = int(24 * (60 // Delta))"
   ]
  },
  {
   "cell_type": "code",
   "execution_count": 3,
   "metadata": {},
   "outputs": [],
   "source": [
    "with np.load('trip_counts.npz') as data:\n",
    "    trip_counts = data['trip_counts']\n",
    "    num_dates = data['num_dates']\n",
    "\n",
    "with np.load('mu_cp_clipped.npz') as data:\n",
    "    mu = data['mu']\n",
    "    \n",
    "# mask trip_counts by 1 where 0\n",
    "trip_counts[trip_counts == 0] = 1\n",
    "\n",
    "# compute arrival rate\n",
    "lambda_ = trip_counts.sum(axis=2) / (Delta / 60 * num_dates)\n",
    "\n",
    "# normalize trip_counts\n",
    "P = trip_counts / trip_counts.sum(axis=2, keepdims=True)"
   ]
  },
  {
   "cell_type": "code",
   "execution_count": 5,
   "metadata": {},
   "outputs": [],
   "source": [
    "T, R, _ = P.shape"
   ]
  },
  {
   "cell_type": "code",
   "execution_count": 6,
   "metadata": {},
   "outputs": [],
   "source": [
    "def compute_time_averaged(lambda_, mu, t_start, K, T_max):\n",
    "    time_indices = [(t_start + k) % T_max for k in range(K)]\n",
    "    lambda_avg = np.mean(lambda_[time_indices, :], axis=0)         # shape: (r,)\n",
    "    mu_avg = np.mean(mu[time_indices, :, :], axis=0)               # shape: (r, r)\n",
    "    return lambda_avg, mu_avg\n"
   ]
  },
  {
   "cell_type": "code",
   "execution_count": 67,
   "metadata": {},
   "outputs": [],
   "source": [
    "def solve_routing(lambda_, mu, P, Delta, t_start=0, K=6):\n",
    "    lambda_avg, mu_avg = compute_time_averaged(lambda_, mu, t_start, K, T_max)\n",
    "    P_avg = np.mean(P[[(t_start + k) % T_max for k in range(K)], :, :], axis=0)  # optional if P is time-varying\n",
    "\n",
    "    r = lambda_.shape[1]\n",
    "    model = gp.Model(\"lookahead_empty_car_routing\")\n",
    "    model.setParam('OutputFlag', 0)\n",
    "    \n",
    "    # For numeric stability\n",
    "    \n",
    "    # model.setParam('OptimalityTol', 1e-9)\n",
    "    # model.setParam('FeasibilityTol', 1e-9)\n",
    "    # model.setParam('NumericFocus', 3)\n",
    "    \n",
    "    # scaling e, f, and a by this factor for numeric stability\n",
    "    SCALE = 1000\n",
    "    \n",
    "    # Variables\n",
    "    a = model.addVars(r, lb=0, ub=1, name=\"a\")\n",
    "    e = model.addVars(r, r, lb=0, ub=SCALE, name=\"e\")\n",
    "    f = model.addVars(r, r, lb=0, ub=SCALE, name=\"f\")\n",
    "    hello = model.addVar(lb=0, ub=1, name=\"hello\")\n",
    "\n",
    "    # Objective\n",
    "    model.setObjective(\n",
    "        quicksum(a[i] * lambda_avg[i] * P_avg[i, j] for i in range(r) for j in range(r)) + 30000 * hello,\n",
    "        GRB.MAXIMIZE\n",
    "    )\n",
    "\n",
    "    # fairness\n",
    "    model.addConstrs(\n",
    "        a[i] >= hello for i in range(r)\n",
    "    )\n",
    "        \n",
    "\n",
    "    # Eq. 10a: Ride flow balance\n",
    "    ride_flow_expr = {\n",
    "        (i, j): SCALE * a[i] * lambda_avg[i] * P_avg[i, j] - mu_avg[i, j] * f[i, j]\n",
    "        for i in range(r) for j in range(r)\n",
    "    }\n",
    "    model.addConstrs((ride_flow_expr[i, j] == 0 for i in range(r) for j in range(r)), name=\"ride_flow_balance\")\n",
    "\n",
    "    # Eq. 10b: Empty car flow balance\n",
    "    model.addConstrs((\n",
    "        mu_avg[i, j] * e[i, j] <= quicksum(mu_avg[l, i] * f[l, i] for l in range(r))\n",
    "        for i in range(r) for j in range(r) if i != j\n",
    "    ), name=\"empty_car_flow\")\n",
    "\n",
    "    # Eq. 10c: Supply conservation (lower bound)\n",
    "    model.addConstrs((\n",
    "        quicksum(mu_avg[j, i] * e[j, i] for j in range(r) if j != i) <= SCALE * lambda_avg[i] * a[i]\n",
    "        for i in range(r)\n",
    "    ), name=\"supply_lower\")\n",
    "    \n",
    "    # Eq. 10c: Supply conservation (upper bound)\n",
    "    model.addConstrs((\n",
    "        SCALE * lambda_avg[i] * a[i] <=\n",
    "        quicksum(mu_avg[j, i] * e[j, i] for j in range(r) if j != i) +\n",
    "        quicksum(mu_avg[j, i] * f[j, i] for j in range(r))\n",
    "        for i in range(r)\n",
    "    ), name=\"supply_upper\")\n",
    "    \n",
    "    # Eq. 10d: Car flow balance\n",
    "    model.addConstrs((\n",
    "        SCALE * lambda_avg[i] * a[i] +\n",
    "        quicksum(mu_avg[i, j] * e[i, j] for j in range(r) if j != i)\n",
    "        ==\n",
    "        quicksum(mu_avg[j, i] * e[j, i] for j in range(r) if j != i) +\n",
    "        quicksum(mu_avg[j, i] * f[j, i] for j in range(r))\n",
    "        for i in range(r)\n",
    "    ), name=\"car_flow_balance\")\n",
    "    \n",
    "\n",
    "    # Unit mass constraint\n",
    "    model.addConstr(\n",
    "        quicksum(e[i,j] + f[i,j] for i in range(r) for j in range(r)) == SCALE,\n",
    "        name=\"unit_mass\"\n",
    "    )\n",
    "    \n",
    "    model.optimize()\n",
    "    \n",
    "    return model, a, e, f, lambda_avg, mu_avg\n",
    "\n",
    "def compute_q_matrix(a, e, f, mu_avg, lambda_avg):\n",
    "    \"\"\"\n",
    "    a, e, f: 2D array of shape (r, r)\n",
    "    mu_avg: 2D array of shape (r, r) averaged over time\n",
    "    lambda_avg: 1D array of shape (r,) averaged over time\n",
    "    \"\"\"\n",
    "    r = len(a)\n",
    "    q = np.zeros((r, r))\n",
    "\n",
    "    # Precompute denominator for qij and qii\n",
    "    for i in range(r):\n",
    "        denom = sum(mu_avg[k, i] * f[k, i] for k in range(r))\n",
    "        # print(f\"Denominator is zero for i={i}. Setting q[{i}, :] to 0.\")\n",
    "        for j in range(r):\n",
    "            if i != j:\n",
    "                if denom > 0:\n",
    "                    q[i, j] = mu_avg[i, j] * e[i, j] / denom\n",
    "                else:\n",
    "                    \n",
    "                    q[i, j] = 0.0\n",
    "            else:\n",
    "                # qii computation\n",
    "                numerator = lambda_avg[i] * a[i] - sum(\n",
    "                    mu_avg[k, i] * e[k, i] for k in range(r) if k != i\n",
    "                )\n",
    "                q[i, i] = numerator / denom if denom > 0 else 0.0\n",
    "\n",
    "    return q"
   ]
  },
  {
   "cell_type": "code",
   "execution_count": 68,
   "metadata": {},
   "outputs": [],
   "source": [
    "def solve_Q(K):\n",
    "    Qs = []\n",
    "    for t_start in trange(23, 24, 1):\n",
    "        print(f\"t_start: {t_start}\")\n",
    "        model, a, e, f, lambda_avg, mu_avg = solve_routing(lambda_, mu, P, Delta, t_start=t_start, K=K)\n",
    "        \n",
    "        # Extract the values of the variables\n",
    "        a_values = np.array([a[i].X for i in range(R)])\n",
    "        e_values = np.array([[e[i,j].X for j in range(R)] for i in range(R)])\n",
    "        f_values = np.array([[f[i,j].X for j in range(R)] for i in range(R)])\n",
    "\n",
    "        normalizer = (e_values + f_values).sum()\n",
    "\n",
    "        e_values /= normalizer\n",
    "        f_values /= normalizer\n",
    "            \n",
    "        # Compute the Q matrix\n",
    "        Q = compute_q_matrix(a_values, e_values, f_values, mu_avg, lambda_avg)\n",
    "        \n",
    "        # clip values close to 0\n",
    "        Q[np.isclose(Q, 0, atol=1e-9)] = 0\n",
    "        # normalize rows of Q to sum to 1\n",
    "        Q = Q / Q.sum(axis=1, keepdims=True)\n",
    "        \n",
    "        Qs.append(Q)\n",
    "        \n",
    "        # check rows are nonnegative / no entries with absolute value > 1\n",
    "        if not np.all(Q >= 0):\n",
    "            print(f\"Q matrix has negative entries at t_start={t_start}\")\n",
    "        if not np.all(np.abs(Q) <= 1):\n",
    "            print(f\"Q matrix has entries with absolute value > 1 at t_start={t_start}\")\n",
    "            \n",
    "    # save Qs as len(Q) x r x r np.ndarray\n",
    "    Qs = np.array(Qs)\n",
    "    np.savez(f'Qs_{K}_clipping.npz', Qs=Qs)\n",
    "    return Qs"
   ]
  },
  {
   "cell_type": "code",
   "execution_count": 69,
   "metadata": {},
   "outputs": [
    {
     "name": "stdout",
     "output_type": "stream",
     "text": [
      "t_start: 23\n"
     ]
    }
   ],
   "source": [
    "K = 6\n",
    "t_start = 23\n",
    "print(f\"t_start: {t_start}\")\n",
    "model, a, e, f, lambda_avg, mu_avg = solve_routing(lambda_, mu, P, Delta, t_start=t_start, K=K)\n",
    "\n",
    "# Extract the values of the variables\n",
    "a_values = np.array([a[i].X for i in range(R)])\n",
    "e_values = np.array([[e[i,j].X for j in range(R)] for i in range(R)])\n",
    "f_values = np.array([[f[i,j].X for j in range(R)] for i in range(R)])\n",
    "\n",
    "normalizer = (e_values + f_values).sum()\n",
    "\n",
    "e_values /= normalizer\n",
    "f_values /= normalizer\n",
    "    \n",
    "# Compute the Q matrix\n",
    "Q = compute_q_matrix(a_values, e_values, f_values, mu_avg, lambda_avg)\n",
    "\n",
    "# clip values close to 0\n",
    "Q[np.isclose(Q, 0, atol=1e-9)] = 0\n",
    "# normalize rows of Q to sum to 1\n",
    "Q = Q / Q.sum(axis=1, keepdims=True)\n",
    "\n",
    "# Qs.append(Q)\n",
    "\n",
    "# check rows are nonnegative / no entries with absolute value > 1\n",
    "if not np.all(Q >= 0):\n",
    "    print(f\"Q matrix has negative entries at t_start={t_start}\")\n",
    "if not np.all(np.abs(Q) <= 1):\n",
    "    print(f\"Q matrix has entries with absolute value > 1 at t_start={t_start}\")\n",
    "    "
   ]
  },
  {
   "cell_type": "code",
   "execution_count": 70,
   "metadata": {},
   "outputs": [
    {
     "data": {
      "text/plain": [
       "5.33811360302652"
      ]
     },
     "execution_count": 70,
     "metadata": {},
     "output_type": "execute_result"
    }
   ],
   "source": [
    "model.ObjVal"
   ]
  },
  {
   "cell_type": "code",
   "execution_count": 71,
   "metadata": {},
   "outputs": [
    {
     "data": {
      "text/plain": [
       "[<gurobi.Var hello (value 9.028419429644702e-05)>]"
      ]
     },
     "execution_count": 71,
     "metadata": {},
     "output_type": "execute_result"
    }
   ],
   "source": [
    "# get name for gurobi variable\n",
    "[v for v in model.getVars() if v.VarName == 'hello']"
   ]
  },
  {
   "cell_type": "code",
   "execution_count": 72,
   "metadata": {},
   "outputs": [],
   "source": [
    "# e[i, j].X\n",
    "# change e to np.array\n",
    "a = np.array([a[i].X for i in range(R)])\n",
    "e = np.array([[e[i, j].X for j in range(R)] for i in range(R)])\n",
    "f = np.array([[f[i, j].X for j in range(R)] for i in range(R)])"
   ]
  },
  {
   "cell_type": "code",
   "execution_count": 73,
   "metadata": {},
   "outputs": [
    {
     "data": {
      "text/plain": [
       "np.int64(0)"
      ]
     },
     "execution_count": 73,
     "metadata": {},
     "output_type": "execute_result"
    }
   ],
   "source": [
    "# count how many are 0 in a\n",
    "\n",
    "a_zeros = np.sum(a == 0)\n",
    "a_zeros"
   ]
  },
  {
   "cell_type": "code",
   "execution_count": 76,
   "metadata": {},
   "outputs": [],
   "source": [
    "# save Q as a numpy array\n",
    "\n",
    "np.savez('Q_clipping.npz', Q=Q)"
   ]
  },
  {
   "cell_type": "code",
   "execution_count": 75,
   "metadata": {},
   "outputs": [
    {
     "data": {
      "text/plain": [
       "array([1.02908878, 1.21748296, 1.30629773, 0.03828403, 0.77210848,\n",
       "       1.20590852, 1.06632185, 0.00411337, 0.46427473, 1.09350094,\n",
       "       1.01987585, 0.73364717, 1.31352282, 1.12035477, 0.99547216,\n",
       "       0.97248269, 1.13453631, 1.10989413, 1.07054119, 1.10520618,\n",
       "       0.74691889, 0.75451782, 1.07260541, 0.77563398, 0.01011218,\n",
       "       0.55639514, 1.10991368, 1.0146941 , 0.16450233, 1.08340427,\n",
       "       0.91323297, 1.20973466, 1.05250298, 1.14984498, 1.19523807,\n",
       "       1.1137352 , 1.33305083, 0.60327157, 0.62627673, 1.06308294,\n",
       "       1.24730788, 1.24210214, 1.27289797, 1.03539138, 1.07189272,\n",
       "       1.01400726, 1.10138393, 1.16970172, 1.10260022, 1.00489583,\n",
       "       1.25743551, 0.11223169, 1.10015265, 1.62039766, 1.29093937,\n",
       "       1.19719327, 0.83317629, 0.75410039, 0.86299759, 1.05096069,\n",
       "       0.85565417, 1.03874852, 1.06674062, 1.12528989, 1.94979579,\n",
       "       1.10319159, 1.13905892, 0.80207711, 1.02792696, 1.10593358,\n",
       "       1.13623591, 1.50163997, 1.11053806, 1.12123321, 0.76174911,\n",
       "       1.03129754, 1.10007659, 1.00545322, 0.86514218, 0.23237751,\n",
       "       1.0868827 , 1.25283434, 1.39026649, 0.63726918, 0.15534298,\n",
       "       1.01241277, 0.76302747, 1.00084727, 1.05383048, 0.99258609,\n",
       "       0.41441258, 0.71767889, 1.16756838, 0.78216269, 1.04940926,\n",
       "       2.94982744, 0.00452373, 1.14044272, 0.93974539, 0.76241663,\n",
       "       1.6277509 , 4.24848995, 1.71549064, 0.66002169, 0.8138745 ,\n",
       "       1.31790016, 0.88383487, 1.00936509, 0.55721089, 0.68783894,\n",
       "       1.01269247, 0.01267362, 1.07898291, 0.48064029, 0.81375365,\n",
       "       0.42017627, 1.16179278, 0.70330218, 0.99499127, 1.03024252,\n",
       "       0.97496352, 0.4378166 , 1.02677443, 0.79107947, 1.17477676,\n",
       "       1.04179792, 1.38227405, 0.80664536, 0.92389075, 0.81187613,\n",
       "       1.06916661, 1.46536944, 0.87904859, 0.66803448, 1.20287709,\n",
       "       0.8483369 , 0.96171597, 0.5192219 , 0.998346  , 1.07001092,\n",
       "       1.13819953, 0.67789539, 1.04382521, 0.15471983, 0.24638901,\n",
       "       0.44622503, 0.80235601, 1.76823179, 0.54750941, 1.20754443,\n",
       "       0.97534244, 1.02524772, 0.73998859, 1.08852172, 1.01958928,\n",
       "       0.75998147, 0.73368954, 1.2410061 , 3.00258922, 1.00270891,\n",
       "       0.98272153, 1.25643716, 1.56798304, 0.42993074, 0.78683659,\n",
       "       0.81820095, 0.94928502, 1.1126746 , 0.49119649, 1.91540169,\n",
       "       1.00288938, 1.02351182, 0.83068951, 0.87990044, 1.65522547,\n",
       "       1.14793956, 0.78204035, 0.77245505, 1.01406939, 1.00928234,\n",
       "       1.47466111, 0.59773566, 1.22004383, 0.47852744, 1.23750797,\n",
       "       0.82810284, 1.07574234, 1.12465572, 1.58048844, 1.17396136,\n",
       "       0.11005613, 1.03905708, 1.02084068, 0.89057741, 2.57757733,\n",
       "       1.03271919, 1.14478675, 2.08399264, 0.82175608, 1.01613809,\n",
       "       0.60974756, 1.13347485, 0.56789241, 0.80367834, 1.53260607,\n",
       "       1.03017516, 0.56580682, 1.10334443, 1.00166774, 0.75193018,\n",
       "       1.14471346, 1.13421712, 1.00276304, 1.15623446, 0.57730825,\n",
       "       1.10764735, 0.83526323, 0.48758814, 0.81228639, 1.31791017,\n",
       "       1.39397969, 0.98446382, 0.8497634 , 0.00543066, 1.72109814,\n",
       "       1.04166457, 1.18430748, 1.05375831, 1.22603985, 1.12476106,\n",
       "       1.00516458, 0.45659823, 1.24038055, 1.15512861])"
      ]
     },
     "execution_count": 75,
     "metadata": {},
     "output_type": "execute_result"
    }
   ],
   "source": [
    "Q.sum(axis=0)"
   ]
  },
  {
   "cell_type": "code",
   "execution_count": 74,
   "metadata": {},
   "outputs": [
    {
     "data": {
      "text/plain": [
       "array([], shape=(0, 1), dtype=int64)"
      ]
     },
     "execution_count": 74,
     "metadata": {},
     "output_type": "execute_result"
    }
   ],
   "source": [
    "np.argwhere(Q.sum(axis=0) > 5)"
   ]
  },
  {
   "cell_type": "code",
   "execution_count": 45,
   "metadata": {},
   "outputs": [
    {
     "data": {
      "text/plain": [
       "np.float64(0.03141177827911671)"
      ]
     },
     "execution_count": 45,
     "metadata": {},
     "output_type": "execute_result"
    }
   ],
   "source": [
    "a[50] + a[3]"
   ]
  },
  {
   "cell_type": "code",
   "execution_count": null,
   "metadata": {},
   "outputs": [],
   "source": []
  }
 ],
 "metadata": {
  "kernelspec": {
   "display_name": "nyc",
   "language": "python",
   "name": "python3"
  },
  "language_info": {
   "codemirror_mode": {
    "name": "ipython",
    "version": 3
   },
   "file_extension": ".py",
   "mimetype": "text/x-python",
   "name": "python",
   "nbconvert_exporter": "python",
   "pygments_lexer": "ipython3",
   "version": "3.9.21"
  }
 },
 "nbformat": 4,
 "nbformat_minor": 2
}
