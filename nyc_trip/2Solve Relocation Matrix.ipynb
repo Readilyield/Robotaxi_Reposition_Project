{
 "cells": [
  {
   "cell_type": "code",
   "execution_count": 1,
   "metadata": {},
   "outputs": [],
   "source": [
    "\n",
    "import numpy as np\n",
    "import gurobipy as gp\n",
    "from gurobipy import GRB, quicksum\n",
    "from tqdm.notebook import trange\n",
    "\n",
    "np.set_printoptions(suppress=True)\n",
    "\n",
    "from constants import (\n",
    "    MAX_TAXI_ZONE_ID,\n",
    "    location_ids,\n",
    "    excluded_location_ids,\n",
    "    location_id_to_index,\n",
    "    num_locations,\n",
    "    taxi_type,\n",
    ")"
   ]
  },
  {
   "cell_type": "markdown",
   "metadata": {},
   "source": [
    "$$\\begin{align*}\n",
    "\\max_{\\bar{e}, \\bar{f}, \\bar{a}} \\quad & \\frac{1}{K\\Delta} \\sum_{k=0}^{K-1} \\sum_{i=1}^r \\sum_{j=1}^r \\bar{a}_i \\lambda_i(t + k\\Delta) P_{ij}(t + k\\Delta) c_{ij}(t + k\\Delta) \\cdot\\Delta \\\\\n",
    "\\text{subject to} \\quad \n",
    "\n",
    "& \\frac{1}{K\\Delta} \\sum_{k=0}^{K-1} \\lambda_i(t + k\\Delta) P_{ij}(t + k\\Delta) \\bar{a}_i \\cdot \\Delta  = \\frac{1}{K\\Delta} \\sum_{k=0}^{K-1} \\mu_{ij}(t + k\\Delta) \\bar{f}_{ij} \\cdot \\Delta \\\\\n",
    "\n",
    "& \\frac{1}{K\\Delta} \\left(\\sum_{k=0}^{K-1} \\mu_{ij}(t + k\\Delta) \\cdot \\Delta\\right) \\bar{e}_{ij} \\leq \\sum_{j=1}^r \\left(\\frac{1}{K\\Delta} \\sum_{k=0}^{K-1} \\mu_{ji}(t + k\\Delta)  \\cdot \\Delta \\right)\\bar{f}_{ji}\\\\\n",
    "\n",
    "& \\sum_{\\substack{j=1 \\\\ j \\neq i}}^r \\frac{1}{K\\Delta} \\left(\\sum_{k=0}^{K-1} \\mu_{ji}(t + k\\Delta) \\cdot \\Delta\\right) \\bar{e}_{ji} \\leq \\frac{1}{K\\Delta}\\left(\\sum_{k=0}^{K-1} \\lambda_i(t + k\\Delta)\\cdot \\Delta \\right) \\bar{a}_i \\\\\n",
    "\n",
    "& \\frac{1}{K\\Delta} \\left(\\sum_{k=0}^{K-1} \\lambda_i(t + k\\Delta)\\cdot \\Delta \\right) \\bar{a}_i  \\\\\n",
    "\n",
    "&\\quad\\leq \\sum_{\\substack{j=1 \\\\ j \\neq i}}^r \\left(\\frac{1}{K\\Delta} \\sum_{k=0}^{K-1} \\mu_{ji}(t + k\\Delta)  \\cdot \\Delta \\right)\\bar{e}_{ji} + \\sum_{j=1}^r \\left(\\frac{1}{K\\Delta} \\sum_{k=0}^{K-1} \\mu_{ji}(t + k\\Delta) \\cdot \\Delta \\right)\\bar{f}_{ji} \\\\\n",
    "\n",
    "& \\frac{1}{K\\Delta} \\left(\\sum_{k=0}^{K-1} \\lambda_i(t + k\\Delta)\\cdot \\Delta \\right) \\bar{a}_i + \\sum_{\\substack{j=1 \\\\ j \\neq i}}^r \\left(\\frac{1}{K\\Delta} \\sum_{k=0}^{K-1} \\mu_{ij}(t + k\\Delta)  \\cdot \\Delta \\right)\\bar{e}_{ij} \\\\\n",
    "\n",
    "&\\quad = \\sum_{\\substack{j=1 \\\\ j \\neq i}}^r \\left(\\frac{1}{K\\Delta} \\sum_{k=0}^{K-1} \\mu_{ji}(t + k\\Delta)  \\cdot \\Delta \\right)\\bar{e}_{ji} + \\sum_{j=1}^r \\left(\\frac{1}{K\\Delta} \\sum_{k=0}^{K-1} \\mu_{ji}(t + k\\Delta) \\cdot \\Delta \\right)\\bar{f}_{ji} \\\\\n",
    "& e_{ij}, f_{ij} \\in [0, 1], \\sum_{i=1}^r \\sum_{j=1}^r e_{ij} + f_{ij} = 1\\\\\n",
    "& 0 \\leq \\bar{a}_i \\leq 1\n",
    "\\end{align*}\n",
    "$$"
   ]
  },
  {
   "cell_type": "code",
   "execution_count": 2,
   "metadata": {},
   "outputs": [],
   "source": [
    "Delta = 20 # in minutes\n",
    "T_max = int(24 * (60 // Delta))"
   ]
  },
  {
   "cell_type": "code",
   "execution_count": 3,
   "metadata": {},
   "outputs": [],
   "source": [
    "with np.load('trip_counts.npz') as data:\n",
    "    trip_counts = data['trip_counts']\n",
    "    num_dates = data['num_dates']\n",
    "\n",
    "with np.load('mu_cp_clipped.npz') as data:\n",
    "    mu = data['mu']\n",
    "    \n",
    "# mask trip_counts by 1 where 0\n",
    "trip_counts[trip_counts == 0] = 1\n",
    "\n",
    "# compute arrival rate\n",
    "lambda_ = trip_counts.sum(axis=2) / (Delta / 60 * num_dates)\n",
    "lambda_2 = lambda_ / lambda_.sum(axis=1, keepdims=True)\n",
    "\n",
    "# normalize trip_counts\n",
    "P = trip_counts / trip_counts.sum(axis=2, keepdims=True)"
   ]
  },
  {
   "cell_type": "code",
   "execution_count": 6,
   "metadata": {},
   "outputs": [],
   "source": [
    "T, R, _ = P.shape"
   ]
  },
  {
   "cell_type": "code",
   "execution_count": 7,
   "metadata": {},
   "outputs": [],
   "source": [
    "def compute_time_averaged(lambda_, mu, t_start, K, T_max):\n",
    "    time_indices = [(t_start + k) % T_max for k in range(K)]\n",
    "    lambda_avg = np.mean(lambda_[time_indices, :], axis=0)         # shape: (r,)\n",
    "    mu_avg = np.mean(mu[time_indices, :, :], axis=0)               # shape: (r, r)\n",
    "    return lambda_avg, mu_avg\n"
   ]
  },
  {
   "cell_type": "code",
   "execution_count": 12,
   "metadata": {},
   "outputs": [],
   "source": [
    "def solve_routing(lambda_, mu, P, Delta, t_start=0, K=6):\n",
    "    lambda_avg, mu_avg = compute_time_averaged(lambda_, mu, t_start, K, T_max)\n",
    "    P_avg = np.mean(P[[(t_start + k) % T_max for k in range(K)], :, :], axis=0)  # optional if P is time-varying\n",
    "\n",
    "    r = lambda_.shape[1]\n",
    "    model = gp.Model(\"lookahead_empty_car_routing\")\n",
    "    model.setParam('OutputFlag', 0)\n",
    "    \n",
    "    # For numeric stability\n",
    "    \n",
    "    # model.setParam('OptimalityTol', 1e-9)\n",
    "    # model.setParam('FeasibilityTol', 1e-9)\n",
    "    # model.setParam('NumericFocus', 3)\n",
    "    \n",
    "    # scaling e, f, and a by this factor for numeric stability\n",
    "    SCALE = 1000\n",
    "    \n",
    "    # Variables\n",
    "    a = model.addVars(r, lb=0, ub=1, name=\"a\")\n",
    "    e = model.addVars(r, r, lb=0, ub=SCALE, name=\"e\")\n",
    "    f = model.addVars(r, r, lb=0, ub=SCALE, name=\"f\")\n",
    "    hello = model.addVar(lb=0, ub=1, name=\"hello\")\n",
    "\n",
    "    # Objective\n",
    "    model.setObjective(\n",
    "        quicksum(a[i] * lambda_avg[i] * P_avg[i, j] for i in range(r) for j in range(r)) + 1 * hello,\n",
    "        GRB.MAXIMIZE\n",
    "    )\n",
    "\n",
    "    # fairness\n",
    "    model.addConstrs(\n",
    "        a[i] >= hello for i in range(r)\n",
    "    )\n",
    "        \n",
    "\n",
    "    # Eq. 10a: Ride flow balance\n",
    "    ride_flow_expr = {\n",
    "        (i, j): SCALE * a[i] * lambda_avg[i] * P_avg[i, j] - mu_avg[i, j] * f[i, j]\n",
    "        for i in range(r) for j in range(r)\n",
    "    }\n",
    "    model.addConstrs((ride_flow_expr[i, j] == 0 for i in range(r) for j in range(r)), name=\"ride_flow_balance\")\n",
    "\n",
    "    # Eq. 10b: Empty car flow balance\n",
    "    model.addConstrs((\n",
    "        mu_avg[i, j] * e[i, j] <= quicksum(mu_avg[l, i] * f[l, i] for l in range(r))\n",
    "        for i in range(r) for j in range(r) if i != j\n",
    "    ), name=\"empty_car_flow\")\n",
    "\n",
    "    # Eq. 10c: Supply conservation (lower bound)\n",
    "    model.addConstrs((\n",
    "        quicksum(mu_avg[j, i] * e[j, i] for j in range(r) if j != i) <= SCALE * lambda_avg[i] * a[i]\n",
    "        for i in range(r)\n",
    "    ), name=\"supply_lower\")\n",
    "    \n",
    "    # Eq. 10c: Supply conservation (upper bound)\n",
    "    model.addConstrs((\n",
    "        SCALE * lambda_avg[i] * a[i] <=\n",
    "        quicksum(mu_avg[j, i] * e[j, i] for j in range(r) if j != i) +\n",
    "        quicksum(mu_avg[j, i] * f[j, i] for j in range(r))\n",
    "        for i in range(r)\n",
    "    ), name=\"supply_upper\")\n",
    "    \n",
    "    # Eq. 10d: Car flow balance\n",
    "    model.addConstrs((\n",
    "        SCALE * lambda_avg[i] * a[i] +\n",
    "        quicksum(mu_avg[i, j] * e[i, j] for j in range(r) if j != i)\n",
    "        ==\n",
    "        quicksum(mu_avg[j, i] * e[j, i] for j in range(r) if j != i) +\n",
    "        quicksum(mu_avg[j, i] * f[j, i] for j in range(r))\n",
    "        for i in range(r)\n",
    "    ), name=\"car_flow_balance\")\n",
    "    \n",
    "\n",
    "    # Unit mass constraint\n",
    "    model.addConstr(\n",
    "        quicksum(e[i,j] + f[i,j] for i in range(r) for j in range(r)) == SCALE,\n",
    "        name=\"unit_mass\"\n",
    "    )\n",
    "    \n",
    "    model.optimize()\n",
    "    \n",
    "    return model, a, e, f, lambda_avg, mu_avg\n",
    "\n",
    "def compute_q_matrix(a, e, f, mu_avg, lambda_avg):\n",
    "    \"\"\"\n",
    "    a, e, f: 2D array of shape (r, r)\n",
    "    mu_avg: 2D array of shape (r, r) averaged over time\n",
    "    lambda_avg: 1D array of shape (r,) averaged over time\n",
    "    \"\"\"\n",
    "    r = len(a)\n",
    "    q = np.zeros((r, r))\n",
    "\n",
    "    # Precompute denominator for qij and qii\n",
    "    for i in range(r):\n",
    "        denom = sum(mu_avg[k, i] * f[k, i] for k in range(r))\n",
    "        # print(f\"Denominator is zero for i={i}. Setting q[{i}, :] to 0.\")\n",
    "        for j in range(r):\n",
    "            if i != j:\n",
    "                if denom > 0:\n",
    "                    q[i, j] = mu_avg[i, j] * e[i, j] / denom\n",
    "                else:\n",
    "                    \n",
    "                    q[i, j] = 0.0\n",
    "            else:\n",
    "                # qii computation\n",
    "                numerator = lambda_avg[i] * a[i] - sum(\n",
    "                    mu_avg[k, i] * e[k, i] for k in range(r) if k != i\n",
    "                )\n",
    "                q[i, i] = numerator / denom if denom > 0 else 0.0\n",
    "\n",
    "    return q"
   ]
  },
  {
   "cell_type": "code",
   "execution_count": 13,
   "metadata": {},
   "outputs": [],
   "source": [
    "def solve_Q(K):\n",
    "    Qs = []\n",
    "    for t_start in trange(23, 24, 1):\n",
    "        print(f\"t_start: {t_start}\")\n",
    "        model, a, e, f, lambda_avg, mu_avg = solve_routing(lambda_, mu, P, Delta, t_start=t_start, K=K)\n",
    "        \n",
    "        # Extract the values of the variables\n",
    "        a_values = np.array([a[i].X for i in range(R)])\n",
    "        e_values = np.array([[e[i,j].X for j in range(R)] for i in range(R)])\n",
    "        f_values = np.array([[f[i,j].X for j in range(R)] for i in range(R)])\n",
    "\n",
    "        normalizer = (e_values + f_values).sum()\n",
    "\n",
    "        e_values /= normalizer\n",
    "        f_values /= normalizer\n",
    "            \n",
    "        # Compute the Q matrix\n",
    "        Q = compute_q_matrix(a_values, e_values, f_values, mu_avg, lambda_avg)\n",
    "        \n",
    "        # clip values close to 0\n",
    "        Q[np.isclose(Q, 0, atol=1e-9)] = 0\n",
    "        # normalize rows of Q to sum to 1\n",
    "        Q = Q / Q.sum(axis=1, keepdims=True)\n",
    "        \n",
    "        Qs.append(Q)\n",
    "        \n",
    "        # check rows are nonnegative / no entries with absolute value > 1\n",
    "        if not np.all(Q >= 0):\n",
    "            print(f\"Q matrix has negative entries at t_start={t_start}\")\n",
    "        if not np.all(np.abs(Q) <= 1):\n",
    "            print(f\"Q matrix has entries with absolute value > 1 at t_start={t_start}\")\n",
    "            \n",
    "    # save Qs as len(Q) x r x r np.ndarray\n",
    "    Qs = np.array(Qs)\n",
    "    np.savez(f'Qs_{K}_clipping.npz', Qs=Qs)\n",
    "    return Qs"
   ]
  },
  {
   "cell_type": "code",
   "execution_count": 14,
   "metadata": {},
   "outputs": [
    {
     "name": "stdout",
     "output_type": "stream",
     "text": [
      "t_start: 23\n"
     ]
    }
   ],
   "source": [
    "K = 6\n",
    "t_start = 23\n",
    "print(f\"t_start: {t_start}\")\n",
    "model, a, e, f, lambda_avg, mu_avg = solve_routing(lambda_2, mu, P, Delta, t_start=t_start, K=K)\n",
    "\n",
    "# Extract the values of the variables\n",
    "a_values = np.array([a[i].X for i in range(R)])\n",
    "e_values = np.array([[e[i,j].X for j in range(R)] for i in range(R)])\n",
    "f_values = np.array([[f[i,j].X for j in range(R)] for i in range(R)])\n",
    "\n",
    "normalizer = (e_values + f_values).sum()\n",
    "\n",
    "e_values /= normalizer\n",
    "f_values /= normalizer\n",
    "    \n",
    "# Compute the Q matrix\n",
    "Q = compute_q_matrix(a_values, e_values, f_values, mu_avg, lambda_avg)\n",
    "\n",
    "# clip values close to 0\n",
    "Q[np.isclose(Q, 0, atol=1e-9)] = 0\n",
    "# normalize rows of Q to sum to 1\n",
    "Q = Q / Q.sum(axis=1, keepdims=True)\n",
    "\n",
    "# Qs.append(Q)\n",
    "\n",
    "# check rows are nonnegative / no entries with absolute value > 1\n",
    "if not np.all(Q >= 0):\n",
    "    print(f\"Q matrix has negative entries at t_start={t_start}\")\n",
    "if not np.all(np.abs(Q) <= 1):\n",
    "    print(f\"Q matrix has entries with absolute value > 1 at t_start={t_start}\")\n",
    "    "
   ]
  },
  {
   "cell_type": "code",
   "execution_count": 15,
   "metadata": {},
   "outputs": [
    {
     "data": {
      "text/plain": [
       "2.0"
      ]
     },
     "execution_count": 15,
     "metadata": {},
     "output_type": "execute_result"
    }
   ],
   "source": [
    "model.ObjVal"
   ]
  },
  {
   "cell_type": "code",
   "execution_count": 16,
   "metadata": {},
   "outputs": [
    {
     "data": {
      "text/plain": [
       "[<gurobi.Var hello (value 1.0)>]"
      ]
     },
     "execution_count": 16,
     "metadata": {},
     "output_type": "execute_result"
    }
   ],
   "source": [
    "# get name for gurobi variable\n",
    "[v for v in model.getVars() if v.VarName == 'hello']"
   ]
  },
  {
   "cell_type": "code",
   "execution_count": 17,
   "metadata": {},
   "outputs": [],
   "source": [
    "# e[i, j].X\n",
    "# change e to np.array\n",
    "a = np.array([a[i].X for i in range(R)])\n",
    "e = np.array([[e[i, j].X for j in range(R)] for i in range(R)])\n",
    "f = np.array([[f[i, j].X for j in range(R)] for i in range(R)])"
   ]
  },
  {
   "cell_type": "code",
   "execution_count": 18,
   "metadata": {},
   "outputs": [
    {
     "data": {
      "text/plain": [
       "np.int64(0)"
      ]
     },
     "execution_count": 18,
     "metadata": {},
     "output_type": "execute_result"
    }
   ],
   "source": [
    "# count how many are 0 in a\n",
    "\n",
    "a_zeros = np.sum(a == 0)\n",
    "a_zeros"
   ]
  },
  {
   "cell_type": "code",
   "execution_count": 22,
   "metadata": {},
   "outputs": [],
   "source": [
    "# save Q as a numpy array\n",
    "\n",
    "np.savez('Q_clipping.npz', Q=Q)"
   ]
  },
  {
   "cell_type": "code",
   "execution_count": 20,
   "metadata": {},
   "outputs": [
    {
     "data": {
      "text/plain": [
       "array([1.4678205 , 1.75183444, 0.67157188, 0.01232249, 0.55607103,\n",
       "       3.29892459, 0.48472472, 0.0082244 , 0.46244659, 1.12025346,\n",
       "       0.27360106, 0.73345281, 1.15063408, 0.94081466, 0.74141984,\n",
       "       0.75735624, 1.19312654, 0.38663195, 0.83381249, 2.34618386,\n",
       "       0.74490856, 0.77062936, 1.31403476, 0.77661941, 0.06161148,\n",
       "       0.31945276, 2.10453268, 0.99975775, 0.16536544, 1.09940927,\n",
       "       0.91469363, 0.72989298, 0.66672031, 1.2466149 , 1.1665947 ,\n",
       "       1.18046913, 0.87332936, 0.60420118, 0.86417497, 1.03270543,\n",
       "       1.51695841, 1.19662149, 1.56194988, 1.01790345, 0.46793483,\n",
       "       1.16238272, 0.73619104, 1.16956739, 3.51537161, 0.03285883,\n",
       "       1.12789418, 0.09331296, 1.47639352, 0.75615371, 0.97577183,\n",
       "       1.10774104, 0.83397036, 0.75604942, 0.86278067, 1.08793945,\n",
       "       0.8833383 , 1.02459706, 2.79137131, 1.36831315, 0.63614397,\n",
       "       1.4239387 , 0.30430356, 0.80299898, 1.46685544, 1.09600143,\n",
       "       1.21839729, 0.91224684, 1.14279485, 1.0761298 , 0.77166934,\n",
       "       0.60955304, 0.83517472, 1.01266782, 1.59944151, 0.23223551,\n",
       "       0.68097747, 0.71755516, 1.30774625, 0.63849399, 0.15603203,\n",
       "       0.78851675, 0.76270935, 0.012652  , 1.54988598, 0.93031222,\n",
       "       0.68771235, 0.71910697, 1.52226179, 0.78310004, 1.14326445,\n",
       "       1.0991198 , 0.05312315, 1.21501389, 1.10764752, 0.52821592,\n",
       "       1.32643586, 2.19083703, 1.61926621, 0.01401316, 0.9914443 ,\n",
       "       1.5732084 , 0.90342398, 1.0690167 , 0.55745641, 0.69224993,\n",
       "       0.95202448, 0.06119871, 1.11257252, 0.48107362, 0.81476914,\n",
       "       0.42085532, 1.73845478, 1.66573323, 1.34347345, 1.0633184 ,\n",
       "       0.97421518, 0.46401576, 0.96114442, 1.0502036 , 1.28141169,\n",
       "       1.50364988, 1.3331307 , 0.85741014, 0.92537236, 0.81496654,\n",
       "       1.1817227 , 1.57002588, 0.87832405, 0.66781288, 0.87705183,\n",
       "       0.84777329, 1.18590275, 0.04679048, 0.99863745, 1.72103267,\n",
       "       1.38780995, 0.67973297, 1.52466457, 0.15562794, 0.24665575,\n",
       "       0.44749321, 0.82235907, 1.2068123 , 0.73377872, 1.80285889,\n",
       "       0.98628413, 1.16804247, 0.94440204, 1.36421426, 1.42847723,\n",
       "       0.76483198, 0.91125495, 1.22058159, 1.32903707, 0.14917969,\n",
       "       0.4958096 , 1.1593756 , 0.36907483, 0.43254827, 0.79130696,\n",
       "       0.81969486, 0.43196366, 1.20324807, 0.49253702, 1.7873478 ,\n",
       "       0.52261372, 1.11623601, 0.83119399, 1.01305425, 1.13585395,\n",
       "       1.21852762, 0.78153223, 0.77357758, 2.03628456, 0.93158533,\n",
       "       0.48754386, 0.04731732, 2.44767264, 0.32071246, 2.61449603,\n",
       "       0.82864942, 1.30859203, 1.34165927, 1.12067165, 0.98788203,\n",
       "       0.8584107 , 0.86776918, 1.2621957 , 0.94707702, 3.12628291,\n",
       "       1.12607993, 1.42045888, 1.72851305, 0.82522768, 1.04194519,\n",
       "       0.60886078, 1.34735365, 0.56932414, 0.90606348, 1.57444973,\n",
       "       1.04564938, 0.43780371, 2.1678399 , 0.84098645, 0.75334868,\n",
       "       0.79191681, 1.46637218, 0.09830918, 2.00318191, 0.58064409,\n",
       "       1.66517003, 0.7121846 , 0.83011634, 0.81499444, 1.17515942,\n",
       "       0.90262947, 0.79341743, 0.85029781, 0.0078947 , 1.59300908,\n",
       "       1.0214792 , 1.13404504, 0.35400699, 2.03406464, 2.05401244,\n",
       "       0.8048538 , 0.45629506, 1.26894968, 1.38296207])"
      ]
     },
     "execution_count": 20,
     "metadata": {},
     "output_type": "execute_result"
    }
   ],
   "source": [
    "Q.sum(axis=0)"
   ]
  },
  {
   "cell_type": "code",
   "execution_count": 21,
   "metadata": {},
   "outputs": [
    {
     "data": {
      "text/plain": [
       "array([], shape=(0, 1), dtype=int64)"
      ]
     },
     "execution_count": 21,
     "metadata": {},
     "output_type": "execute_result"
    }
   ],
   "source": [
    "np.argwhere(Q.sum(axis=0) > 5)"
   ]
  },
  {
   "cell_type": "code",
   "execution_count": 45,
   "metadata": {},
   "outputs": [
    {
     "data": {
      "text/plain": [
       "np.float64(0.03141177827911671)"
      ]
     },
     "execution_count": 45,
     "metadata": {},
     "output_type": "execute_result"
    }
   ],
   "source": [
    "a[50] + a[3]"
   ]
  },
  {
   "cell_type": "code",
   "execution_count": null,
   "metadata": {},
   "outputs": [],
   "source": []
  }
 ],
 "metadata": {
  "kernelspec": {
   "display_name": "nyc",
   "language": "python",
   "name": "python3"
  },
  "language_info": {
   "codemirror_mode": {
    "name": "ipython",
    "version": 3
   },
   "file_extension": ".py",
   "mimetype": "text/x-python",
   "name": "python",
   "nbconvert_exporter": "python",
   "pygments_lexer": "ipython3",
   "version": "3.9.21"
  }
 },
 "nbformat": 4,
 "nbformat_minor": 2
}
