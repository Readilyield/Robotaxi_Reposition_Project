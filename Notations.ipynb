{
 "cells": [
  {
   "cell_type": "markdown",
   "id": "5e2314ff",
   "metadata": {},
   "source": [
    "## Notation for solving the relocating problem in [Braverman et al. 2019]"
   ]
  },
  {
   "cell_type": "markdown",
   "id": "46e4433a",
   "metadata": {},
   "source": [
    "### Part 1: The basics\n",
    "#### *Parameters*\n",
    "$r \\in \\mathbb{R}_+$: Number of regions \n",
    "\n",
    "$N \\in \\mathbb{R}_+$: Robotaxi fleet size\n",
    "\n",
    "$\\lambda \\in \\mathbb{R}^r_+$: A vector for riders' arrival rate (Poisson) across all regions <br>\n",
    "\n",
    "$P \\in \\mathbb{R}^{r\\times r}_+$: State transition matrix for a ride's trip, allowing $P_{ii}>0$\n",
    "\n",
    "$\\mu \\in \\mathbb{R}^{r\\times r}_+$: Reciprocal of mean travel times <br> $1/\\mu_{ij}$ is the mean travel time from region $i$ to region $j$ for a robotaxi <br>\n",
    "\n",
    "[we can assume travel times from $i$ to $j$ for all robotaxies are i.i.d. exponential r.v. with mean $1/\\mu_{ij}$]\n",
    "\n",
    "#### *To solve*:\n",
    "$Q \\in \\mathbb{R}^{r\\times r}_+$: State transition matrix for relocating a robotaxi (when it is empty)\n",
    "\n",
    "#### *Other variables*:\n",
    "$E^{(N)}(t) \\in \\mathbb{Z}_+^{r\\times r}, t\\geq 0$: Empty-car distribution matrix at flet size $N$ and time step $t$, <br> $E^{(N)}_{ij}(t)$ = \\# of empty cars going from $i$ to $j$ or stays in $i$ if $j=i$ <br>\n",
    "$\\bar{E}^{(N)}(t) = E^{(N)}(t)/N$\n",
    "\n",
    "$F^{(N)}(t) \\in \\mathbb{Z}_+^{r\\times r}, t\\geq 0$: Occupied-car distribution matrix at flet size $N$ and time step $t$, <br> $F^{(N)}_{ij}(t)$ = \\# of occupied cars going from $i$ to $j$ or stays in $i$ if $j=i$ <br>\n",
    "$\\bar{F}^{(N)}(t) = F^{(N)}(t)/N$ <br>\n",
    "$\\bar{E}^{(N)}(\\infty), \\bar{F}^{(N)}(\\infty)$ are the stationary distribution of the $(\\bar{E}^{(N)}, \\bar{F}^{(N)})$ CTMC. <br>\n",
    "This CTMC has a single recurrence class, so all regions are reachable from any other region.\n",
    "\n",
    "$\\mathcal{J} = \\{(e,f)\\in [0,1]^{r\\times r}\\times [0,1]^{rxr}: \\sum_{i,j=1}^r (e_{ij}+f_{ij}) = 1\\}$ \n",
    "\n",
    "This is the set of state space (empty-car percentage over all (stay+en route) x occupied-car percentage over all (stay+en route)); the total sum is 1 which is the entire fleet.\n",
    "\n",
    "$A^{(N)}(\\infty) \\in [0,1]^r$ where $A_i^{(N)}(\\infty) = \\mathbb{P}(\\bar{E}^{(N)}_{ii}(\\infty)>0)$\n",
    "\n",
    "$\\bar{a} \\in [0,1]^r$ where $\\bar{a}_i = \\mathbb{P}(\\bar{e}_{ii}>0)$"
   ]
  },
  {
   "cell_type": "markdown",
   "id": "ea12effe",
   "metadata": {},
   "source": [
    "### Part 2: The optimization problem to solve an optimal static relocating policy\n",
    "\n",
    "$c_{ij} > 0$: Reward for completing a trip from $i$ to $j$\n",
    "\n",
    "$q \\in \\mathbb{R}^{rxr}$: $q_{ij}$'s are decision variables representing the static policy\n",
    "\n",
    "$(\\bar{e}, \\bar{f}, \\bar{a}) \\in \\mathcal{J}\\times [0,1]^r$ <br>\n",
    "$\\bar{e} = \\mathbb{E}[\\bar{E}^{(N)}(\\infty)], \\bar{f} = \\mathbb{E}[\\bar{F}^{(N)}(\\infty)], \\bar{a} = A^{(N)}(\\infty)$\n",
    "\n",
    "$\\bar{a}_i \\lambda_i P_{ij}$: The rate that a ride (car w/ rider) which is from $i$ to $j$ arrives\n",
    "\n",
    "$\\bar{a}_i = \\mathbb{P}(\\bar{E}^{(N)}_{ii}(\\infty)>0)$"
   ]
  },
  {
   "cell_type": "markdown",
   "id": "8cb46b43",
   "metadata": {},
   "source": [
    "### Formulation \\# 1\n",
    "\n",
    "\\begin{align}\n",
    "\\max_{q,\\bar{e},\\bar{f},\\bar{a}}&\\sum_{i=1}^r \\sum_{j=1}^r \\bar{a}_i\\lambda_i P_{ij}c_{ij} \\quad\\bar{a}_i \\lambda_i P_{ij}= \\text{ the rate that a ride which is from $i$ to $j$ arrives}\\\\\n",
    "\\text{subject to } \\bar{f}_{ij} &= \\frac{1}{\\mu_{ij}}\\bar{a}_i\\lambda_iP_{ij}\\quad \\forall i,j=1,\\cdots,r\\quad \\text{Little's Law }L=W\\lambda \\text{ for occupied cars going from $i$ to $j$}\\\\\n",
    "\\bar{e}_{ij} &= \\frac{1}{\\mu_{ij}}q_{ij}\\sum_{k=1}^r \\mu_{ki}\\bar{f}_{ki} \\quad\\forall 1 \\leq i\\neq j=1 \\leq r\\quad\\text{Little's Law for empty cars cars going from $i$ to $j$}\\\\\n",
    "&\\text{RHS is the rate that empty cars start their trips}\\\\\n",
    "\\lambda_i \\bar{a}_i &= \\sum_{k=1,k\\neq i}^r \\mu_{ki}\\bar{e}_{ki} + q_{ii}\\sum_{k=1}^r\\mu_{ki}\\bar{f}_{ki} \\quad\\forall i=1,\\cdots,r\\quad\\text{Car flow balance at region $i$}\\\\\n",
    "(1- &\\bar{a}_i)\\bar{e}_{ii} = 0 \\quad\\forall i=1,\\cdots,r\\quad\\text{Availability and empty car relation}\\\\\n",
    "(\\bar{e},&\\bar{f}) \\in \\mathcal{J} \\quad\\text{ unit mass constraints }\\\\\n",
    "q_{ij}&\\geq 0,\\quad \\sum_{j=1}^r q_{ij} = 1,\\quad 0\\leq \\bar{a}_{i}\\leq 1ç\n",
    "\\end{align}\n",
    "For car flow balance, LHS is total outflow rate (rider requests) from region $i$ (rider arrival rate x if empty car is available); RHS is total inflow rate (from other regions and ones that stays in $i$)<br>\n",
    "For availability, $1-\\bar{a}_i  = \\mathbb{P}(\\bar{E}^{(N)}_{ii}(\\infty)=0)$, so $1-\\bar{a}_i = 0$ *iff* $\\bar{e}_{ii}>0$\n",
    "\n",
    "\n",
    "#### Remark on Formulation \\# 1 \n",
    "From Section 3.2 of **Braverman et al. 2019**:\n",
    "The fluid-based empty-car routing policy requires 2 important assumptions: <br>\n",
    "1. The parameters remain constant over time\n",
    "2. The system has reached equilibrium\n",
    "\n",
    "Common solution: divide the day into periods of time where parameters are approximately constant w.r.t. each period."
   ]
  },
  {
   "cell_type": "markdown",
   "id": "beadcf01",
   "metadata": {},
   "source": [
    "### T-lookahead policy\n",
    "\n",
    "For time window $[t, t+T]$:\n",
    "\n",
    "\\begin{align}\n",
    "\\max_{q,\\bar{e},\\bar{f},\\bar{a}}\\;\\frac{1}{T}\\int_0^T\\bigg(\\sum_{i=1}^r &\\sum_{j=1}^r \\bar{a}_i\\lambda_i(t+u)\\cdot P_{ij}(t+u)\\cdot c_{ij}(t+u)\\bigg)du\\\\\n",
    "\\text{subject to } \\bar{f}_{ij} &= \\frac{1}{T}\\int_0^T\\bigg(\\frac{1}{\\mu_{ij}(t+u)}\\bar{a}_i\\lambda_i(t+u)\\cdot P_{ij}(t+u) \\bigg)du\n",
    "\\quad\\quad\\forall i,j=1,\\cdots,r\\quad\\quad \\text{Little's Law }L=W\\lambda \\text{ for occupied cars going from $i$ to $j$}\\\\\n",
    "\\bar{e}_{ij} &= \\frac{1}{T}\\int_0^T\\bigg(\\frac{1}{\\mu_{ij}(t+u)}q_{ij}\\sum_{k=1}^r \\mu_{ki}(t+u)\\bar{f}_{ki}\\bigg)du\n",
    "\\quad\\forall 1 \\leq i\\neq j=1 \\leq r\\quad\\quad\\;\\;\\text{Little's Law }L=W\\lambda \\text{ for empty cars cars going from $i$ to $j$}\\\\\n",
    "\\frac{1}{T}\\int_0^T\\lambda_i(t+u) \\bar{a}_idu &= \\frac{1}{T}\\int_0^T\\bigg( \\sum_{k=1,k\\neq i}^r \\mu_{ki}(t+u)\\bar{e}_{ki} + q_{ii}\\sum_{k=1}^r\\mu_{ki}(t+u)\\bar{f}_{ki}\\bigg)du\n",
    "\\quad\\forall i=1,\\cdots,r\\quad\\text{Car flow balance at region $i$}\\\\\n",
    "(1- &\\bar{a}_i)\\bar{e}_{ii} = 0 \\quad\\forall i=1,\\cdots,r\\quad\\text{Availability and empty car relation}\\\\\n",
    "(\\bar{e},&\\bar{f}) \\in \\mathcal{J} \\quad\\text{ unit mass constraints }\\\\\n",
    "q_{ij}&\\geq 0,\\quad \\sum_{j=1}^r q_{ij} = 1,\\quad 0\\leq \\bar{a}_{i}\\leq 1\\quad\\forall i=1,\\cdots,r\n",
    "\\end{align}"
   ]
  },
  {
   "cell_type": "markdown",
   "id": "3d7a8ad7-e0db-4745-8255-57f43643e3fe",
   "metadata": {},
   "source": [
    "### Discrete-time Lookahead policy\n",
    "$K$ time blocks, each time block has length $\\Delta$<br>\n",
    "$$\\begin{align*}\n",
    "\\max_{\\bar{e}, \\bar{f}, \\bar{a}} \\quad & \\frac{1}{K\\Delta} \\sum_{k=0}^{K-1} \\bigg(\\sum_{i,j=1}^r\\bar{a}_i \\lambda_i(t + k\\Delta) P_{ij}(t + k\\Delta) c_{ij}(t + k\\Delta)\\bigg)\\Delta \\\\\n",
    "\\text{subject to} \\quad \n",
    "& \\bar{f}_{ij} = \\frac{1}{K\\Delta} \\sum_{k=0}^{K-1} \\bigg(\\frac{1}{\\mu_{ij}(t + k\\Delta)}\\bar{a}_i\\lambda_i(t + k\\Delta) P_{ij}(t + k\\Delta) \\bigg) \\Delta\\\\\n",
    "& \\bar{e}_{ij} \\leq \\frac{1}{K\\Delta} \\sum_{k=0}^{K-1} \\bigg(\\frac{1}{\\mu_{ij}(t + k\\Delta)}\\sum_{l=1}^r \\mu_{li}(t + k\\Delta)  \\bar{f}_{li}\\bigg)\\Delta\\\\\n",
    "& \\frac{1}{K\\Delta} \\sum_{k=0}^{K-1} \\bigg(\\sum_{\\substack{j=1 \\\\ j \\neq i}}^r \\mu_{ji}(t + k\\Delta) \\bar{e}_{ji}\\bigg)\\Delta \\leq \\frac{1}{K\\Delta}\\sum_{k=0}^{K-1} \\bigg(\\bar{a}_i\\lambda_i(t + k\\Delta)\\bigg)\\Delta  \\\\\n",
    "& \\frac{1}{K\\Delta}\\sum_{k=0}^{K-1} \\bigg(\\bar{a}_i\\lambda_i(t + k\\Delta)\\bigg)\\Delta\n",
    "\\leq \\frac{1}{K\\Delta} \\sum_{k=0}^{K-1}\\bigg(\\sum_{\\substack{j=1 \\\\ j \\neq i}}^r \\mu_{ji}(t + k\\Delta)\\bar{e}_{ji} + \\sum_{j=1}^r \\mu_{ji}(t + k\\Delta) \\bar{f}_{ji}\\bigg)\\Delta \\\\\n",
    "& \\frac{1}{K\\Delta} \\sum_{k=0}^{K-1} \\bigg(\\lambda_i(t + k\\Delta)\\bar{a}_i + \\sum_{\\substack{j=1 \\\\ j \\neq i}}^r \n",
    "\\frac{1}\\mu_{ij}(t + k\\Delta)\\bar{e}_{ij}\\bigg)\\Delta \\\\\n",
    "&\\quad = \\frac{1}{K\\Delta} \\sum_{k=0}^{K-1} \\bigg(\\sum_{\\substack{j=1 \\\\ j \\neq i}}^r  \\mu_{ji}(t + k\\Delta) \\bar{e}_{ji} + \\sum_{j=1}^r  \\mu_{ji}(t + k\\Delta) \\bar{f}_{ji}\\bigg)\\Delta \\\\\n",
    "& e_{ij}, f_{ij} \\in [0, 1], \\quad\\sum_{i,j=1}^r e_{ij} + f_{ij} = 1\\quad 0 \\leq \\bar{a}_i \\leq 1\n",
    "\\end{align*}\n",
    "$$"
   ]
  },
  {
   "cell_type": "code",
   "execution_count": null,
   "id": "1cecade6-e434-42d9-969e-238b75117b7b",
   "metadata": {},
   "outputs": [],
   "source": []
  }
 ],
 "metadata": {
  "kernelspec": {
   "display_name": "Python 3 (ipykernel)",
   "language": "python",
   "name": "python3"
  },
  "language_info": {
   "codemirror_mode": {
    "name": "ipython",
    "version": 3
   },
   "file_extension": ".py",
   "mimetype": "text/x-python",
   "name": "python",
   "nbconvert_exporter": "python",
   "pygments_lexer": "ipython3",
   "version": "3.9.22"
  }
 },
 "nbformat": 4,
 "nbformat_minor": 5
}
