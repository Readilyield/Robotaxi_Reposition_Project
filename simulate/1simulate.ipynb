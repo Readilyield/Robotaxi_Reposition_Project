{
 "cells": [
  {
   "cell_type": "code",
   "execution_count": 1,
   "metadata": {},
   "outputs": [],
   "source": [
    "import os\n",
    "from tqdm.notebook import tqdm\n",
    "import numpy as np\n",
    "import pandas as pd\n",
    "\n",
    "from multiprocessing import Pool\n",
    "from utils import (\n",
    "    prepare_arrival_events_from_real_data,\n",
    "    run_all_simulations_for_seed,\n",
    ")\n",
    "from constants import taxi_type"
   ]
  },
  {
   "cell_type": "markdown",
   "metadata": {},
   "source": [
    "# ⚙️ Simulation Configuration\n",
    "\n",
    "Define key parameters for the simulation:\n",
    "- `Delta`: length of time blocks in minutes\n",
    "- `max_time`: total simulation duration (hours)\n",
    "- `N`: number of taxis in the fleet\n",
    "- `eta`: hyperparameter for JLCR policy\n",
    "- `lookahead_options`: defines which Q-matrix files (for lookahead) to use in some modes"
   ]
  },
  {
   "cell_type": "code",
   "execution_count": 2,
   "metadata": {},
   "outputs": [],
   "source": [
    "Delta = 20  # in minutes\n",
    "max_time = 24  # hours\n",
    "N = 8000\n",
    "start_time = pd.Timestamp(\"2025-01-02 08:00:00\")\n",
    "eta = 0.5\n",
    "lookahead_options = [2, 4, 8]"
   ]
  },
  {
   "cell_type": "markdown",
   "metadata": {},
   "source": [
    "# 📊 Load Demand and Travel Parameters\n",
    "\n",
    "This block loads:\n",
    "- `trip_counts`: counts of trips for computing λ and P\n",
    "- `mu_`: average travel rates\n",
    "It computes:\n",
    "- `lambda_`: arrival rate by region and time\n",
    "- `P`: destination distribution by region and time\n",
    "Also initializes `Q_base`, which encodes no relocation (identity matrix)."
   ]
  },
  {
   "cell_type": "code",
   "execution_count": 3,
   "metadata": {},
   "outputs": [],
   "source": [
    "with np.load(\"../nyc_trip/trip_counts.npz\") as data:\n",
    "    trip_counts = data[\"trip_counts\"]\n",
    "    num_dates = data[\"num_dates\"]\n",
    "\n",
    "with np.load('../nyc_trip/mu_cp_clipped.npz') as data:\n",
    "    mu = data['mu']\n",
    "\n",
    "trip_counts[trip_counts == 0] = 1\n",
    "lambda_ = trip_counts.sum(axis=2) / (Delta / 60 * num_dates)\n",
    "P = trip_counts / trip_counts.sum(axis=2, keepdims=True)\n",
    "\n",
    "T, R, _ = P.shape\n",
    "Q_base = np.array([np.identity(R) for _ in range(T)])\n",
    "\n",
    "# read Q_matrix file\n",
    "with np.load('../nyc_trip/Q_clipping.npz') as data:\n",
    "    Q = data['Q']"
   ]
  },
  {
   "cell_type": "markdown",
   "metadata": {},
   "source": [
    "# 🚖 Load Observed Demand Data\n",
    "\n",
    "This block loads the real NYC trip data:\n",
    "- It finds one file based on `taxi_type`\n",
    "- It extracts 3 consecutive weekdays of trips using `prepare_arrival_events_from_real_data()`\n",
    "These trips are later used for the real-demand simulation mode.\n",
    "\n",
    "Change data_dir where you saved the parquet file. They should look like: `fhv_tripdata_2023-01.parquet`. If you don't have one, download one [here](https://www.nyc.gov/site/tlc/about/tlc-trip-record-data.page)"
   ]
  },
  {
   "cell_type": "code",
   "execution_count": 4,
   "metadata": {},
   "outputs": [],
   "source": [
    "data_dir = \"../nyc_trip/data\"\n",
    "filenames = os.listdir(data_dir)\n",
    "filenames = [fn for fn in filenames if fn.startswith(taxi_type)]\n",
    "file = filenames[0]\n",
    "\n",
    "df = pd.read_parquet(f\"../nyc_trip/data/{file}\")\n",
    "arrival_events = prepare_arrival_events_from_real_data(df)"
   ]
  },
  {
   "cell_type": "code",
   "execution_count": 5,
   "metadata": {},
   "outputs": [],
   "source": [
    "from relocation_policies import relocation_policy_blind_sampling\n",
    "from simulate import TaxiSimulator\n",
    "from utils import (\n",
    "    get_ridestarts_timeseries,\n",
    "    get_rider_arrival_timeseries,\n",
    "    get_rider_lost_timeseries,\n",
    "    fill_missing_time_bins\n",
    ")"
   ]
  },
  {
   "cell_type": "code",
   "execution_count": 6,
   "metadata": {},
   "outputs": [],
   "source": [
    "Qs = np.array(Q for _ in range(T))\n",
    "# Setup relocation policy\n",
    "policy = relocation_policy_blind_sampling\n",
    "kwargs = {}\n",
    "# Init simulator\n",
    "\n",
    "sim = TaxiSimulator(\n",
    "    T=T,\n",
    "    R=R,\n",
    "    N=N,\n",
    "    lambda_=lambda_,\n",
    "    mu_=mu,\n",
    "    P=P,\n",
    "    Q=Qs,\n",
    "    relocation_policy=policy,\n",
    "    relocation_kwargs=kwargs,\n",
    "    use_real_demand=True,\n",
    "    demand_events=arrival_events if True else None,\n",
    ")\n",
    "\n",
    "# Run sim\n",
    "sim.run(max_time=max_time)\n",
    "df_log = pd.DataFrame(sim.logger)"
   ]
  },
  {
   "cell_type": "code",
   "execution_count": 7,
   "metadata": {},
   "outputs": [],
   "source": [
    "df_log['datetime'] = pd.to_timedelta(df_log['time'], unit='h') + pd.Timestamp('2025-01-02')"
   ]
  },
  {
   "cell_type": "code",
   "execution_count": 17,
   "metadata": {},
   "outputs": [],
   "source": [
    "from datetime import timedelta\n",
    "import matplotlib.pyplot as plt\n",
    "from constants import (\n",
    "    RIDER_ARRIVAL,\n",
    "    RIDE_START,\n",
    "    RIDER_LOST,\n",
    ")"
   ]
  },
  {
   "cell_type": "code",
   "execution_count": 26,
   "metadata": {},
   "outputs": [],
   "source": [
    "region_id = 12\n",
    "arrivals = df_log[df_log['event_type'] == RIDER_ARRIVAL].copy()\n",
    "arrivals['region'] = arrivals['data'].apply(lambda x: x['region'])\n",
    "arrivals = arrivals[arrivals['region'] == region_id]\n",
    "arrivals['time_bin'] = arrivals['datetime'].dt.floor(f'{bin_minutes}min')\n",
    "arrival_counts = arrivals.groupby('time_bin').size().reset_index(name='num_arrivals')"
   ]
  },
  {
   "cell_type": "code",
   "execution_count": 36,
   "metadata": {},
   "outputs": [
    {
     "data": {
      "application/vnd.microsoft.datawrangler.viewer.v0+json": {
       "columns": [
        {
         "name": "index",
         "rawType": "int64",
         "type": "integer"
        },
        {
         "name": "time",
         "rawType": "float64",
         "type": "float"
        },
        {
         "name": "event_type",
         "rawType": "object",
         "type": "string"
        },
        {
         "name": "data",
         "rawType": "object",
         "type": "string"
        },
        {
         "name": "datetime",
         "rawType": "datetime64[ns]",
         "type": "datetime"
        }
       ],
       "conversionMethod": "pd.DataFrame",
       "ref": "ae60da0b-af23-463d-93af-73aff15ffbb3",
       "rows": [],
       "shape": {
        "columns": 4,
        "rows": 0
       }
      },
      "text/html": [
       "<div>\n",
       "<style scoped>\n",
       "    .dataframe tbody tr th:only-of-type {\n",
       "        vertical-align: middle;\n",
       "    }\n",
       "\n",
       "    .dataframe tbody tr th {\n",
       "        vertical-align: top;\n",
       "    }\n",
       "\n",
       "    .dataframe thead th {\n",
       "        text-align: right;\n",
       "    }\n",
       "</style>\n",
       "<table border=\"1\" class=\"dataframe\">\n",
       "  <thead>\n",
       "    <tr style=\"text-align: right;\">\n",
       "      <th></th>\n",
       "      <th>time</th>\n",
       "      <th>event_type</th>\n",
       "      <th>data</th>\n",
       "      <th>datetime</th>\n",
       "    </tr>\n",
       "  </thead>\n",
       "  <tbody>\n",
       "  </tbody>\n",
       "</table>\n",
       "</div>"
      ],
      "text/plain": [
       "Empty DataFrame\n",
       "Columns: [time, event_type, data, datetime]\n",
       "Index: []"
      ]
     },
     "execution_count": 36,
     "metadata": {},
     "output_type": "execute_result"
    }
   ],
   "source": [
    "ride_starts = df_log[df_log['event_type'] == RIDE_START].copy()\n",
    "# ride_starts['region'] = ride_starts['data'].apply(lambda x: x['origin'])\n",
    "# ride_starts = ride_starts[ride_starts['region'] == region_id]\n",
    "\n",
    "# ride_starts['time_bin'] = ride_starts['datetime'].dt.floor(f'{bin_minutes}min')\n",
    "# ride_starts = ride_starts.groupby('time_bin').size().reset_index(name='num_ridestarts')\n",
    "ride_starts"
   ]
  },
  {
   "cell_type": "code",
   "execution_count": 32,
   "metadata": {},
   "outputs": [
    {
     "data": {
      "image/png": "[encoded data removed]",
      "text/plain": [
       "<Figure size 1500x1200 with 6 Axes>"
      ]
     },
     "metadata": {},
     "output_type": "display_data"
    }
   ],
   "source": [
    "fig, axes = plt.subplots(3, 2, figsize=(15, 12), sharex=True, sharey=True)\n",
    "axes = axes.flatten()\n",
    "\n",
    "region_id =  14\n",
    "bin_minutes = 20\n",
    "\n",
    "arrival_ts = get_rider_arrival_timeseries(df_log, region_id=region_id, bin_minutes=bin_minutes)\n",
    "ridestarts_ts = get_ridestarts_timeseries(df_log, region_id=region_id, bin_minutes=bin_minutes)\n",
    "lostrides_ts = get_rider_lost_timeseries(df_log, region_id=region_id, bin_minutes=bin_minutes)\n",
    "\n",
    "start_time = arrival_ts['time_bin'].min() + timedelta(days=2)\n",
    "end_time = arrival_ts['time_bin'].max()\n",
    "\n",
    "# arrival_ts = fill_missing_time_bins(arrival_ts, start_time, end_time, bin_minutes, count_col='num_arrivals')\n",
    "# ridestarts_ts = fill_missing_time_bins(ridestarts_ts, start_time, end_time, bin_minutes, count_col='num_ridestarts')\n",
    "# lostrides_ts = fill_missing_time_bins(lostrides_ts, start_time, end_time, bin_minutes, count_col='num_lost_rides')\n",
    "\n",
    "ax = axes[0]\n",
    "ax.plot(arrival_ts['time_bin'], arrival_ts['num_arrivals'], label='Arrivals', color='blue')\n",
    "ax.plot(ridestarts_ts['time_bin'], ridestarts_ts['num_ridestarts'], label='Ride Starts', color='orange')\n",
    "ax.plot(lostrides_ts['time_bin'], lostrides_ts['num_lost_rides'], label='Lost Riders', color='purple')\n",
    "ax.tick_params(axis='x', rotation=45)\n",
    "plt.tight_layout(rect=[0, 0, 1, 0.96])\n",
    "plt.show()"
   ]
  },
  {
   "cell_type": "code",
   "execution_count": null,
   "metadata": {},
   "outputs": [],
   "source": []
  },
  {
   "cell_type": "code",
   "execution_count": null,
   "metadata": {},
   "outputs": [],
   "source": []
  },
  {
   "cell_type": "markdown",
   "metadata": {},
   "source": [
    "# 🚀 Run Simulations in Parallel\n",
    "\n",
    "This block launches simulations across 20 seeds using multiprocessing.\n",
    "Each call to `run_all_simulations_for_seed(...)` will:\n",
    "- Run 12 simulation modes (2 demand × 6 relocation)\n",
    "- Save each resulting log under `sim_outputs/{seed}/...`\n",
    "The total of 240 runs (20×12) are processed in parallel using a 6-core pool.\n"
   ]
  },
  {
   "cell_type": "code",
   "execution_count": null,
   "metadata": {},
   "outputs": [],
   "source": [
    "# Launch multiprocessing pool\n",
    "num_repeats = 20\n",
    "args = [\n",
    "    (\n",
    "        seed,\n",
    "        lambda_, mu_, P, Q_base, arrival_events,\n",
    "        T, R, N, max_time\n",
    "    )\n",
    "    for seed in range(num_repeats)\n",
    "]\n",
    "\n",
    "with Pool(processes=6) as pool:\n",
    "    for _ in tqdm(pool.starmap(run_all_simulations_for_seed, args), total=len(args)):\n",
    "        pass\n"
   ]
  }
 ],
 "metadata": {
  "kernelspec": {
   "display_name": "nyc",
   "language": "python",
   "name": "python3"
  },
  "language_info": {
   "codemirror_mode": {
    "name": "ipython",
    "version": 3
   },
   "file_extension": ".py",
   "mimetype": "text/x-python",
   "name": "python",
   "nbconvert_exporter": "python",
   "pygments_lexer": "ipython3",
   "version": "3.9.21"
  }
 },
 "nbformat": 4,
 "nbformat_minor": 2
}
