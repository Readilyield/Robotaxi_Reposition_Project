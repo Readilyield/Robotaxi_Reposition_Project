{
 "cells": [
  {
   "cell_type": "code",
   "execution_count": 1,
   "metadata": {
    "execution": {
     "iopub.execute_input": "2025-05-04T04:17:28.767891Z",
     "iopub.status.busy": "2025-05-04T04:17:28.766898Z",
     "iopub.status.idle": "2025-05-04T04:17:30.580315Z",
     "shell.execute_reply": "2025-05-04T04:17:30.579720Z",
     "shell.execute_reply.started": "2025-05-04T04:17:28.767817Z"
    }
   },
   "outputs": [],
   "source": [
    "%load_ext autoreload\n",
    "%autoreload 2\n",
    "import os\n",
    "from tqdm.notebook import tqdm\n",
    "import numpy as np\n",
    "import pandas as pd\n",
    "\n",
    "from multiprocessing import Pool\n",
    "from utils import (\n",
    "    prepare_arrival_events_from_real_data,\n",
    "    run_simulations_for_seed\n",
    ")\n",
    "from constants import taxi_type\n",
    "%reload_ext autoreload"
   ]
  },
  {
   "cell_type": "markdown",
   "metadata": {},
   "source": [
    "# ⚙️ Simulation Configuration\n",
    "\n",
    "Define key parameters for the simulation:\n",
    "- `Delta`: length of time blocks in minutes\n",
    "- `max_time`: total simulation duration (hours)\n",
    "- `N`: number of taxis in the fleet\n",
    "- `eta`: hyperparameter for JLCR policy\n",
    "- `lookahead_options`: defines which Q-matrix files (for lookahead) to use in some modes"
   ]
  },
  {
   "cell_type": "code",
   "execution_count": 2,
   "metadata": {
    "execution": {
     "iopub.execute_input": "2025-05-04T04:17:31.718219Z",
     "iopub.status.busy": "2025-05-04T04:17:31.717349Z",
     "iopub.status.idle": "2025-05-04T04:17:31.754210Z",
     "shell.execute_reply": "2025-05-04T04:17:31.753641Z",
     "shell.execute_reply.started": "2025-05-04T04:17:31.718181Z"
    }
   },
   "outputs": [],
   "source": [
    "Delta = 60  # in minutes\n",
    "max_time = 72  # hours\n",
    "N = 8000\n",
    "start_time = pd.Timestamp(\"2025-01-02 00:00:00\")\n",
    "eta = 0.5\n",
    "lookahead_options = [2, 4, 8]"
   ]
  },
  {
   "cell_type": "markdown",
   "metadata": {},
   "source": [
    "# 📊 Load Demand and Travel Parameters\n",
    "\n",
    "This block loads:\n",
    "- `trip_counts`: counts of trips for computing λ and P\n",
    "- `mu_`: average travel rates\n",
    "It computes:\n",
    "- `lambda_`: arrival rate by region and time\n",
    "- `P`: destination distribution by region and time\n",
    "Also initializes `Q_base`, which encodes no relocation (identity matrix)."
   ]
  },
  {
   "cell_type": "code",
   "execution_count": 3,
   "metadata": {
    "execution": {
     "iopub.execute_input": "2025-05-04T04:17:34.843658Z",
     "iopub.status.busy": "2025-05-04T04:17:34.842572Z",
     "iopub.status.idle": "2025-05-04T04:17:35.079802Z",
     "shell.execute_reply": "2025-05-04T04:17:35.079201Z",
     "shell.execute_reply.started": "2025-05-04T04:17:34.843576Z"
    }
   },
   "outputs": [],
   "source": [
    "\n",
    "#path to trip_counts.npz\n",
    "with np.load(\"../nyc_trip/trip_counts.npz\") as data:\n",
    "    trip_counts = data[\"trip_counts\"]\n",
    "    num_dates = data[\"num_dates\"]\n",
    "    \n",
    "#path to mu data\n",
    "with np.load(\"../nyc_trip/new_mu_.npz\") as data:\n",
    "    mu_ = data[\"mu\"]\n",
    "\n",
    "trip_counts[trip_counts == 0] = 1\n",
    "lambda_ = trip_counts.sum(axis=2) / (Delta / 60 * num_dates)\n",
    "P = trip_counts / trip_counts.sum(axis=2, keepdims=True)\n",
    "\n",
    "T, R, _ = P.shape\n",
    "Q_base = np.array([np.identity(R) for _ in range(T)])"
   ]
  },
  {
   "cell_type": "markdown",
   "metadata": {},
   "source": [
    "# 🚖 Load Observed Demand Data\n",
    "\n",
    "This block loads the real NYC trip data:\n",
    "- It finds one file based on `taxi_type`\n",
    "- It extracts 3 consecutive weekdays of trips using `prepare_arrival_events_from_real_data()`\n",
    "These trips are later used for the real-demand simulation mode.\n",
    "\n",
    "Change data_dir where you saved the parquet file. They should look like: `fhv_tripdata_2025-01.parquet`. If you don't have one, download one [here](https://www.nyc.gov/site/tlc/about/tlc-trip-record-data.page)\n",
    "(default `taxi_type` is `fhvhv`: for-hire vehicle high volume)"
   ]
  },
  {
   "cell_type": "code",
   "execution_count": 5,
   "metadata": {
    "execution": {
     "iopub.execute_input": "2025-05-04T04:17:44.492717Z",
     "iopub.status.busy": "2025-05-04T04:17:44.491364Z",
     "iopub.status.idle": "2025-05-04T04:18:20.850139Z",
     "shell.execute_reply": "2025-05-04T04:18:20.849454Z",
     "shell.execute_reply.started": "2025-05-04T04:17:44.492626Z"
    }
   },
   "outputs": [],
   "source": [
    "data_dir = \"../nyc_trip/data\"\n",
    "filenames = os.listdir(data_dir)\n",
    "filenames = [fn for fn in filenames if fn.startswith(taxi_type)]\n",
    "file = filenames[0]\n",
    "\n",
    "df = pd.read_parquet(f\"../nyc_trip/data/{file}\")\n",
    "arrival_events = prepare_arrival_events_from_real_data(df)"
   ]
  },
  {
   "cell_type": "markdown",
   "metadata": {},
   "source": [
    "# 🚀 Run Simulations in Parallel\n",
    "\n",
    "This block launches simulations across 20 seeds using multiprocessing.\n",
    "Each call to `run_all_simulations_for_seed(...)` will:\n",
    "- Run 12 simulation modes (2 demand × 6 relocation)\n",
    "- Save each resulting log under `sim_outputs/{seed}/...`\n",
    "The total of 240 runs (20×12) are processed in parallel using a 6-core pool.\n"
   ]
  },
  {
   "cell_type": "code",
   "execution_count": 8,
   "metadata": {
    "execution": {
     "iopub.execute_input": "2025-05-04T04:28:51.487236Z",
     "iopub.status.busy": "2025-05-04T04:28:51.485941Z",
     "iopub.status.idle": "2025-05-04T07:54:49.966414Z",
     "shell.execute_reply": "2025-05-04T07:54:49.965660Z",
     "shell.execute_reply.started": "2025-05-04T04:28:51.487136Z"
    }
   },
   "outputs": [
    {
     "name": "stdout",
     "output_type": "stream",
     "text": [
      "[Seed 0] finished: real / no_reloc\n",
      "[Seed 0] finished: real / JLCR\n",
      "[Seed 0] finished: real / shortest_wait\n",
      "[Seed 0] finished: real / fluidBased_policy\n",
      "[Seed 1] finished: real / no_reloc\n",
      "[Seed 1] finished: real / JLCR\n",
      "[Seed 1] finished: real / shortest_wait\n",
      "[Seed 1] finished: real / fluidBased_policy\n",
      "[Seed 2] finished: real / no_reloc\n",
      "[Seed 2] finished: real / JLCR\n",
      "[Seed 2] finished: real / shortest_wait\n",
      "[Seed 2] finished: real / fluidBased_policy\n",
      "[Seed 3] finished: real / no_reloc\n",
      "[Seed 3] finished: real / JLCR\n",
      "[Seed 3] finished: real / shortest_wait\n",
      "[Seed 3] finished: real / fluidBased_policy\n",
      "[Seed 4] finished: real / no_reloc\n",
      "[Seed 4] finished: real / JLCR\n",
      "[Seed 4] finished: real / shortest_wait\n",
      "[Seed 4] finished: real / fluidBased_policy\n"
     ]
    }
   ],
   "source": [
    "# Launch multiprocessing pool\n",
    "num_repeats = 5\n",
    "# args = [\n",
    "#     (\n",
    "#         seed,\n",
    "#         lambda_, mu_, P, Q_base, \n",
    "#         \"../nyc_trip/Qs_24_2hrLkahd_N8000.npz\",\n",
    "#         arrival_events,\n",
    "#         T, R, N, max_time\n",
    "#     )\n",
    "#     for seed in range(num_repeats)\n",
    "# ]\n",
    "\n",
    "# with Pool(processes=6) as pool:\n",
    "#     for _ in tqdm(pool.starmap(run_simulations_for_seed, args), total=len(args)):\n",
    "#         pass\n",
    "\n",
    "for seed in range(num_repeats):\n",
    "    run_simulations_for_seed(seed,lambda_, mu_, P, Q_base,\n",
    "                            \"../nyc_trip/Qs_24_2hrLkahd_N8000.npz\",\n",
    "                            arrival_events, T, R, N, max_time)\n"
   ]
  },
  {
   "cell_type": "code",
   "execution_count": null,
   "metadata": {},
   "outputs": [],
   "source": []
  }
 ],
 "metadata": {
  "kernelspec": {
   "display_name": "Python 3 (ipykernel)",
   "language": "python",
   "name": "python3"
  },
  "language_info": {
   "codemirror_mode": {
    "name": "ipython",
    "version": 3
   },
   "file_extension": ".py",
   "mimetype": "text/x-python",
   "name": "python",
   "nbconvert_exporter": "python",
   "pygments_lexer": "ipython3",
   "version": "3.9.22"
  }
 },
 "nbformat": 4,
 "nbformat_minor": 4
}
