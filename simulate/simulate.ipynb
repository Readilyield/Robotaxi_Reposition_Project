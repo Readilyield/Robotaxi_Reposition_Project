{
 "cells": [
  {
   "cell_type": "code",
   "execution_count": 1,
   "metadata": {},
   "outputs": [],
   "source": [
    "import numpy as np\n",
    "import pandas as pd\n",
    "from simulate import TaxiSimulator"
   ]
  },
  {
   "cell_type": "code",
   "execution_count": null,
   "metadata": {},
   "outputs": [],
   "source": [
    "# Simulation parameters\n",
    "Delta = 20 # in minutes\n",
    "T = int(24 * (60 // Delta))"
   ]
  },
  {
   "cell_type": "markdown",
   "metadata": {},
   "source": [
    "Use synthetic data"
   ]
  },
  {
   "cell_type": "code",
   "execution_count": null,
   "metadata": {},
   "outputs": [],
   "source": [
    "# np.random.seed(42)\n",
    "# R = 3     # 3 regions\n",
    "# N = 20    # 20 vehicles\n",
    "\n",
    "# # Rider arrival rates: 10 to 30 riders per hour during busy times\n",
    "# lambda_ = np.zeros((T, R))\n",
    "# for t in range(T):\n",
    "#     if 16 <= t % T <= 36:  # \"Daytime\"\n",
    "#         lambda_[t] = np.random.uniform(15, 30, R)   # Busy hours\n",
    "#     else:\n",
    "#         lambda_[t] = np.random.uniform(2, 8, R)     # Nighttime, low demand\n",
    "\n",
    "# # Travel time rates: Expectation between 5 to 15 minutes (1/12 to 1/4 hours)\n",
    "# mu_ = np.random.uniform(4, 12, size=(T, R, R))  # 1/μ gives ~5-15 mins expected travel\n",
    "\n",
    "# # Random valid P and Q matrices\n",
    "# P = np.array([[np.random.dirichlet(np.ones(R)) for _ in range(R)] for _ in range(T)])\n",
    "# Q = np.array([[np.random.dirichlet(np.ones(R)) for _ in range(R)] for _ in range(T)])"
   ]
  },
  {
   "cell_type": "markdown",
   "metadata": {},
   "source": [
    "Use actual parameters"
   ]
  },
  {
   "cell_type": "code",
   "execution_count": null,
   "metadata": {},
   "outputs": [],
   "source": [
    "with np.load('trip_counts.npz') as data:\n",
    "    trip_counts = data['trip_counts']\n",
    "    num_dates = data['num_dates']\n",
    "\n",
    "with np.load('mu_cp.npz') as data:\n",
    "    mu = data['mu']\n",
    "    \n",
    "# mask trip_counts by 1 where 0\n",
    "trip_counts[trip_counts == 0] = 1\n",
    "\n",
    "# compute arrival rate\n",
    "lambda_ = trip_counts.sum(axis=2) / (Delta / 60 * num_dates)\n",
    "\n",
    "# normalize trip_counts\n",
    "P = trip_counts / trip_counts.sum(axis=2, keepdims=True)\n",
    "\n",
    "# load time-dependent relocation matrix\n",
    "with np.load('Qs.npz') as data:\n",
    "    Q = data['Qs']"
   ]
  },
  {
   "cell_type": "code",
   "execution_count": null,
   "metadata": {},
   "outputs": [],
   "source": [
    "max_time = 72  # Simulate 72 hours\n",
    "\n",
    "# Initialize and run the simulator\n",
    "sim = TaxiSimulator(T=T, R=R, N=N, lambda_=lambda_, mu_=mu_, P=P, Q=Q)\n",
    "sim.run(max_time=max_time)\n",
    "\n",
    "# Convert log to DataFrame\n",
    "df_log = pd.DataFrame(sim.logger)\n",
    "\n",
    "# Basic validation outputs\n",
    "event_counts = df_log['event_type'].value_counts()\n",
    "\n",
    "# Vehicle distribution at the end\n",
    "vehicle_locations = [v.location for v in sim.vehicles]\n",
    "vehicle_distribution = pd.Series(vehicle_locations).value_counts().sort_index()"
   ]
  },
  {
   "cell_type": "code",
   "execution_count": 5,
   "metadata": {},
   "outputs": [
    {
     "data": {
      "application/vnd.microsoft.datawrangler.viewer.v0+json": {
       "columns": [
        {
         "name": "index",
         "rawType": "int64",
         "type": "integer"
        },
        {
         "name": "time",
         "rawType": "float64",
         "type": "float"
        },
        {
         "name": "event_type",
         "rawType": "object",
         "type": "string"
        },
        {
         "name": "data",
         "rawType": "object",
         "type": "unknown"
        }
       ],
       "conversionMethod": "pd.DataFrame",
       "ref": "105be124-0a2c-41e0-a598-ddde4b49e8ed",
       "rows": [
        [
         "0",
         "0.1322581194519385",
         "rider_arrival",
         "{'region': 2, 'origin_time_block': 0}"
        ],
        [
         "1",
         "0.1322581194519385",
         "ride_start",
         "{'vehicle_id': 3, 'origin': 2, 'destination': 0, 'travel_time': 0.237251496142759}"
        ],
        [
         "2",
         "0.22648465687088953",
         "rider_arrival",
         "{'region': 0, 'origin_time_block': 0}"
        ],
        [
         "3",
         "0.22648465687088953",
         "ride_start",
         "{'vehicle_id': 1, 'origin': 0, 'destination': 1, 'travel_time': 0.05656032410897951}"
        ],
        [
         "4",
         "0.2637276123927126",
         "rider_arrival",
         "{'region': 1, 'origin_time_block': 0}"
        ],
        [
         "5",
         "0.2637276123927126",
         "ride_start",
         "{'vehicle_id': 0, 'origin': 1, 'destination': 2, 'travel_time': 0.16909971085528958}"
        ],
        [
         "6",
         "0.2783575302262432",
         "rider_arrival",
         "{'region': 1, 'origin_time_block': 0}"
        ],
        [
         "7",
         "0.2783575302262432",
         "ride_start",
         "{'vehicle_id': 5, 'origin': 1, 'destination': 2, 'travel_time': 1.194656890434914}"
        ],
        [
         "8",
         "0.283044980979869",
         "ride_completion",
         "{'vehicle_id': 1, 'origin': 0, 'destination': 1}"
        ],
        [
         "9",
         "0.28477123292761924",
         "rider_arrival",
         "{'region': 1, 'origin_time_block': 0}"
        ],
        [
         "10",
         "0.28477123292761924",
         "ride_start",
         "{'vehicle_id': 8, 'origin': 1, 'destination': 2, 'travel_time': 0.32845995502941344}"
        ],
        [
         "11",
         "0.31524688470441886",
         "rider_arrival",
         "{'region': 2, 'origin_time_block': 0}"
        ],
        [
         "12",
         "0.31524688470441886",
         "ride_start",
         "{'vehicle_id': 7, 'origin': 2, 'destination': 2, 'travel_time': 0.2599506609317074}"
        ],
        [
         "13",
         "0.3695096155946975",
         "ride_completion",
         "{'vehicle_id': 3, 'origin': 2, 'destination': 0}"
        ],
        [
         "14",
         "0.3695096155946975",
         "relocation_start",
         "{'vehicle_id': 3, 'origin': 0, 'destination': 1, 'travel_time': 0.09221197002985368}"
        ],
        [
         "15",
         "0.43282732324800216",
         "ride_completion",
         "{'vehicle_id': 0, 'origin': 1, 'destination': 2}"
        ],
        [
         "16",
         "0.43282732324800216",
         "relocation_start",
         "{'vehicle_id': 0, 'origin': 2, 'destination': 1, 'travel_time': 0.27878969018460253}"
        ],
        [
         "17",
         "0.46172158562455123",
         "relocation_completion",
         "{'vehicle_id': 3, 'origin': 0, 'destination': 1}"
        ],
        [
         "18",
         "0.47971659410363404",
         "rider_arrival",
         "{'region': 0, 'origin_time_block': 0}"
        ],
        [
         "19",
         "0.47971659410363404",
         "ride_start",
         "{'vehicle_id': 2, 'origin': 0, 'destination': 1, 'travel_time': 0.3721839123498388}"
        ],
        [
         "20",
         "0.4827169074405509",
         "rider_arrival",
         "{'region': 1, 'origin_time_block': 0}"
        ],
        [
         "21",
         "0.4827169074405509",
         "ride_start",
         "{'vehicle_id': 10, 'origin': 1, 'destination': 2, 'travel_time': 0.02055987032239542}"
        ],
        [
         "22",
         "0.5",
         "time_block_boundary",
         "{'region': 1}"
        ],
        [
         "23",
         "0.5",
         "time_block_boundary",
         "{'region': 2}"
        ],
        [
         "24",
         "0.5",
         "time_block_boundary",
         "{'region': 0}"
        ],
        [
         "25",
         "0.5019669909818668",
         "rider_arrival",
         "{'region': 1, 'origin_time_block': 1}"
        ],
        [
         "26",
         "0.5019669909818668",
         "ride_start",
         "{'vehicle_id': 14, 'origin': 1, 'destination': 1, 'travel_time': 0.11780259354573308}"
        ],
        [
         "27",
         "0.5032767777629463",
         "ride_completion",
         "{'vehicle_id': 10, 'origin': 1, 'destination': 2}"
        ],
        [
         "28",
         "0.5032767777629463",
         "relocation_start",
         "{'vehicle_id': 10, 'origin': 2, 'destination': 0, 'travel_time': 0.027602084217339076}"
        ],
        [
         "29",
         "0.5308788619802854",
         "relocation_completion",
         "{'vehicle_id': 10, 'origin': 2, 'destination': 0}"
        ],
        [
         "30",
         "0.5751975456361262",
         "ride_completion",
         "{'vehicle_id': 7, 'origin': 2, 'destination': 2}"
        ],
        [
         "31",
         "0.5751975456361262",
         "relocation_start",
         "{'vehicle_id': 7, 'origin': 2, 'destination': 0, 'travel_time': 0.026239788477050982}"
        ],
        [
         "32",
         "0.5816234924749063",
         "rider_arrival",
         "{'region': 0, 'origin_time_block': 1}"
        ],
        [
         "33",
         "0.5816234924749063",
         "ride_start",
         "{'vehicle_id': 4, 'origin': 0, 'destination': 0, 'travel_time': 0.11685115657504808}"
        ],
        [
         "34",
         "0.5847816081580303",
         "rider_arrival",
         "{'region': 1, 'origin_time_block': 0}"
        ],
        [
         "35",
         "0.6014373341131772",
         "relocation_completion",
         "{'vehicle_id': 7, 'origin': 2, 'destination': 0}"
        ],
        [
         "36",
         "0.6132311879570327",
         "ride_completion",
         "{'vehicle_id': 8, 'origin': 1, 'destination': 2}"
        ],
        [
         "37",
         "0.6132311879570327",
         "relocation_start",
         "{'vehicle_id': 8, 'origin': 2, 'destination': 1, 'travel_time': 0.08969372524356226}"
        ],
        [
         "38",
         "0.6143834367386375",
         "rider_arrival",
         "{'region': 0, 'origin_time_block': 0}"
        ],
        [
         "39",
         "0.6197695845275999",
         "ride_completion",
         "{'vehicle_id': 14, 'origin': 1, 'destination': 1}"
        ],
        [
         "40",
         "0.6197695845275999",
         "relocation_start",
         "{'vehicle_id': 14, 'origin': 1, 'destination': 2, 'travel_time': 0.3372612908100671}"
        ],
        [
         "41",
         "0.6336626653617161",
         "rider_arrival",
         "{'region': 2, 'origin_time_block': 1}"
        ],
        [
         "42",
         "0.6336626653617161",
         "ride_start",
         "{'vehicle_id': 9, 'origin': 2, 'destination': 0, 'travel_time': 0.06639245523117179}"
        ],
        [
         "43",
         "0.6425103645567148",
         "rider_arrival",
         "{'region': 2, 'origin_time_block': 1}"
        ],
        [
         "44",
         "0.6425103645567148",
         "ride_start",
         "{'vehicle_id': 12, 'origin': 2, 'destination': 0, 'travel_time': 0.048683540713271106}"
        ],
        [
         "45",
         "0.6450311601002818",
         "rider_arrival",
         "{'region': 2, 'origin_time_block': 0}"
        ],
        [
         "46",
         "0.669513518183172",
         "rider_arrival",
         "{'region': 1, 'origin_time_block': 1}"
        ],
        [
         "47",
         "0.669513518183172",
         "ride_start",
         "{'vehicle_id': 16, 'origin': 1, 'destination': 1, 'travel_time': 0.0755692420169511}"
        ],
        [
         "48",
         "0.6911939052699859",
         "ride_completion",
         "{'vehicle_id': 12, 'origin': 2, 'destination': 0}"
        ],
        [
         "49",
         "0.6911939052699859",
         "relocation_start",
         "{'vehicle_id': 12, 'origin': 0, 'destination': 1, 'travel_time': 0.1410636664942209}"
        ]
       ],
       "shape": {
        "columns": 3,
        "rows": 5423
       }
      },
      "text/html": [
       "<div>\n",
       "<style scoped>\n",
       "    .dataframe tbody tr th:only-of-type {\n",
       "        vertical-align: middle;\n",
       "    }\n",
       "\n",
       "    .dataframe tbody tr th {\n",
       "        vertical-align: top;\n",
       "    }\n",
       "\n",
       "    .dataframe thead th {\n",
       "        text-align: right;\n",
       "    }\n",
       "</style>\n",
       "<table border=\"1\" class=\"dataframe\">\n",
       "  <thead>\n",
       "    <tr style=\"text-align: right;\">\n",
       "      <th></th>\n",
       "      <th>time</th>\n",
       "      <th>event_type</th>\n",
       "      <th>data</th>\n",
       "    </tr>\n",
       "  </thead>\n",
       "  <tbody>\n",
       "    <tr>\n",
       "      <th>0</th>\n",
       "      <td>0.132258</td>\n",
       "      <td>rider_arrival</td>\n",
       "      <td>{'region': 2, 'origin_time_block': 0}</td>\n",
       "    </tr>\n",
       "    <tr>\n",
       "      <th>1</th>\n",
       "      <td>0.132258</td>\n",
       "      <td>ride_start</td>\n",
       "      <td>{'vehicle_id': 3, 'origin': 2, 'destination': ...</td>\n",
       "    </tr>\n",
       "    <tr>\n",
       "      <th>2</th>\n",
       "      <td>0.226485</td>\n",
       "      <td>rider_arrival</td>\n",
       "      <td>{'region': 0, 'origin_time_block': 0}</td>\n",
       "    </tr>\n",
       "    <tr>\n",
       "      <th>3</th>\n",
       "      <td>0.226485</td>\n",
       "      <td>ride_start</td>\n",
       "      <td>{'vehicle_id': 1, 'origin': 0, 'destination': ...</td>\n",
       "    </tr>\n",
       "    <tr>\n",
       "      <th>4</th>\n",
       "      <td>0.263728</td>\n",
       "      <td>rider_arrival</td>\n",
       "      <td>{'region': 1, 'origin_time_block': 0}</td>\n",
       "    </tr>\n",
       "    <tr>\n",
       "      <th>...</th>\n",
       "      <td>...</td>\n",
       "      <td>...</td>\n",
       "      <td>...</td>\n",
       "    </tr>\n",
       "    <tr>\n",
       "      <th>5418</th>\n",
       "      <td>35.937708</td>\n",
       "      <td>rider_arrival</td>\n",
       "      <td>{'region': 0, 'origin_time_block': 23}</td>\n",
       "    </tr>\n",
       "    <tr>\n",
       "      <th>5419</th>\n",
       "      <td>35.953520</td>\n",
       "      <td>relocation_completion</td>\n",
       "      <td>{'vehicle_id': 18, 'origin': 0, 'destination': 2}</td>\n",
       "    </tr>\n",
       "    <tr>\n",
       "      <th>5420</th>\n",
       "      <td>35.959506</td>\n",
       "      <td>ride_completion</td>\n",
       "      <td>{'vehicle_id': 0, 'origin': 0, 'destination': 2}</td>\n",
       "    </tr>\n",
       "    <tr>\n",
       "      <th>5421</th>\n",
       "      <td>36.009215</td>\n",
       "      <td>rider_lost</td>\n",
       "      <td>{'region': 0}</td>\n",
       "    </tr>\n",
       "    <tr>\n",
       "      <th>5422</th>\n",
       "      <td>36.009215</td>\n",
       "      <td>rider_arrival</td>\n",
       "      <td>{'region': 0, 'origin_time_block': 23}</td>\n",
       "    </tr>\n",
       "  </tbody>\n",
       "</table>\n",
       "<p>5423 rows × 3 columns</p>\n",
       "</div>"
      ],
      "text/plain": [
       "           time             event_type  \\\n",
       "0      0.132258          rider_arrival   \n",
       "1      0.132258             ride_start   \n",
       "2      0.226485          rider_arrival   \n",
       "3      0.226485             ride_start   \n",
       "4      0.263728          rider_arrival   \n",
       "...         ...                    ...   \n",
       "5418  35.937708          rider_arrival   \n",
       "5419  35.953520  relocation_completion   \n",
       "5420  35.959506        ride_completion   \n",
       "5421  36.009215             rider_lost   \n",
       "5422  36.009215          rider_arrival   \n",
       "\n",
       "                                                   data  \n",
       "0                 {'region': 2, 'origin_time_block': 0}  \n",
       "1     {'vehicle_id': 3, 'origin': 2, 'destination': ...  \n",
       "2                 {'region': 0, 'origin_time_block': 0}  \n",
       "3     {'vehicle_id': 1, 'origin': 0, 'destination': ...  \n",
       "4                 {'region': 1, 'origin_time_block': 0}  \n",
       "...                                                 ...  \n",
       "5418             {'region': 0, 'origin_time_block': 23}  \n",
       "5419  {'vehicle_id': 18, 'origin': 0, 'destination': 2}  \n",
       "5420   {'vehicle_id': 0, 'origin': 0, 'destination': 2}  \n",
       "5421                                      {'region': 0}  \n",
       "5422             {'region': 0, 'origin_time_block': 23}  \n",
       "\n",
       "[5423 rows x 3 columns]"
      ]
     },
     "execution_count": 5,
     "metadata": {},
     "output_type": "execute_result"
    }
   ],
   "source": [
    "df_log"
   ]
  }
 ],
 "metadata": {
  "kernelspec": {
   "display_name": "nyc",
   "language": "python",
   "name": "python3"
  },
  "language_info": {
   "codemirror_mode": {
    "name": "ipython",
    "version": 3
   },
   "file_extension": ".py",
   "mimetype": "text/x-python",
   "name": "python",
   "nbconvert_exporter": "python",
   "pygments_lexer": "ipython3",
   "version": "3.9.21"
  }
 },
 "nbformat": 4,
 "nbformat_minor": 2
}
