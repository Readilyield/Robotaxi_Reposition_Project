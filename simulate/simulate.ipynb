{
 "cells": [
  {
   "cell_type": "code",
   "execution_count": 1,
   "metadata": {},
   "outputs": [],
   "source": [
    "import numpy as np\n",
    "import pandas as pd\n",
    "from simulate import TaxiSimulator\n",
    "\n",
    "np.set_printoptions(suppress=True)"
   ]
  },
  {
   "cell_type": "code",
   "execution_count": 2,
   "metadata": {},
   "outputs": [],
   "source": [
    "# Simulation parameters\n",
    "Delta = 20 # in minutes\n",
    "T = int(24 * (60 // Delta))"
   ]
  },
  {
   "cell_type": "markdown",
   "metadata": {},
   "source": [
    "Use synthetic data"
   ]
  },
  {
   "cell_type": "code",
   "execution_count": 3,
   "metadata": {},
   "outputs": [],
   "source": [
    "# np.random.seed(42)\n",
    "# R = 3     # 3 regions\n",
    "# N = 20    # 20 vehicles\n",
    "\n",
    "# # Rider arrival rates: 10 to 30 riders per hour during busy times\n",
    "# lambda_ = np.zeros((T, R))\n",
    "# for t in range(T):\n",
    "#     if 16 <= t % T <= 36:  # \"Daytime\"\n",
    "#         lambda_[t] = np.random.uniform(15, 30, R)   # Busy hours\n",
    "#     else:\n",
    "#         lambda_[t] = np.random.uniform(2, 8, R)     # Nighttime, low demand\n",
    "\n",
    "# # Travel time rates: Expectation between 5 to 15 minutes (1/12 to 1/4 hours)\n",
    "# mu_ = np.random.uniform(4, 12, size=(T, R, R))  # 1/μ gives ~5-15 mins expected travel\n",
    "\n",
    "# # Random valid P and Q matrices\n",
    "# P = np.array([[np.random.dirichlet(np.ones(R)) for _ in range(R)] for _ in range(T)])\n",
    "# Q = np.array([[np.random.dirichlet(np.ones(R)) for _ in range(R)] for _ in range(T)])"
   ]
  },
  {
   "cell_type": "markdown",
   "metadata": {},
   "source": [
    "Use actual parameters"
   ]
  },
  {
   "cell_type": "code",
   "execution_count": 4,
   "metadata": {},
   "outputs": [],
   "source": [
    "with np.load('../nyc_trip/trip_counts.npz') as data:\n",
    "    trip_counts = data['trip_counts']\n",
    "    num_dates = data['num_dates']\n",
    "\n",
    "with np.load('../nyc_trip/mu_cp.npz') as data:\n",
    "    mu_ = data['mu']\n",
    "    \n",
    "# mask trip_counts by 1 where 0\n",
    "trip_counts[trip_counts == 0] = 1\n",
    "\n",
    "# compute arrival rate\n",
    "lambda_ = trip_counts.sum(axis=2) / (Delta / 60 * num_dates)\n",
    "\n",
    "# normalize trip_counts\n",
    "P = trip_counts / trip_counts.sum(axis=2, keepdims=True)\n",
    "\n",
    "# load time-dependent relocation matrix\n",
    "with np.load('../nyc_trip/Qs.npz') as data:\n",
    "    Q = data['Qs']\n",
    "    \n",
    "T, R, _ = P.shape"
   ]
  },
  {
   "cell_type": "code",
   "execution_count": 7,
   "metadata": {},
   "outputs": [],
   "source": [
    "max_time = 72  # Simulate 72 hours\n",
    "N = 5000\n",
    "\n",
    "# Initialize and run the simulator\n",
    "sim = TaxiSimulator(T=T, R=R, N=N, lambda_=lambda_, mu_=mu_, P=P, Q=Q)\n",
    "sim.run(max_time=max_time)\n",
    "\n",
    "# Convert log to DataFrame\n",
    "df_log = pd.DataFrame(sim.logger)\n",
    "\n",
    "# Basic validation outputs\n",
    "event_counts = df_log['event_type'].value_counts()\n",
    "\n",
    "# Vehicle distribution at the end\n",
    "vehicle_locations = [v.location for v in sim.vehicles]\n",
    "vehicle_distribution = pd.Series(vehicle_locations).value_counts().sort_index()"
   ]
  },
  {
   "cell_type": "code",
   "execution_count": 8,
   "metadata": {},
   "outputs": [
    {
     "data": {
      "application/vnd.microsoft.datawrangler.viewer.v0+json": {
       "columns": [
        {
         "name": "index",
         "rawType": "int64",
         "type": "integer"
        },
        {
         "name": "time",
         "rawType": "float64",
         "type": "float"
        },
        {
         "name": "event_type",
         "rawType": "object",
         "type": "string"
        },
        {
         "name": "data",
         "rawType": "object",
         "type": "unknown"
        }
       ],
       "conversionMethod": "pd.DataFrame",
       "ref": "990804ad-1174-4f0b-b2c2-1041d637b510",
       "rows": [
        [
         "0",
         "7.535038992997377e-05",
         "rider_arrival",
         "{'region': 141, 'origin_time_block': 0}"
        ],
        [
         "1",
         "7.535038992997377e-05",
         "ride_start",
         "{'vehicle_id': 52, 'origin': 141, 'destination': 205, 'travel_time': 0.5017636333288491}"
        ],
        [
         "2",
         "8.522927166150002e-05",
         "rider_arrival",
         "{'region': 166, 'origin_time_block': 0}"
        ],
        [
         "3",
         "8.522927166150002e-05",
         "ride_start",
         "{'vehicle_id': 360, 'origin': 166, 'destination': 80, 'travel_time': 0.025089666889341465}"
        ],
        [
         "4",
         "8.87361796135851e-05",
         "rider_arrival",
         "{'region': 231, 'origin_time_block': 0}"
        ],
        [
         "5",
         "8.87361796135851e-05",
         "ride_start",
         "{'vehicle_id': 257, 'origin': 231, 'destination': 202, 'travel_time': 0.3584477451085829}"
        ],
        [
         "6",
         "0.00010723192448564576",
         "rider_arrival",
         "{'region': 72, 'origin_time_block': 0}"
        ],
        [
         "7",
         "0.00010723192448564576",
         "ride_start",
         "{'vehicle_id': 268, 'origin': 72, 'destination': 131, 'travel_time': 1.1503829402033856}"
        ],
        [
         "8",
         "0.0002515700642905227",
         "rider_arrival",
         "{'region': 123, 'origin_time_block': 0}"
        ],
        [
         "9",
         "0.0002515700642905227",
         "ride_start",
         "{'vehicle_id': 160, 'origin': 123, 'destination': 204, 'travel_time': 0.24923959213864136}"
        ],
        [
         "10",
         "0.0002969468135834846",
         "rider_arrival",
         "{'region': 145, 'origin_time_block': 0}"
        ],
        [
         "11",
         "0.0002969468135834846",
         "ride_start",
         "{'vehicle_id': 37, 'origin': 145, 'destination': 145, 'travel_time': 0.18249082291945415}"
        ],
        [
         "12",
         "0.00034135298567668633",
         "rider_arrival",
         "{'region': 150, 'origin_time_block': 0}"
        ],
        [
         "13",
         "0.00034135298567668633",
         "ride_start",
         "{'vehicle_id': 385, 'origin': 150, 'destination': 170, 'travel_time': 0.035737979019439224}"
        ],
        [
         "14",
         "0.0003560081265912424",
         "rider_arrival",
         "{'region': 128, 'origin_time_block': 0}"
        ],
        [
         "15",
         "0.0003560081265912424",
         "ride_start",
         "{'vehicle_id': 163, 'origin': 128, 'destination': 29, 'travel_time': 0.2267196847779596}"
        ],
        [
         "16",
         "0.0003667504578439855",
         "rider_arrival",
         "{'region': 30, 'origin_time_block': 0}"
        ],
        [
         "17",
         "0.0003667504578439855",
         "ride_start",
         "{'vehicle_id': 2, 'origin': 30, 'destination': 58, 'travel_time': 0.26382148968424646}"
        ],
        [
         "18",
         "0.00037707929708176777",
         "rider_arrival",
         "{'region': 129, 'origin_time_block': 0}"
        ],
        [
         "19",
         "0.00037707929708176777",
         "ride_start",
         "{'vehicle_id': 483, 'origin': 129, 'destination': 225, 'travel_time': 0.1412557501172571}"
        ],
        [
         "20",
         "0.00046595708639939125",
         "rider_arrival",
         "{'region': 207, 'origin_time_block': 0}"
        ],
        [
         "21",
         "0.00046595708639939125",
         "ride_start",
         "{'vehicle_id': 374, 'origin': 207, 'destination': 207, 'travel_time': 0.43393662317291787}"
        ],
        [
         "22",
         "0.0004670315746885773",
         "rider_arrival",
         "{'region': 122, 'origin_time_block': 0}"
        ],
        [
         "23",
         "0.0004670315746885773",
         "ride_start",
         "{'vehicle_id': 210, 'origin': 122, 'destination': 118, 'travel_time': 0.23873579795777036}"
        ],
        [
         "24",
         "0.0005233667259813266",
         "rider_arrival",
         "{'region': 29, 'origin_time_block': 0}"
        ],
        [
         "25",
         "0.0005233667259813266",
         "ride_start",
         "{'vehicle_id': 3, 'origin': 29, 'destination': 64, 'travel_time': 0.2375404664305884}"
        ],
        [
         "26",
         "0.0006194607441163578",
         "rider_arrival",
         "{'region': 71, 'origin_time_block': 0}"
        ],
        [
         "27",
         "0.0006194607441163578",
         "ride_start",
         "{'vehicle_id': 24, 'origin': 71, 'destination': 53, 'travel_time': 0.5606257563234619}"
        ],
        [
         "28",
         "0.0006455385322727169",
         "rider_arrival",
         "{'region': 61, 'origin_time_block': 0}"
        ],
        [
         "29",
         "0.0006455385322727169",
         "ride_start",
         "{'vehicle_id': 293, 'origin': 61, 'destination': 218, 'travel_time': 0.7082846978169017}"
        ],
        [
         "30",
         "0.0007372896000354956",
         "rider_arrival",
         "{'region': 225, 'origin_time_block': 0}"
        ],
        [
         "31",
         "0.0007372896000354956",
         "ride_start",
         "{'vehicle_id': 333, 'origin': 225, 'destination': 233, 'travel_time': 0.30555077898816835}"
        ],
        [
         "32",
         "0.0007627651880028465",
         "rider_arrival",
         "{'region': 37, 'origin_time_block': 0}"
        ],
        [
         "33",
         "0.0007627651880028465",
         "ride_start",
         "{'vehicle_id': 387, 'origin': 37, 'destination': 193, 'travel_time': 0.16375677585042062}"
        ],
        [
         "34",
         "0.0007919238511027153",
         "rider_arrival",
         "{'region': 131, 'origin_time_block': 0}"
        ],
        [
         "35",
         "0.0007919238511027153",
         "ride_start",
         "{'vehicle_id': 85, 'origin': 131, 'destination': 226, 'travel_time': 0.09249008459536923}"
        ],
        [
         "36",
         "0.0008238942189292346",
         "rider_arrival",
         "{'region': 162, 'origin_time_block': 0}"
        ],
        [
         "37",
         "0.0008238942189292346",
         "ride_start",
         "{'vehicle_id': 87, 'origin': 162, 'destination': 9, 'travel_time': 3.0504365917496785}"
        ],
        [
         "38",
         "0.0008752895228684274",
         "rider_arrival",
         "{'region': 7, 'origin_time_block': 0}"
        ],
        [
         "39",
         "0.0008752895228684274",
         "ride_start",
         "{'vehicle_id': 632, 'origin': 7, 'destination': 206, 'travel_time': 0.4182949130314826}"
        ],
        [
         "40",
         "0.0008856947032413263",
         "rider_arrival",
         "{'region': 36, 'origin_time_block': 0}"
        ],
        [
         "41",
         "0.0008856947032413263",
         "ride_start",
         "{'vehicle_id': 201, 'origin': 36, 'destination': 161, 'travel_time': 0.05924066619645175}"
        ],
        [
         "42",
         "0.0009648676175784298",
         "rider_arrival",
         "{'region': 29, 'origin_time_block': 0}"
        ],
        [
         "43",
         "0.0009648676175784298",
         "ride_start",
         "{'vehicle_id': 924, 'origin': 29, 'destination': 197, 'travel_time': 0.5341538940659559}"
        ],
        [
         "44",
         "0.0010614369350965482",
         "rider_arrival",
         "{'region': 214, 'origin_time_block': 0}"
        ],
        [
         "45",
         "0.0010614369350965482",
         "ride_start",
         "{'vehicle_id': 176, 'origin': 214, 'destination': 182, 'travel_time': 0.040536481025278216}"
        ],
        [
         "46",
         "0.0010825642028243273",
         "rider_arrival",
         "{'region': 66, 'origin_time_block': 0}"
        ],
        [
         "47",
         "0.0010825642028243273",
         "ride_start",
         "{'vehicle_id': 473, 'origin': 66, 'destination': 70, 'travel_time': 0.289014814757432}"
        ],
        [
         "48",
         "0.001084900489454065",
         "rider_arrival",
         "{'region': 128, 'origin_time_block': 0}"
        ],
        [
         "49",
         "0.001084900489454065",
         "ride_start",
         "{'vehicle_id': 232, 'origin': 128, 'destination': 60, 'travel_time': 0.3151760986752384}"
        ]
       ],
       "shape": {
        "columns": 3,
        "rows": 3448239
       }
      },
      "text/html": [
       "<div>\n",
       "<style scoped>\n",
       "    .dataframe tbody tr th:only-of-type {\n",
       "        vertical-align: middle;\n",
       "    }\n",
       "\n",
       "    .dataframe tbody tr th {\n",
       "        vertical-align: top;\n",
       "    }\n",
       "\n",
       "    .dataframe thead th {\n",
       "        text-align: right;\n",
       "    }\n",
       "</style>\n",
       "<table border=\"1\" class=\"dataframe\">\n",
       "  <thead>\n",
       "    <tr style=\"text-align: right;\">\n",
       "      <th></th>\n",
       "      <th>time</th>\n",
       "      <th>event_type</th>\n",
       "      <th>data</th>\n",
       "    </tr>\n",
       "  </thead>\n",
       "  <tbody>\n",
       "    <tr>\n",
       "      <th>0</th>\n",
       "      <td>0.000075</td>\n",
       "      <td>rider_arrival</td>\n",
       "      <td>{'region': 141, 'origin_time_block': 0}</td>\n",
       "    </tr>\n",
       "    <tr>\n",
       "      <th>1</th>\n",
       "      <td>0.000075</td>\n",
       "      <td>ride_start</td>\n",
       "      <td>{'vehicle_id': 52, 'origin': 141, 'destination...</td>\n",
       "    </tr>\n",
       "    <tr>\n",
       "      <th>2</th>\n",
       "      <td>0.000085</td>\n",
       "      <td>rider_arrival</td>\n",
       "      <td>{'region': 166, 'origin_time_block': 0}</td>\n",
       "    </tr>\n",
       "    <tr>\n",
       "      <th>3</th>\n",
       "      <td>0.000085</td>\n",
       "      <td>ride_start</td>\n",
       "      <td>{'vehicle_id': 360, 'origin': 166, 'destinatio...</td>\n",
       "    </tr>\n",
       "    <tr>\n",
       "      <th>4</th>\n",
       "      <td>0.000089</td>\n",
       "      <td>rider_arrival</td>\n",
       "      <td>{'region': 231, 'origin_time_block': 0}</td>\n",
       "    </tr>\n",
       "    <tr>\n",
       "      <th>...</th>\n",
       "      <td>...</td>\n",
       "      <td>...</td>\n",
       "      <td>...</td>\n",
       "    </tr>\n",
       "    <tr>\n",
       "      <th>3448234</th>\n",
       "      <td>71.999874</td>\n",
       "      <td>rider_arrival</td>\n",
       "      <td>{'region': 226, 'origin_time_block': 71}</td>\n",
       "    </tr>\n",
       "    <tr>\n",
       "      <th>3448235</th>\n",
       "      <td>71.999901</td>\n",
       "      <td>rider_lost</td>\n",
       "      <td>{'region': 61}</td>\n",
       "    </tr>\n",
       "    <tr>\n",
       "      <th>3448236</th>\n",
       "      <td>71.999901</td>\n",
       "      <td>rider_arrival</td>\n",
       "      <td>{'region': 61, 'origin_time_block': 71}</td>\n",
       "    </tr>\n",
       "    <tr>\n",
       "      <th>3448237</th>\n",
       "      <td>72.000050</td>\n",
       "      <td>rider_lost</td>\n",
       "      <td>{'region': 189}</td>\n",
       "    </tr>\n",
       "    <tr>\n",
       "      <th>3448238</th>\n",
       "      <td>72.000050</td>\n",
       "      <td>rider_arrival</td>\n",
       "      <td>{'region': 189, 'origin_time_block': 71}</td>\n",
       "    </tr>\n",
       "  </tbody>\n",
       "</table>\n",
       "<p>3448239 rows × 3 columns</p>\n",
       "</div>"
      ],
      "text/plain": [
       "              time     event_type  \\\n",
       "0         0.000075  rider_arrival   \n",
       "1         0.000075     ride_start   \n",
       "2         0.000085  rider_arrival   \n",
       "3         0.000085     ride_start   \n",
       "4         0.000089  rider_arrival   \n",
       "...            ...            ...   \n",
       "3448234  71.999874  rider_arrival   \n",
       "3448235  71.999901     rider_lost   \n",
       "3448236  71.999901  rider_arrival   \n",
       "3448237  72.000050     rider_lost   \n",
       "3448238  72.000050  rider_arrival   \n",
       "\n",
       "                                                      data  \n",
       "0                  {'region': 141, 'origin_time_block': 0}  \n",
       "1        {'vehicle_id': 52, 'origin': 141, 'destination...  \n",
       "2                  {'region': 166, 'origin_time_block': 0}  \n",
       "3        {'vehicle_id': 360, 'origin': 166, 'destinatio...  \n",
       "4                  {'region': 231, 'origin_time_block': 0}  \n",
       "...                                                    ...  \n",
       "3448234           {'region': 226, 'origin_time_block': 71}  \n",
       "3448235                                     {'region': 61}  \n",
       "3448236            {'region': 61, 'origin_time_block': 71}  \n",
       "3448237                                    {'region': 189}  \n",
       "3448238           {'region': 189, 'origin_time_block': 71}  \n",
       "\n",
       "[3448239 rows x 3 columns]"
      ]
     },
     "execution_count": 8,
     "metadata": {},
     "output_type": "execute_result"
    }
   ],
   "source": [
    "df_log"
   ]
  },
  {
   "cell_type": "code",
   "execution_count": null,
   "metadata": {},
   "outputs": [],
   "source": []
  }
 ],
 "metadata": {
  "kernelspec": {
   "display_name": "Python 3 (ipykernel)",
   "language": "python",
   "name": "python3"
  },
  "language_info": {
   "codemirror_mode": {
    "name": "ipython",
    "version": 3
   },
   "file_extension": ".py",
   "mimetype": "text/x-python",
   "name": "python",
   "nbconvert_exporter": "python",
   "pygments_lexer": "ipython3",
   "version": "3.9.7"
  }
 },
 "nbformat": 4,
 "nbformat_minor": 2
}
